{
 "cells": [
  {
   "cell_type": "markdown",
   "metadata": {
    "id": "Uo-5YyiN1qUQ"
   },
   "source": [
    "# **Rete Neurale**"
   ]
  },
  {
   "cell_type": "code",
   "execution_count": null,
   "metadata": {
    "colab": {
     "base_uri": "https://localhost:8080/"
    },
    "executionInfo": {
     "elapsed": 1400,
     "status": "ok",
     "timestamp": 1644401660519,
     "user": {
      "displayName": "Christian Stefani",
      "photoUrl": "https://lh3.googleusercontent.com/a/default-user=s64",
      "userId": "06302632098110207804"
     },
     "user_tz": -60
    },
    "id": "cGezP7DUd83n",
    "outputId": "70a2ecec-9622-48c5-edf8-cc35bb4a71ad"
   },
   "outputs": [],
   "source": [
    "#from google.colab import drive\n",
    "#drive.mount('/content/drive')"
   ]
  },
  {
   "cell_type": "code",
   "execution_count": null,
   "metadata": {
    "executionInfo": {
     "elapsed": 4765,
     "status": "ok",
     "timestamp": 1644401665283,
     "user": {
      "displayName": "Christian Stefani",
      "photoUrl": "https://lh3.googleusercontent.com/a/default-user=s64",
      "userId": "06302632098110207804"
     },
     "user_tz": -60
    },
    "id": "G6SyPNP3EqfQ"
   },
   "outputs": [],
   "source": [
    "#Normal libraries\n",
    "\n",
    "from pandas import read_csv\n",
    "import pandas as pd\n",
    "import numpy as np\n",
    "import datetime\n",
    "\n",
    "#Library to build a model using keras that is build on tensorflow\n",
    "#(a library on how to handle tensor and their function)\n",
    "from keras.models import Sequential\n",
    "from keras.layers import Dense\n",
    "from keras.layers import Dropout\n",
    "\n",
    "#Libraries about the learning process of the actual AI\n",
    "from keras.callbacks import ModelCheckpoint\n",
    "from keras.wrappers.scikit_learn import KerasRegressor\n",
    "from sklearn.model_selection import cross_val_score\n",
    "from sklearn.model_selection import KFold\n",
    "from sklearn.pipeline import Pipeline\n",
    "from sklearn.model_selection import train_test_split\n",
    "\n",
    "#Useful libraries, in these days I'll try to learn pyplot, probably could be way better\n",
    "from matplotlib import pyplot as plt\n",
    "import math"
   ]
  },
  {
   "cell_type": "code",
   "execution_count": null,
   "metadata": {
    "colab": {
     "base_uri": "https://localhost:8080/"
    },
    "executionInfo": {
     "elapsed": 9,
     "status": "ok",
     "timestamp": 1644401665284,
     "user": {
      "displayName": "Christian Stefani",
      "photoUrl": "https://lh3.googleusercontent.com/a/default-user=s64",
      "userId": "06302632098110207804"
     },
     "user_tz": -60
    },
    "id": "pg2TkwIjfAHz",
    "outputId": "476a55bb-f36b-4c19-fabf-1352aeef1cb7"
   },
   "outputs": [],
   "source": [
    "#These Dataset are easier to handle, have little less information but are still usefull to start\n",
    "\n",
    "df8 = read_csv(\"./DataSet_FBK/StChiara.csv\",sep=\",\",header=0)\n",
    "df_APPA = read_csv(\"./DataSet_APPA/APPA1.csv\", sep = \",\",header = 0)\n",
    "\n",
    "df8.ts = pd.to_datetime(df8.ts)\n",
    "df_APPA.Time = pd.to_datetime(df_APPA.Time)\n",
    "\n",
    "print(df8)\n",
    "print(df_APPA)\n",
    "\n",
    "a1 = \"mean_absolute_error\"\n",
    "a2 = \"mean_squared_error\"\n",
    "aper = \"mean_absolute_percentage_error\""
   ]
  },
  {
   "cell_type": "code",
   "execution_count": null,
   "metadata": {},
   "outputs": [],
   "source": [
    "timezone_offset = datetime.timedelta(hours=2)\n",
    "timezone = datetime.timezone(timezone_offset)\n",
    "\n",
    "df_APPA.Time = df_APPA.Time.apply(lambda x: x.replace(tzinfo=timezone))\n",
    "df_APPA.rename(columns = {\"Time\":\"ts\"}, inplace = True)"
   ]
  },
  {
   "cell_type": "code",
   "execution_count": null,
   "metadata": {},
   "outputs": [],
   "source": [
    "\n",
    "\n",
    "\n",
    "print(df8.describe())"
   ]
  },
  {
   "cell_type": "code",
   "execution_count": null,
   "metadata": {},
   "outputs": [],
   "source": [
    "df_tot = df8.set_index(\"ts\").resample(\"1H\").mean().reset_index().merge(df_APPA)"
   ]
  },
  {
   "cell_type": "code",
   "execution_count": null,
   "metadata": {},
   "outputs": [],
   "source": [
    "change = {}\n",
    "for i in range(1,9):\n",
    "    change[\"S\" +str(i)+\"_R1\"] = \"T\" + str(i)\n",
    "    change[\"S\" +str(i)+\"_R2\"] = \"R\" + str(i)\n",
    "    change[\"S\"+ str(i)+\"_Voltage\"] = \"V\"+str(i)\n"
   ]
  },
  {
   "cell_type": "code",
   "execution_count": null,
   "metadata": {
    "executionInfo": {
     "elapsed": 6,
     "status": "ok",
     "timestamp": 1644401665619,
     "user": {
      "displayName": "Christian Stefani",
      "photoUrl": "https://lh3.googleusercontent.com/a/default-user=s64",
      "userId": "06302632098110207804"
     },
     "user_tz": -60
    },
    "id": "-TXI3AncnU3z"
   },
   "outputs": [],
   "source": [
    "#Just to convert them all to flaot and to cancel the missing data. Notice that by missing data in this\n",
    "# case I am referring to actual missing data, where for example the push to the database process failed \n",
    "# we are not adressing the possibility of broken sensor or broken pump or time drift\n",
    "df8 = df_tot\n",
    "df8 = df8.rename(columns=change)\n",
    "df8.ts = df8.ts.apply(lambda x: x.replace(tzinfo=None))\n",
    "df8 = df8.set_index(\"ts\")\n",
    "df8 = df8.apply(pd.to_numeric, errors='coerce')\n",
    "df8 = df8.dropna()\n",
    "#You can print the correlaction table with all the data, notice that you can focus on \n",
    "# fixed interval to see if the table is\n",
    "#different, and try to get why\n",
    "corrcomplete = df8.corr()\n",
    "corrcomplete.style.background_gradient(cmap='coolwarm')"
   ]
  },
  {
   "cell_type": "code",
   "execution_count": null,
   "metadata": {},
   "outputs": [],
   "source": [
    "#This is really an important function as it can permit you to see the data in a more readable way. Notice that you can tweak\n",
    "#all the dependence of the plot that I defined and used. The dataset that you see is already filtered as I added the provision\n",
    "# df8[\"T\" + str(i)] < 160, this is because if you have the resistance of the Heater over 200 Ohm the single sensor is broken.\n",
    "#You can check this intuition just by taking out that provision and see what else you can notice, maybe taking about other problem\n",
    "#about sensor signal and sensor replacements\n",
    "\n",
    "import matplotlib.gridspec as gridspec\n",
    "\n",
    "fig = plt.figure(figsize=(25, 30))\n",
    "fig.suptitle('Gas')\n",
    "outer = gridspec.GridSpec(4,2, wspace=0.2, hspace=0.2)\n",
    "cl=df8.columns\n",
    "annostr = [\"R\",\"T\"]\n",
    "gas=[\"PM10\",\"Biossido di Azoto\",\"Ozono\",\"Biossido Zolfo\"]\n",
    "color=[\"blue\",\"green\"]\n",
    "count = 0\n",
    "for i in range(1,9):\n",
    "    inner = gridspec.GridSpecFromSubplotSpec(2, 1,\n",
    "                    subplot_spec=outer[i-1], wspace=0.1, hspace=0.2)\n",
    "\n",
    "    for j in range(2):\n",
    "        ax = plt.Subplot(fig, inner[j])\n",
    "        ax.plot(df8.loc[df8[\"T\" + str(i)] < 160][:].index, df8.loc[df8[\"T\" + str(i)] < 160][:][annostr[j]+str(i)],'tab:'+color[j], label=annostr[j]+\" \"+str(i))\n",
    "        ax.legend()\n",
    "        fig.add_subplot(ax)\n",
    "#fig.savefig('APPA1-2021-22.png', dpi=600, bbox_inches='tight')\n",
    "fig.show()"
   ]
  },
  {
   "cell_type": "markdown",
   "metadata": {},
   "source": [
    "# A Little detailed example on how to visualize data"
   ]
  },
  {
   "cell_type": "code",
   "execution_count": null,
   "metadata": {},
   "outputs": [],
   "source": [
    "import plotly.express as px\n",
    "fig = px.scatter(x=df8[\"1/1/2021\":\"30/06/2021\"].R1, y=df8[\"1/1/2021\":\"30/06/2021\"].R2, color = df8[\"1/1/2021\":\"30/06/2021\"][\"T\"])\n",
    "fig.show()"
   ]
  },
  {
   "cell_type": "code",
   "execution_count": null,
   "metadata": {
    "scrolled": true
   },
   "outputs": [],
   "source": [
    "#This is an example of how to perform some data visualization. Take note that plotly is probably way better to do the exact same\n",
    "\n",
    "\n",
    "#For now I will just teach you the basic of to make plots with matplotlib, in general if you have question, ask me or ask google\n",
    "#The second one knows more things usually \n",
    "#You are defining the \"Canvas\" or the space where you are drawing the plots\n",
    "fig,(ax1,ax2) = plt.subplots(nrows=1, ncols=2, figsize=(20, 7))\n",
    "#Definition of the two plots, notice that you can add a third dimension through the use of the color of the points,\n",
    "#Again plotly actually seems to do the job in a better way, you can tweak the variable to see if you can notice something\n",
    "ax1.scatter(df8[\"07/01/2021\":][\"Biossido di Azoto\"], df8[\"07/01/2021\":].R2, c =  df8[\"07/01/2021\":].T2,label='Gennaio-Giugno 2021')\n",
    "ax2.scatter(df8[\"07/01/2021\":][\"Ozono\"], df8[\"07/01/2021\":].R2, c =  df8[\"07/01/2021\":].T2,label='Gennaio-Giugno 2021')\n",
    "\n",
    "#Legends, title and title axes of the two graph\n",
    "ax2.set_title('Answer of LaFeO3 to NO2')\n",
    "ax2.set_xlabel('NO2 Concentration')\n",
    "ax2.set_ylabel('LaFeO3  Sensor signal')\n",
    "ax1.set_title('Answer of LaFeO3 to O3')\n",
    "ax1.set_xlabel('O3 Concentration')\n",
    "ax1.set_ylabel('LaFeO3  Sensor signal')\n",
    "#You can in general: set a limit to each axis, add text, save the figure, use a logaritmic scale either on the X or the Y, just try and see what works or not\n",
    "#ax2.set_ylim((0,0.2*10**8))\n",
    "#ax2.text(0.02, 0.86, \"$\\mathregular{R^2}$ = \" + str(round(r_squared,3)) + \"  RMS  = \"  + str(round(rms,3))+ \" ppb\", transform=ax2.transAxes, fontsize=14,verticalalignment='top', bbox=props)\n",
    "ax2.legend()\n",
    "#plt.savefig('PM10allRPredict.png', dpi=600, bbox_inches='tight')\n",
    "plt.show()"
   ]
  },
  {
   "cell_type": "code",
   "execution_count": null,
   "metadata": {},
   "outputs": [],
   "source": [
    "fig,(ax1,ax2) = plt.subplots(nrows=1, ncols=2, figsize=(20, 7))\n",
    "ax1.scatter(df8[\"07/01/2021\":\"12/31/2021\"][\"Biossido di Azoto\"], df8[\"07/01/2021\":\"12/31/2021\"].R2, c = df8[\"07/01/2021\":\"12/31/2021\"].T2)\n",
    "ax2.scatter(df8[\"07/01/2021\":\"12/31/2021\"][\"Ozono\"], df8[\"07/01/2021\":\"12/31/2021\"].R2, c = df8[\"07/01/2021\":\"12/31/2021\"].T2)\n",
    "ax2.set_title('Risposta SmFeO3 nel tempo')\n",
    "ax2.set_xlabel('Concentrazione Biossido di Azoto')\n",
    "ax2.set_ylabel('SmFeO3  Risposta')\n",
    "#ax2.set_ylim((0,6400000)) \n",
    "#ax2.set_ylim((0,7500000)) TEMP\n",
    "#ax2.set_ylim((0.075*10**8,0.16*10**8))\n",
    "#ax2.text(0.02, 0.86, \"$\\mathregular{R^2}$ = \" + str(round(r_squared,3)) + \"  RMS  = \"  + str(round(rms,3))+ \" ppb\", transform=ax2.transAxes, fontsize=14,verticalalignment='top', bbox=props)\n",
    "ax2.legend()\n",
    "#plt.savefig('PM10allRPredict.png', dpi=600, bbox_inches='tight')\n",
    "plt.show()"
   ]
  },
  {
   "cell_type": "code",
   "execution_count": null,
   "metadata": {},
   "outputs": [],
   "source": [
    "props = dict(boxstyle='round', facecolor='wheat', alpha=0.5)\n",
    "fig = plt.figure(figsize=(8,5))\n",
    "ax2 = fig.add_subplot()\n",
    "ax = ax2.twinx()\n",
    "ax2.plot(df8[\"07/01/2021\":\"07/10/2021\"].index, df8[\"07/01/2021\":\"07/10/2021\"].Ozono, label='First Month')\n",
    "ax.plot(df8[\"07/01/2021\":\"07/10/2021\"].index, df8[\"07/01/2021\":\"07/10/2021\"].R5, c = \"red\", alpha = 0.2, label='March-July 2021')\n",
    "ax2.set_title('Initial lag of ZnOR')\n",
    "ax2.set_xlabel('Ozone Concentration')\n",
    "ax2.set_ylabel('ZnOR Sensor Signal')\n",
    "ax2.legend()\n",
    "plt.show()"
   ]
  },
  {
   "cell_type": "code",
   "execution_count": null,
   "metadata": {},
   "outputs": [],
   "source": [
    "props = dict(boxstyle='round', facecolor='wheat', alpha=0.5)\n",
    "fig = plt.figure(figsize=(8,5))\n",
    "ax2 = fig.add_subplot()\n",
    "ax2.scatter(df8[\"01/15/2022\":\"02/15/2022\"][\"Biossido di Azoto\"], df8[\"01/15/2022\":\"02/15/2022\"].R7, label='Jan 2022')\n",
    "ax2.scatter(df8[\"02/15/2022\":\"03/08/2022\"][\"Biossido di Azoto\"], df8[\"02/15/2022\":\"03/08/2022\"].R7, label='Feb - March 2022')\n",
    "ax2.scatter(df8[\"03/08/2022\":\"04/03/2022\"][\"Biossido di Azoto\"], df8[\"03/08/2022\":\"04/03/2022\"].R7, label='March - April 2022')\n",
    "ax2.set_title('SmFeO3')\n",
    "ax2.set_xlabel('Nitrogen Dioxide Concentration')\n",
    "ax2.set_ylabel('SmFeO3  Sensor Signal')\n",
    "ax2.legend()\n",
    "plt.show()"
   ]
  },
  {
   "cell_type": "code",
   "execution_count": null,
   "metadata": {},
   "outputs": [],
   "source": [
    "props = dict(boxstyle='round', facecolor='wheat', alpha=0.5)\n",
    "fig = plt.figure(figsize=(8,5))\n",
    "ax2 = fig.add_subplot()\n",
    "ax = ax2.twinx()\n",
    "ax2.plot(df8[\"01/15/2022\":\"04/03/2022\"].index, df8[\"01/15/2022\":\"04/03/2022\"].R7)\n",
    "ax.plot(df8[\"01/15/2022\":\"04/03/2022\"].index, df8[\"01/15/2022\":\"04/03/2022\"][\"Biossido di Azoto\"], c=\"r\" )\n",
    "ax2.set_title('Change in Sensor Answer')\n",
    "ax2.set_ylabel('SmFeO3 Answer')\n",
    "ax.set_ylabel('Concentration of Nitrogen Dioxide')\n",
    "plt.show()"
   ]
  },
  {
   "cell_type": "code",
   "execution_count": null,
   "metadata": {},
   "outputs": [],
   "source": [
    "#Here you can see a pump fail in good detail, can you find something similar in the full data, or other \"funny\" things_\n",
    "\n",
    "props = dict(boxstyle='round', facecolor='wheat', alpha=0.5)\n",
    "fig = plt.figure(figsize=(8,5))\n",
    "ax2 = fig.add_subplot()\n",
    "ax2.plot(df8[\"03/05/2022\":\"03/08/2022\"].index, df8[\"03/05/2022\":\"03/08/2022\"].R4, label = \"R4\")\n",
    "ax2.plot(df8[\"03/05/2022\":\"03/08/2022\"].index, df8[\"03/05/2022\":\"03/08/2022\"].R3, label = \"R3\")\n",
    "ax2.plot(df8[\"03/05/2022\":\"03/08/2022\"].index, df8[\"03/05/2022\":\"03/08/2022\"].R8, label = \"R8\")\n",
    "ax2.plot(df8[\"03/05/2022\":\"03/08/2022\"].index, df8[\"03/05/2022\":\"03/08/2022\"].R5, label = \"R5\")\n",
    "ax2.plot(df8[\"03/05/2022\":\"03/08/2022\"].index, df8[\"03/05/2022\":\"03/08/2022\"].R6, label = \"R6\")\n",
    "ax2.set_title('Example of the effect of a pump problem')\n",
    "ax2.set_ylabel('Sensor Resistance [Ω]')\n",
    "ax2.set_xlabel('Time')\n",
    "ax2.legend()\n",
    "plt.show()"
   ]
  },
  {
   "cell_type": "code",
   "execution_count": null,
   "metadata": {},
   "outputs": [],
   "source": [
    "props = dict(boxstyle='round', facecolor='wheat', alpha=0.5)\n",
    "fig = plt.figure(figsize=(8,5))\n",
    "ax2 = fig.add_subplot()\n",
    "ax = ax2.twinx()\n",
    "ax2.plot(df8[\"03/15/2022\":\"04/02/2022\"].index, df8[\"03/15/2022\":\"04/02/2022\"].R7)\n",
    "ax.plot(df8[\"03/15/2022\":\"04/02/2022\"].index, df8[\"03/15/2022\":\"04/02/2022\"][\"Biossido di Azoto\"], c=\"r\", label = \"Biossido d'Azoto\" )\n",
    "ax2.set_title('Detector SmFeO3 in time')\n",
    "ax2.set_ylabel('SmFeO3 Sensor signal')\n",
    "ax.set_ylabel('Concentration of Nitrogen Dioxide')\n",
    "ax2.set_ylim((2.9*10**7,4.2*10**7))\n",
    "ax.legend()\n",
    "plt.show()"
   ]
  },
  {
   "cell_type": "markdown",
   "metadata": {},
   "source": [
    "# Samario Ferro"
   ]
  },
  {
   "cell_type": "code",
   "execution_count": null,
   "metadata": {},
   "outputs": [],
   "source": [
    "props = dict(boxstyle='round', facecolor='wheat', alpha=0.5)\n",
    "fig = plt.figure(figsize=(8,5))\n",
    "ax2 = fig.add_subplot()\n",
    "ax2.scatter(df8[\"01/15/2022\":\"02/15/2022\"][\"Biossido di Azoto\"], df8[\"01/15/2022\":\"02/15/2022\"].R7, label='Gennaio 2022')\n",
    "ax2.scatter(df8[\"02/15/2022\":\"03/08/2022\"][\"Biossido di Azoto\"], df8[\"02/15/2022\":\"03/08/2022\"].R7, label='Metà Febbraio - Metà Marzo 2022')\n",
    "ax2.scatter(df8[\"03/08/2022\":\"04/03/2022\"][\"Biossido di Azoto\"], df8[\"03/08/2022\":\"04/03/2022\"].R7, label='Metà Marzo - Metà Aprile 2022')\n",
    "ax2.scatter(df8[\"04/03/2022\":][\"Biossido di Azoto\"], df8[\"04/03/2022\":].R7, label='Post Cambio Pompa')\n",
    "ax2.set_title('Detector SmFeO3 in time')\n",
    "ax2.set_ylabel('SmFeO3 Sensor signal')\n",
    "ax.set_ylabel('Concentration of Nitrogen Dioxide')\n",
    "ax2.legend()\n",
    "plt.show()"
   ]
  },
  {
   "cell_type": "code",
   "execution_count": null,
   "metadata": {},
   "outputs": [],
   "source": [
    "props = dict(boxstyle='round', facecolor='wheat', alpha=0.5)\n",
    "fig = plt.figure(figsize=(10,7))\n",
    "ax2 = fig.add_subplot()\n",
    "ax = ax2.twinx()\n",
    "ax2.scatter(df8[\"01/15/2022\":\"02/15/2022\"].index, df8[\"01/15/2022\":\"02/15/2022\"].TEMP)\n",
    "ax2.scatter(df8[\"02/15/2022\":\"03/08/2022\"].index, df8[\"02/15/2022\":\"03/08/2022\"].TEMP)\n",
    "ax2.scatter(df8[\"03/08/2022\":\"04/03/2022\"].index, df8[\"03/08/2022\":\"04/03/2022\"].TEMP)\n",
    "ax2.scatter(df8[\"04/03/2022\":].index, df8[\"04/03/2022\":].TEMP)\n",
    "\n",
    "ax2.set_title('Strange Temperature drops, who knows what really happens')\n",
    "ax2.set_xlabel('Time')\n",
    "ax2.set_ylabel('Temperature')\n",
    "plt.show()"
   ]
  },
  {
   "cell_type": "code",
   "execution_count": null,
   "metadata": {},
   "outputs": [],
   "source": [
    "props = dict(boxstyle='round', facecolor='wheat', alpha=0.5)\n",
    "fig = plt.figure(figsize=(10,7))\n",
    "ax2 = fig.add_subplot()\n",
    "ax = ax2.twinx()\n",
    "ax2.scatter(df8[\"01/15/2022\":\"02/15/2022\"].index, df8[\"01/15/2022\":\"02/15/2022\"].HUM, label='Jan 2022')\n",
    "ax2.scatter(df8[\"02/15/2022\":\"03/08/2022\"].index, df8[\"02/15/2022\":\"03/08/2022\"].HUM, label='Feb - March 2022')\n",
    "ax2.scatter(df8[\"03/08/2022\":\"04/03/2022\"].index, df8[\"03/08/2022\":\"04/03/2022\"].HUM, label='March - April 2022')\n",
    "ax2.scatter(df8[\"04/03/2022\":].index, df8[\"04/03/2022\":].HUM, label='Post Cambio Pompa')\n",
    "\n",
    "ax2.set_title('Humidity over time')\n",
    "ax2.set_xlabel('Time')\n",
    "ax2.set_ylabel('Humidity Sensor')\n",
    "ax2.legend()\n",
    "plt.show()"
   ]
  },
  {
   "cell_type": "code",
   "execution_count": null,
   "metadata": {},
   "outputs": [],
   "source": [
    "corrcomplete1 = df8[\"02/15/2022\":\"03/09/2022\"].corr()\n",
    "\n",
    "corrcomplete1.style.background_gradient(cmap='coolwarm')"
   ]
  },
  {
   "cell_type": "code",
   "execution_count": null,
   "metadata": {},
   "outputs": [],
   "source": [
    "corrcomplete2 = df10.corr()\n",
    "\n",
    "corrcomplete2.style.background_gradient(cmap='coolwarm')"
   ]
  },
  {
   "cell_type": "markdown",
   "metadata": {},
   "source": [
    "Real naive example of a machine learning process, name all the error that are made in it."
   ]
  },
  {
   "cell_type": "code",
   "execution_count": null,
   "metadata": {
    "executionInfo": {
     "elapsed": 5,
     "status": "ok",
     "timestamp": 1644401665619,
     "user": {
      "displayName": "Christian Stefani",
      "photoUrl": "https://lh3.googleusercontent.com/a/default-user=s64",
      "userId": "06302632098110207804"
     },
     "user_tz": -60
    },
    "id": "NkDUW9WUf2f3"
   },
   "outputs": [],
   "source": [
    "#Real Machine Learning part, split the data and the object\n",
    "\n",
    "X = df8.drop('Ozono', axis = 1)\n",
    "X = X.drop('Biossido Zolfo', axis = 1)\n",
    "X = X.drop('PM10', axis = 1)\n",
    "X = X.drop('Biossido di Azoto', axis = 1)\n",
    "X = X.drop('Ossido di Carbonio', axis = 1)\n",
    "\n",
    "y = df8[['Ozono','Biossido Zolfo','PM10','Biossido di Azoto','Ossido di Carbonio']].copy()\n",
    "\n",
    "INPUT_DIM = 18"
   ]
  },
  {
   "cell_type": "code",
   "execution_count": null,
   "metadata": {
    "executionInfo": {
     "elapsed": 5,
     "status": "ok",
     "timestamp": 1644401665620,
     "user": {
      "displayName": "Christian Stefani",
      "photoUrl": "https://lh3.googleusercontent.com/a/default-user=s64",
      "userId": "06302632098110207804"
     },
     "user_tz": -60
    },
    "id": "QuSPJwvNljy-"
   },
   "outputs": [],
   "source": [
    "#I just called the test validation set, but I promis you that it will make someday sense\n",
    "X_train, X_val, y_train, y_val = train_test_split(X, y, test_size = 0.3, random_state = 20)"
   ]
  },
  {
   "cell_type": "code",
   "execution_count": null,
   "metadata": {
    "executionInfo": {
     "elapsed": 5,
     "status": "ok",
     "timestamp": 1644401665620,
     "user": {
      "displayName": "Christian Stefani",
      "photoUrl": "https://lh3.googleusercontent.com/a/default-user=s64",
      "userId": "06302632098110207804"
     },
     "user_tz": -60
    },
    "id": "z6Y5k5KT2GRH"
   },
   "outputs": [],
   "source": [
    "#Scale data, otherwise model will fail.\n",
    "#Standardize features by removing the mean and scaling to unit variance\n",
    "from sklearn.preprocessing import StandardScaler\n",
    "scaler=StandardScaler()\n",
    "scaler.fit(X_train)\n",
    "\n",
    "X_train_scaled = scaler.transform(X_train)\n",
    "X_val_scaled = scaler.transform(X_val)\n",
    "\n",
    "scaler=StandardScaler()\n",
    "scaler.fit(y_train)\n",
    "\n",
    "y_train_s = scaler.transform(y_train)\n",
    "y_val_s = pd.DataFrame(data = scaler.transform(y_val), columns = y_val.columns)"
   ]
  },
  {
   "cell_type": "code",
   "execution_count": null,
   "metadata": {
    "colab": {
     "base_uri": "https://localhost:8080/"
    },
    "executionInfo": {
     "elapsed": 85250,
     "status": "ok",
     "timestamp": 1644401750866,
     "user": {
      "displayName": "Christian Stefani",
      "photoUrl": "https://lh3.googleusercontent.com/a/default-user=s64",
      "userId": "06302632098110207804"
     },
     "user_tz": -60
    },
    "id": "PeF6nLXgn8YU",
    "outputId": "f2f5591d-be95-413e-e309-4af679c5237d"
   },
   "outputs": [],
   "source": [
    "# define the model\n",
    "#Experiment with deeper and wider networks\n",
    "model = Sequential()\n",
    "\n",
    "# Input layer\n",
    "\n",
    "model.add(Dense(128, kernel_initializer='normal',input_dim=INPUT_DIM, activation='selu'))\n",
    "model.add(Dropout(0.2))\n",
    "\n",
    "\n",
    "# The Hidden Layers :\n",
    "model.add(Dense(256, kernel_initializer='normal',activation='selu'))\n",
    "model.add(Dropout(0.2))\n",
    "model.add(Dense(256, kernel_initializer='normal',activation='selu'))\n",
    "model.add(Dropout(0.2))\n",
    "\n",
    "model.add(Dense(256, kernel_initializer='normal',activation='selu'))\n",
    "model.add(Dropout(0.2))\n",
    "\n",
    "#Output layer\n",
    "model.add(Dense(5, kernel_initializer='normal',activation='linear'))\n",
    "\n",
    "model.compile(loss=a2, optimizer='adam', metrics=[a2])\n",
    "model.summary()\n",
    "\n",
    "checkpoint_name = './tmp/checkpoint' \n",
    "checkpoint = ModelCheckpoint(checkpoint_name, monitor='val_loss', verbose = 1, save_best_only = True, mode ='min')\n",
    "callbacks_list = [checkpoint]\n",
    "\n",
    "history = model.fit(X_train_scaled, y_train_s, validation_split=0.2, epochs=300,callbacks=[checkpoint])\n",
    "model.load_weights(checkpoint_name)\n",
    "#wights_file = 'Weights-478--18738.19831.hdf5' # choose the best checkpoint \n",
    "# # load it\n",
    "#model.compile(loss='mean_absolute_error', optimizer='adam', metrics=['mean_absolute_error'])"
   ]
  },
  {
   "cell_type": "markdown",
   "metadata": {
    "id": "_KBPlaS8wnnH"
   },
   "source": [
    "## Prediction on test"
   ]
  },
  {
   "cell_type": "code",
   "execution_count": null,
   "metadata": {
    "id": "_KBPlaS8wnnH"
   },
   "outputs": [],
   "source": [
    "#plot the training and validation accuracy and loss at each epoch\n",
    "loss = history.history['loss']\n",
    "val_loss = history.history['val_loss']\n",
    "epochs = range(1, len(loss) + 1)\n",
    "plt.plot(epochs, loss, 'y', label='Training loss')\n",
    "plt.plot(epochs, val_loss, 'r', label='Validation loss')\n",
    "plt.title('Training and validation loss')\n",
    "plt.xlabel('Epochs')\n",
    "plt.ylabel('Loss')\n",
    "plt.legend()\n",
    "plt.show()\n",
    "\n",
    "\n",
    "acc = history.history['mean_squared_error']\n",
    "val_acc = history.history['val_mean_squared_error']\n",
    "plt.plot(epochs, acc, 'y', label='Training MAE')\n",
    "plt.plot(epochs, val_acc, 'r', label='Validation MAE')\n",
    "plt.title('Training and validation MAE')\n",
    "plt.xlabel('Epochs')\n",
    "plt.ylabel('Accuracy')\n",
    "plt.legend()\n",
    "plt.show()\n",
    "\n",
    "############################################\n",
    "#Predict on test data\n",
    "predictions = model.predict(X_val_scaled)\n",
    "\n",
    "predictions = scaler.inverse_transform(predictions)\n",
    "\n",
    "y_val_ssaved = y_val_s\n",
    "y_val_s = y_val\n",
    "print(\"Predicted values are: \", predictions)\n",
    "print(\"Real values are: \", y_val_s)\n",
    "\n",
    "##############################################\n",
    "#Plot and compare prediction and real value\n",
    "t = np.arange(0, predictions.size, 1)\n",
    "plt.scatter(predictions[:,0], y_val_s[\"Ozono\"], label='Prediction')\n",
    "plt.scatter(y_val_s[\"Ozono\"], y_val_s[\"Ozono\"], label='O3 value')\n",
    "plt.title('Prediction O3')\n",
    "plt.xlabel('Prediction')\n",
    "plt.ylabel('Real Value')\n",
    "plt.legend()\n",
    "plt.savefig('Ozono.png', dpi=300, bbox_inches='tight')\n",
    "plt.show()\n",
    "\n",
    "\n",
    "t = np.arange(0, predictions.size, 1)\n",
    "plt.scatter(predictions[:,1], y_val_s[\"PM10\"], label='Prediction')\n",
    "plt.scatter(y_val_s[\"PM10\"], y_val_s[\"PM10\"], label='PM10 value')\n",
    "plt.title('Prediction PM10')\n",
    "plt.xlabel('Prediction')\n",
    "plt.ylabel('Real Value')\n",
    "plt.legend()\n",
    "plt.show()\n",
    "\n",
    "\n",
    "t = np.arange(0, predictions.size, 1)\n",
    "plt.scatter(predictions[:,2], y_val_s[\"Biossido Zolfo\"], label='Prediction')\n",
    "plt.scatter(y_val_s[\"Biossido Zolfo\"], y_val_s[\"Biossido Zolfo\"], label='Biossido Zolfo value')\n",
    "plt.title('Prediction Biossido Zolfo')\n",
    "plt.xlabel('Prediction')\n",
    "plt.ylabel('Real Value')\n",
    "plt.legend()\n",
    "plt.show()\n",
    "\n",
    "\n",
    "t = np.arange(0, predictions.size, 1)\n",
    "plt.scatter(predictions[:,3], y_val_s[\"Biossido di Azoto\"], label='Prediction')\n",
    "plt.scatter(y_val_s[\"Biossido di Azoto\"], y_val_s[\"Biossido di Azoto\"], label='Biossido di Azoto value')\n",
    "plt.title('Prediction Biossido di Azoto')\n",
    "plt.xlabel('Prediction')\n",
    "plt.ylabel('Real Value')\n",
    "plt.legend()\n",
    "plt.show()\n",
    "\n",
    "\n",
    "t = np.arange(0, predictions.size, 1)\n",
    "plt.scatter(predictions[:,4], y_val_s[\"Ossido di Carbonio\"], label='Prediction')\n",
    "plt.scatter(y_val_s[\"Ossido di Carbonio\"], y_val_s[\"Ossido di Carbonio\"], label='Ossido di Carbonio value')\n",
    "plt.title('Prediction Ossido di Carbonio')\n",
    "plt.xlabel('Prediction')\n",
    "plt.ylabel('Real Value')\n",
    "plt.legend()\n",
    "plt.show()\n"
   ]
  },
  {
   "cell_type": "code",
   "execution_count": null,
   "metadata": {},
   "outputs": [],
   "source": [
    "#From here on there is a lot a graph that I used to gain some information, I don't really want ot edit them until 3 AM, so I'm\n",
    "#sorry if they are in english, you can just ignore them or try to take a look at them, I don't really know if they work anymore\n",
    "\n",
    "supportografico = range(len(y_val_s) )\n",
    "t = np.arange(0, predictions.size, 1)\n",
    "plt.plot(supportografico, y_val_s[\"Ossido di Carbonio\"]-predictions[:,4], 'y', label='$\\mathregular{O_3}$ value')\n",
    "#plt.plot(supportografico, predictions[:100,0], 'r', label='Prediction')\n",
    "plt.title('Prediction $\\mathregular{O_3}$')\n",
    "plt.xlabel('Time')\n",
    "plt.ylabel('Difference between calculated and measured $\\mathregular{O_3}$')\n",
    "plt.legend()\n",
    "plt.show()"
   ]
  },
  {
   "cell_type": "code",
   "execution_count": null,
   "metadata": {},
   "outputs": [],
   "source": [
    "supportografico = range(0,100)\n",
    "t = np.arange(0, predictions.size, 1)\n",
    "plt.plot(supportografico, y_val_s[\"Ossido di Carbonio\"][:100], 'y', label='CO value')\n",
    "plt.plot(supportografico, predictions[:100,4], 'r', label='Prediction')\n",
    "plt.title('Prediction CO')\n",
    "plt.xlabel('Time')\n",
    "plt.ylabel('Value')\n",
    "plt.legend()\n",
    "plt.show()"
   ]
  },
  {
   "cell_type": "code",
   "execution_count": null,
   "metadata": {},
   "outputs": [],
   "source": [
    "supportografico = range(0,100)\n",
    "t = np.arange(0, predictions.size, 1)\n",
    "plt.plot(supportografico, y_val_s[\"PM10\"][:100], 'y', label='PM10 value')\n",
    "plt.plot(supportografico, predictions[:100,1], 'r', label='Prediction')\n",
    "plt.title('Prediction PM10')\n",
    "plt.xlabel('Time')\n",
    "plt.ylabel('Value')\n",
    "plt.legend()\n",
    "plt.show()"
   ]
  },
  {
   "cell_type": "code",
   "execution_count": null,
   "metadata": {},
   "outputs": [],
   "source": [
    "supportografico = range(0,100)\n",
    "t = np.arange(0, predictions.size, 1)\n",
    "plt.plot(supportografico, y_val_s[\"Biossido di Azoto\"][:100], 'y', label='Biossido di Azoto value')\n",
    "plt.plot(supportografico, predictions[:100,3], 'r', label='Prediction')\n",
    "plt.title('Prediction Biossido di Azoto')\n",
    "plt.xlabel('Time')\n",
    "plt.ylabel('Value')\n",
    "plt.legend()\n",
    "plt.show()"
   ]
  },
  {
   "cell_type": "code",
   "execution_count": null,
   "metadata": {},
   "outputs": [],
   "source": [
    "df8.head()"
   ]
  },
  {
   "cell_type": "code",
   "execution_count": null,
   "metadata": {},
   "outputs": [],
   "source": [
    "\n",
    "fig,ax = plt.subplots(figsize=(8,4))\n",
    "ax.scatter(y[\"PM10\"],y[\"Ossido di Carbonio\"])\n",
    "ax.set_xlabel(\"PM10\",fontsize=14)\n",
    "ax.set_ylabel(\"Ossido di Carbonio\",color=\"red\",fontsize=14)\n",
    "plt.show()\n",
    "\n",
    "support = range(len(y))\n",
    "fig,ax = plt.subplots(figsize=(20,4))\n",
    "ax.step(support,y[\"PM10\"],label = \"PM10\" )\n",
    "ax.set_xlabel(\"time\",fontsize=14)\n",
    "ax.set_ylabel(\"concentration [ppm]\",color=\"red\",fontsize=14)\n",
    "ax2=ax.twinx()\n",
    "ax2.step(support,y[\"Ossido di Carbonio\"],color=\"green\",label = \"Ossido di Carbonio\" )\n",
    "ax2.set_ylabel(\"concentration [ppb]\",color=\"red\",fontsize=14)\n",
    "ax.legend()\n",
    "ax2.legend()\n",
    "\n",
    "plt.show()"
   ]
  },
  {
   "cell_type": "code",
   "execution_count": null,
   "metadata": {},
   "outputs": [],
   "source": [
    "support = range(len(df8))\n",
    "fig,ax = plt.subplots(figsize=(20,4))\n",
    "ax.step(support,y[\"Biossido di Azoto\"],label = \"Biossido di Azoto\" )\n",
    "ax.set_xlabel(\"time\",fontsize=14)\n",
    "ax.set_ylabel(\"concentration [ppm]\",color=\"red\",fontsize=14)\n",
    "ax2=ax.twinx()\n",
    "ax2.step(support,y[\"Ossido di Carbonio\"],color=\"green\",label = \"Ossido di Carbonio\" )\n",
    "ax2.set_ylabel(\"concentration [ppb]\",color=\"red\",fontsize=14)\n",
    "ax.legend()\n",
    "ax2.legend()\n",
    "\n",
    "plt.show()"
   ]
  },
  {
   "cell_type": "code",
   "execution_count": null,
   "metadata": {},
   "outputs": [],
   "source": [
    "fig,ax = plt.subplots(figsize=(8,4))\n",
    "\n",
    "ax.set_xlabel(\"Biossido di Azoto\",fontsize=14)\n",
    "ax.set_ylabel(\"Ossido di Carbonio\",color=\"red\",fontsize=14)\n",
    "\n",
    "ax.scatter(y[\"Biossido di Azoto\"],y[\"Ossido di Carbonio\"])\n",
    "plt.show()"
   ]
  },
  {
   "cell_type": "code",
   "execution_count": null,
   "metadata": {},
   "outputs": [],
   "source": [
    "fig,ax = plt.subplots(figsize=(8,4))\n",
    "ax.scatter(y[\"PM10\"],y[\"Biossido di Azoto\"])\n",
    "ax.set_xlabel(\"PM10\",fontsize=14)\n",
    "ax.set_ylabel(\"Biossido di Azoto\",color=\"red\",fontsize=14)\n",
    "plt.show()\n",
    "\n",
    "support = range(len(y))\n",
    "fig,ax = plt.subplots(figsize=(20,4))\n",
    "ax.step(support,y[\"PM10\"],label = \"PM10\" )\n",
    "ax.set_xlabel(\"time\",fontsize=14)\n",
    "ax.set_ylabel(\"concentration [ppm]\",color=\"red\",fontsize=14)\n",
    "ax2=ax.twinx()\n",
    "ax2.step(support,y[\"Biossido di Azoto\"],color=\"green\",label = \"Biossido di Azoto\" )\n",
    "ax2.set_ylabel(\"concentration [ppb]\",color=\"red\",fontsize=14)\n",
    "ax.legend()\n",
    "ax2.legend()\n",
    "\n",
    "plt.show()"
   ]
  },
  {
   "cell_type": "code",
   "execution_count": null,
   "metadata": {},
   "outputs": [],
   "source": [
    "fig,ax = plt.subplots(figsize=(8,4))\n",
    "ax.scatter(y[\"PM10\"],y[\"Biossido di Azoto\"])\n",
    "ax.set_xlabel(\"PM10\",fontsize=14)\n",
    "ax.set_ylabel(\"Biossido di Azoto\",color=\"red\",fontsize=14)\n",
    "plt.show()\n",
    "\n",
    "support = range(len(y))\n",
    "fig,ax = plt.subplots(figsize=(20,4))\n",
    "ax.step(support,y[\"PM10\"],label = \"PM10\" )\n",
    "ax.set_xlabel(\"time\",fontsize=14)\n",
    "ax.set_ylabel(\"concentration [ppm]\",color=\"red\",fontsize=14)\n",
    "ax2=ax.twinx()\n",
    "ax2.step(support,y[\"Biossido di Azoto\"],color=\"green\",label = \"Biossido di Azoto\" )\n",
    "ax2.set_ylabel(\"concentration [ppb]\",color=\"red\",fontsize=14)\n",
    "ax.legend()\n",
    "ax2.legend()\n",
    "\n",
    "plt.show()\n"
   ]
  },
  {
   "cell_type": "code",
   "execution_count": null,
   "metadata": {},
   "outputs": [],
   "source": [
    "fig,ax = plt.subplots(figsize=(8,4))\n",
    "ax.scatter(y[\"PM10\"],y[\"Biossido di Azoto\"])\n",
    "ax.set_xlabel(\"PM10\",fontsize=14)\n",
    "ax.set_ylabel(\"Ozono\",color=\"red\",fontsize=14)\n",
    "plt.show()\n",
    "\n",
    "support = range(len(y))\n",
    "fig,ax = plt.subplots(figsize=(20,4))\n",
    "ax.step(support,y[\"PM10\"],label = \"PM10\" )\n",
    "ax.set_xlabel(\"time\",fontsize=14)\n",
    "ax.set_ylabel(\"concentration [ppm]\",color=\"red\",fontsize=14)\n",
    "ax2=ax.twinx()\n",
    "ax2.step(support,y[\"Ozono\"],color=\"green\",label = \"Ozono\" )\n",
    "ax2.set_ylabel(\"concentration [ppb]\",color=\"red\",fontsize=14)\n",
    "ax.legend()\n",
    "ax2.legend()\n",
    "\n",
    "plt.show()\n"
   ]
  },
  {
   "cell_type": "code",
   "execution_count": null,
   "metadata": {},
   "outputs": [],
   "source": [
    "from sklearn.metrics import mean_squared_error\n",
    "\n",
    "rms = mean_squared_error(y_val_s[\"Ozono\"].values.reshape(len(y_val_s[\"Ozono\"]),1), predictions[:,0], squared=False)**0.5\n",
    "correlation_matrix = np.corrcoef(y_val_s[\"Ozono\"].values, predictions[:,0].T)\n",
    "\n",
    "correlation_xy = correlation_matrix[0,1]\n",
    "\n",
    "r_squared = correlation_xy**2\n",
    "\n",
    "\n",
    "supportografico = range(len(y_val_s) )\n",
    "props = dict(boxstyle='round', facecolor='wheat', alpha=0.5)\n",
    "fig = plt.figure(figsize=(10,7))\n",
    "ax2 = fig.add_subplot()\n",
    "t = np.arange(0, predictions.size, 1)\n",
    "ax2.plot(supportografico, y_val_s[\"Ozono\"], 'b', label='Measured $\\mathregular{O_3}$ concentration')\n",
    "ax2.plot(supportografico, predictions[:,0], 'r', label='Predicted $\\mathregular{O_3}$ concentration')\n",
    "#plt.plot(supportografico, predictions[:100,0], 'r', label='Prediction')\n",
    "ax2.set_title('$\\mathregular{O_3}$ Prediction with all the eigth sensors 13/01/2021-29/04/2021')\n",
    "ax2.set_xlabel('Validation Data')\n",
    "ax2.set_ylabel('$\\mathregular{O_3}$ concentration [\\u03BCg/$\\mathregular{m^3}$]')\n",
    "ax2.text(0.02, 0.82, \"$\\mathregular{R^2}$ = \" + str(round(r_squared,3)) + \"  RMS  = \"  + str(round(rms,3))+ \" ppb\", transform=ax2.transAxes, fontsize=14,verticalalignment='top', bbox=props)\n",
    "ax2.legend()\n",
    "plt.savefig('O3allRPredict.png', dpi=600, bbox_inches='tight')\n",
    "plt.show()\n",
    "\n",
    "\n",
    "fig = plt.figure(figsize=(10,7))\n",
    "t = np.arange(0, predictions.size, 1)\n",
    "plt.plot(supportografico, y_val_s[\"Ozono\"].values - predictions[:,0], 'y', label='Hourly difference between calculated-measured $\\mathregular{O_3}$ concentration')\n",
    "plt.plot(supportografico, [np.mean( y_val_s[\"Ozono\"].values.reshape(len(y_val_s[\"Ozono\"]),1) - predictions[:,0]) for i in range(len(y_val_s[\"Ozono\"]) )], 'r', label='Mean value difference between calculated-measured $\\mathregular{O_3}$ concentration')\n",
    "#plt.plot(supportografico, predictions[:100,0], 'r', label='Prediction')\n",
    "plt.title('$\\mathregular{O_3}$ Residues with all the eigth sensors 13/01/2021-29/04/2021')\n",
    "plt.xlabel('Validation Data')\n",
    "plt.ylabel('Difference between calculated and measured $\\mathregular{O_3}$ (ppb)')\n",
    "plt.legend()\n",
    "plt.savefig('O3allR.png', dpi=600, bbox_inches='tight')\n",
    "plt.show()\n",
    "\n"
   ]
  },
  {
   "cell_type": "code",
   "execution_count": null,
   "metadata": {},
   "outputs": [],
   "source": []
  },
  {
   "cell_type": "code",
   "execution_count": null,
   "metadata": {},
   "outputs": [],
   "source": [
    "from sklearn.metrics import mean_squared_error\n",
    "\n",
    "rms = mean_squared_error(y_val_s[\"Ossido di Carbonio\"].values.reshape(len(y_val_s[\"Ossido di Carbonio\"]),1), predictions[:,4], squared=False)**0.5\n",
    "correlation_matrix = np.corrcoef(y_val_s[\"Ossido di Carbonio\"].values, predictions[:,4].T)\n",
    "\n",
    "correlation_xy = correlation_matrix[0,1]\n",
    "\n",
    "r_squared = correlation_xy**2\n",
    "\n",
    "\n",
    "supportografico = range(len(y_val_s) )\n",
    "props = dict(boxstyle='round', facecolor='wheat', alpha=0.5)\n",
    "fig = plt.figure(figsize=(10,7))\n",
    "ax2 = fig.add_subplot()\n",
    "t = np.arange(0, predictions.size, 1)\n",
    "ax2.plot(supportografico, y_val_s[\"Ossido di Carbonio\"], 'y', label='Measured $\\mathregular{CO}$ concentration')\n",
    "ax2.plot(supportografico, predictions[:,4], 'r', label='Predicted $\\mathregular{CO}$ concentration')\n",
    "#plt.plot(supportografico, predictions[:100,0], 'r', label='Prediction')\n",
    "ax2.set_title('$\\mathregular{CO}$ Prediction with all the eigth sensors 13/01/2021-29/04/2021')\n",
    "ax2.set_xlabel('Validation Data')\n",
    "ax2.set_ylabel('$\\mathregular{CO}$ concentration [mg/$\\mathregular{m^3}$]')\n",
    "ax2.text(0.60, 0.10, \"$\\mathregular{R^2}$ = \" + str(round(r_squared,3)) + \"  RMS  = \"  + str(round(rms,3))+ \" ppm\", transform=ax2.transAxes, fontsize=14,verticalalignment='top', bbox=props)\n",
    "ax2.legend()\n",
    "plt.savefig('COallRPredict.png', dpi=600, bbox_inches='tight')\n",
    "plt.show()\n",
    "\n",
    "\n",
    "fig = plt.figure(figsize=(10,7))\n",
    "t = np.arange(0, predictions.size, 1)\n",
    "plt.plot(supportografico, y_val_s[\"Ossido di Carbonio\"].values - predictions[:,4], 'y', label='Hourly difference between calculated-measured $\\mathregular{CO}$ concentration')\n",
    "plt.plot(supportografico, [np.mean( y_val_s[\"Ossido di Carbonio\"].values.reshape(len(y_val_s[\"Ossido di Carbonio\"]),1) - predictions[:,4]) for i in range(len(y_val_s[\"Ossido di Carbonio\"]) )], 'r', label='Mean value difference between calculated-measured $\\mathregular{CO}$ concentration')\n",
    "#plt.plot(supportografico, predictions[:100,0], 'r', label='Prediction')\n",
    "plt.title('$\\mathregular{CO}$ Residues with all the eigth sensors 13/01/2021-29/04/2021')\n",
    "plt.xlabel('Validation Data')\n",
    "plt.ylabel('Difference between calculated and measured $\\mathregular{CO}$ (ppm)')\n",
    "plt.legend()\n",
    "plt.savefig('COallR.png', dpi=600, bbox_inches='tight')\n",
    "plt.show()\n",
    "\n"
   ]
  },
  {
   "cell_type": "code",
   "execution_count": null,
   "metadata": {},
   "outputs": [],
   "source": [
    "from sklearn.metrics import mean_squared_error\n",
    "\n",
    "rms = mean_squared_error(y_val_s[\"PM10\"].values.reshape(len(y_val_s[\"PM10\"]),1), predictions[:,1], squared=False)**0.5\n",
    "correlation_matrix = np.corrcoef(y_val_s[\"PM10\"].values, predictions[:,1].T)\n",
    "\n",
    "correlation_xy = correlation_matrix[0,1]\n",
    "\n",
    "r_squared = correlation_xy**2\n",
    "\n",
    "\n",
    "supportografico = range(len(y_val_s) )\n",
    "props = dict(boxstyle='round', facecolor='wheat', alpha=0.5)\n",
    "fig = plt.figure(figsize=(10,7))\n",
    "ax2 = fig.add_subplot()\n",
    "t = np.arange(0, predictions.size, 1)\n",
    "ax2.plot(supportografico, y_val_s[\"PM10\"], 'y', label='Measured $\\mathregular{PM10}$ concentration')\n",
    "ax2.plot(supportografico, predictions[:,1], 'r', label='Predicted $\\mathregular{PM10}$ concentration')\n",
    "#plt.plot(supportografico, predictions[:100,0], 'r', label='Prediction')\n",
    "ax2.set_title('$\\mathregular{PM10}$ Prediction with all the eigth sensors 13/01/2021-29/04/2021')\n",
    "ax2.set_xlabel('Validation Data')\n",
    "ax2.set_ylabel('$\\mathregular{PM10}$ concentration [\\u03BCg/$\\mathregular{m^3}$]')\n",
    "ax2.text(0.02, 0.86, \"$\\mathregular{R^2}$ = \" + str(round(r_squared,3)) + \"  RMS  = \"  + str(round(rms,3))+ \" ppb\", transform=ax2.transAxes, fontsize=14,verticalalignment='top', bbox=props)\n",
    "ax2.legend()\n",
    "plt.savefig('PM10allRPredict.png', dpi=600, bbox_inches='tight')\n",
    "plt.show()\n",
    "\n",
    "\n",
    "fig = plt.figure(figsize=(10,7))\n",
    "t = np.arange(0, predictions.size, 1)\n",
    "plt.plot(supportografico, y_val_s[\"PM10\"].values - predictions[:,1], 'y', label='Hourly difference between calculated-measured $\\mathregular{PM10}$ concentration')\n",
    "plt.plot(supportografico, [np.mean( y_val_s[\"PM10\"].values.reshape(len(y_val_s[\"PM10\"]),1) - predictions[:,1]) for i in range(len(y_val_s[\"PM10\"]) )], 'r', label='Mean value difference between calculated-measured $\\mathregular{PM10}$ concentration')\n",
    "#plt.plot(supportografico, predictions[:100,0], 'r', label='Prediction')\n",
    "plt.title('$\\mathregular{PM10}$ Residues with all the eigth sensors 13/01/2021-29/04/2021')\n",
    "plt.xlabel('Validation Data')\n",
    "plt.ylabel('Difference between calculated and measured $\\mathregular{PM10}$ (ppb)')\n",
    "plt.legend()\n",
    "plt.savefig('PM10allR.png', dpi=600, bbox_inches='tight')\n",
    "plt.show()\n",
    "\n"
   ]
  },
  {
   "cell_type": "code",
   "execution_count": null,
   "metadata": {},
   "outputs": [],
   "source": [
    "from sklearn.metrics import mean_squared_error\n",
    "\n",
    "rms = mean_squared_error(y_val_s[\"Biossido di Azoto\"].values.reshape(len(y_val_s[\"Biossido di Azoto\"]),1), predictions[:,3], squared=False)**0.5\n",
    "correlation_matrix = np.corrcoef(y_val_s[\"Biossido di Azoto\"].values, predictions[:,3].T)\n",
    "\n",
    "correlation_xy = correlation_matrix[0,1]\n",
    "\n",
    "r_squared = correlation_xy**2\n",
    "\n",
    "\n",
    "supportografico = range(len(y_val_s) )\n",
    "props = dict(boxstyle='round', facecolor='wheat', alpha=0.5)\n",
    "fig = plt.figure(figsize=(10,7))\n",
    "ax2 = fig.add_subplot()\n",
    "t = np.arange(0, predictions.size, 1)\n",
    "ax2.plot(supportografico, y_val_s[\"Biossido di Azoto\"], 'y', label='Measured $\\mathregular{NO_2}$ concentration')\n",
    "ax2.plot(supportografico, predictions[:,3], 'r', label='Predicted $\\mathregular{NO_2}$ concentration')\n",
    "#plt.plot(supportografico, predictions[:100,0], 'r', label='Prediction')\n",
    "ax2.set_title('$\\mathregular{NO_2}$ Prediction with all the eigth sensors 13/01/2021-29/04/2021')\n",
    "ax2.set_xlabel('Validation Data')\n",
    "ax2.set_ylabel('$\\mathregular{NO_2}$ concentration [mg/$\\mathregular{m^3}$]')\n",
    "ax2.text(0.02, 0.86, \"$\\mathregular{R^2}$ = \" + str(round(r_squared,3)) + \"  RMS  = \"  + str(round(rms,3))+ \" ppb\", transform=ax2.transAxes, fontsize=14,verticalalignment='top', bbox=props)\n",
    "ax2.legend()\n",
    "plt.savefig('NO_2allRPredict.png', dpi=600, bbox_inches='tight')\n",
    "plt.show()\n",
    "\n",
    "\n",
    "fig = plt.figure(figsize=(10,7))\n",
    "t = np.arange(0, predictions.size, 1)\n",
    "plt.plot(supportografico, y_val_s[\"Biossido di Azoto\"].values - predictions[:,3], 'y', label='Hourly difference between calculated-measured $\\mathregular{NO_2}$ concentration')\n",
    "plt.plot(supportografico, [np.mean( y_val_s[\"Biossido di Azoto\"].values.reshape(len(y_val_s[\"Biossido di Azoto\"]),1) - predictions[:,3]) for i in range(len(y_val_s[\"PM10\"]) )], 'r', label='Mean value difference between calculated-measured $\\mathregular{NO_2}$ concentration')\n",
    "#plt.plot(supportografico, predictions[:100,0], 'r', label='Prediction')\n",
    "plt.title('$\\mathregular{NO_2}$ Residues with all the eigth sensors 13/01/2021-29/04/2021')\n",
    "plt.xlabel('Validation Data')\n",
    "plt.ylabel('Difference between calculated and measured $\\mathregular{NO_2}$ (ppb)')\n",
    "plt.legend()\n",
    "plt.savefig('NO_2allR.png', dpi=600, bbox_inches='tight')\n",
    "plt.show()\n",
    "\n"
   ]
  },
  {
   "cell_type": "code",
   "execution_count": null,
   "metadata": {},
   "outputs": [],
   "source": [
    "corr = y.corr()\n",
    "\n",
    "corr.style.background_gradient(cmap='coolwarm')"
   ]
  },
  {
   "cell_type": "code",
   "execution_count": null,
   "metadata": {},
   "outputs": [],
   "source": [
    "from pandas.plotting import table \n",
    "\n",
    "df9 = read_csv(\"29apr_1lug_appa1.csv\",sep=\"\\t\",header=0)\n",
    "df9 = df9.drop(\"Time\",axis = 1)\n",
    "df9 = df9.apply(pd.to_numeric, errors='coerce')\n",
    "df9 = df9.dropna()\n",
    "y2 = pd.DataFrame([df9.pop(i) for i in [\"Ozono\", \"PM10\",\"Biossido Zolfo\", \"Biossido di Azoto\", \"Ossido di Carbonio\"]]).T\n",
    "\n"
   ]
  },
  {
   "cell_type": "code",
   "execution_count": null,
   "metadata": {},
   "outputs": [],
   "source": [
    "corr = y.corr()\n",
    "\n",
    "\n",
    "corr.style.background_gradient(cmap='coolwarm')\n",
    "\n",
    "\n"
   ]
  },
  {
   "cell_type": "code",
   "execution_count": null,
   "metadata": {},
   "outputs": [],
   "source": [
    "corr2 = y2.corr()\n",
    "\n",
    "corr2.style.background_gradient(cmap='coolwarm')"
   ]
  },
  {
   "cell_type": "code",
   "execution_count": null,
   "metadata": {},
   "outputs": [],
   "source": [
    "df11 = read_csv(\"1lug_22set_appa1.csv\",sep=\"\\t\",header=0)\n",
    "df11 = df11.drop(\"Time\",axis = 1)\n",
    "df11 = df11.apply(pd.to_numeric, errors='coerce')\n",
    "df11 = df11.dropna()\n",
    "y4 = pd.DataFrame([df11.pop(i) for i in [\"Ozono\", \"PM10\",\"Biossido Zolfo\", \"Biossido di Azoto\", \"Ossido di Carbonio\"]]).T\n",
    "\n",
    "corr4 = y4.corr()\n",
    "\n",
    "corr4.style.background_gradient(cmap='coolwarm')"
   ]
  },
  {
   "cell_type": "code",
   "execution_count": null,
   "metadata": {},
   "outputs": [],
   "source": [
    "\n",
    "\n",
    "print(df8)"
   ]
  },
  {
   "cell_type": "code",
   "execution_count": null,
   "metadata": {},
   "outputs": [],
   "source": [
    "prova15 = pd.merge(df8,df9,how = \"outer\")\n",
    "prova16 = pd.merge(prova15,df11,how = \"outer\")\n",
    "prova16"
   ]
  },
  {
   "cell_type": "code",
   "execution_count": null,
   "metadata": {},
   "outputs": [],
   "source": [
    "supportografico = range(len(prova16))\n",
    "\n",
    "fig = plt.figure(figsize=(10,7))\n",
    "t = np.arange(0, predictions.size, 1)\n",
    "plt.plot(supportografico,prova16.R7, 'y', label='R7')\n",
    "plt.plot(supportografico, prova16.R8, 'r', label='R8')\n",
    "#plt.plot(supportografico, predictions[:100,0], 'r', label='Prediction')\n",
    "plt.title('Risposta Sensori R7 e R8 da 13/01/2021 a 22/09/2021')\n",
    "plt.xlabel('Scala Temporale')\n",
    "plt.ylabel('Risposta')\n",
    "plt.legend()\n",
    "plt.savefig('R7R8.png', dpi=600, bbox_inches='tight')\n",
    "plt.show()\n",
    "\n"
   ]
  },
  {
   "cell_type": "code",
   "execution_count": null,
   "metadata": {},
   "outputs": [],
   "source": [
    "fig = plt.figure(figsize=(10,7))\n",
    "t = np.arange(0, predictions.size, 1)\n",
    "plt.plot(supportografico,prova16.R1, 'y', label='R1')\n",
    "plt.plot(supportografico, prova16.R2, 'r', label='R2')\n",
    "#plt.plot(supportografico, predictions[:100,0], 'r', label='Prediction')\n",
    "plt.title('Risposta Sensori R1 e R2 da 13/01/2021 a 22/09/2021')\n",
    "plt.xlabel('Scala Temporale')\n",
    "plt.ylabel('Risposta')\n",
    "plt.legend()\n",
    "plt.savefig('R1R2.png', dpi=600, bbox_inches='tight')\n",
    "plt.show()\n"
   ]
  },
  {
   "cell_type": "code",
   "execution_count": null,
   "metadata": {},
   "outputs": [],
   "source": [
    "fig = plt.figure(figsize=(10,7))\n",
    "t = np.arange(0, predictions.size, 1)\n",
    "plt.plot(supportografico,prova16.R3, 'y', label='R3')\n",
    "plt.plot(supportografico, prova16.R4, 'r', label='R4')\n",
    "#plt.plot(supportografico, predictions[:100,0], 'r', label='Prediction')\n",
    "plt.title('Risposta Sensori R3 e R4 da 13/01/2021 a 22/09/2021')\n",
    "plt.xlabel('Scala Temporale')\n",
    "plt.ylabel('Risposta')\n",
    "plt.legend()\n",
    "plt.savefig('R3R4.png', dpi=600, bbox_inches='tight')\n",
    "plt.show()\n",
    "\n"
   ]
  },
  {
   "cell_type": "code",
   "execution_count": null,
   "metadata": {},
   "outputs": [],
   "source": [
    "fig = plt.figure(figsize=(10,7))\n",
    "t = np.arange(0, predictions.size, 1)\n",
    "plt.plot(supportografico,prova16.R5, 'y', label='R5')\n",
    "plt.plot(supportografico, prova16.R6, 'r', label='R6')\n",
    "#plt.plot(supportografico, predictions[:100,0], 'r', label='Prediction')\n",
    "plt.title('Risposta Sensori R5 e R6 da 13/01/2021 a 22/09/2021')\n",
    "plt.xlabel('Scala Temporale')\n",
    "plt.ylabel('Risposta')\n",
    "plt.legend()\n",
    "plt.savefig('R5R6.png', dpi=600, bbox_inches='tight')\n",
    "plt.show()\n",
    "\n"
   ]
  },
  {
   "cell_type": "code",
   "execution_count": null,
   "metadata": {},
   "outputs": [],
   "source": [
    "prova17 = prova16.loc[(prova16.R7 <  3 * 10**8)].loc[(prova16.R8 <  3 * 10**8)]"
   ]
  },
  {
   "cell_type": "code",
   "execution_count": null,
   "metadata": {},
   "outputs": [],
   "source": [
    "supportografico = range(len(prova17))\n",
    "\n",
    "fig = plt.figure(figsize=(10,7))\n",
    "t = np.arange(0, predictions.size, 1)\n",
    "plt.plot(supportografico,prova17.R7, 'y', label='R7')\n",
    "plt.plot(supportografico, prova17.R8, 'r', label='R8')\n",
    "#plt.plot(supportografico, predictions[:100,0], 'r', label='Prediction')\n",
    "plt.title('Risposta Sensori R7 e R8 da 13/01/2021 a 22/09/2021')\n",
    "plt.xlabel('Scala Temporale')\n",
    "plt.ylabel('Risposta')\n",
    "plt.legend()\n",
    "plt.savefig('R7R8.png', dpi=600, bbox_inches='tight')\n",
    "plt.show()\n"
   ]
  },
  {
   "cell_type": "code",
   "execution_count": null,
   "metadata": {},
   "outputs": [],
   "source": [
    "yparz = pd.merge(y,y2,how = \"outer\")\n",
    "ytot = pd.merge(yparz,y4,how = \"outer\")\n",
    "\n",
    "\n",
    "corrtot = ytot.corr()\n",
    "\n",
    "corrtot.style.background_gradient(cmap='coolwarm')"
   ]
  },
  {
   "cell_type": "code",
   "execution_count": null,
   "metadata": {},
   "outputs": [],
   "source": [
    "ytot"
   ]
  },
  {
   "cell_type": "code",
   "execution_count": null,
   "metadata": {},
   "outputs": [],
   "source": []
  },
  {
   "cell_type": "code",
   "execution_count": null,
   "metadata": {},
   "outputs": [],
   "source": [
    "supportografico = range(len(X_train_scaled))\n",
    "\n",
    "fig = plt.figure(figsize=(10,7))\n",
    "t = np.arange(0, predictions.size, 1)\n",
    "plt.plot(supportografico,X_train_scaled[:,6], 'y', label='R7')\n",
    "plt.plot(supportografico, X_train_scaled[:,7], 'r', label='R8')\n",
    "#plt.plot(supportografico, predictions[:100,0], 'r', label='Prediction')\n",
    "plt.title('Risposta Sensori R7 e R8 da 13/01/2021 a 22/09/2021')\n",
    "plt.xlabel('Scala Temporale')\n",
    "plt.ylabel('Risposta')\n",
    "plt.legend()\n",
    "plt.savefig('R7R8.png', dpi=600, bbox_inches='tight')\n",
    "plt.show()\n"
   ]
  },
  {
   "cell_type": "code",
   "execution_count": null,
   "metadata": {},
   "outputs": [],
   "source": [
    "df8"
   ]
  },
  {
   "cell_type": "code",
   "execution_count": null,
   "metadata": {},
   "outputs": [],
   "source": [
    "df8 = read_csv(\"13gen_29apr_appa1.csv\",sep=\"\\t\",header=0)\n",
    "df8 = df8.drop(\"Time\",axis = 1)\n",
    "df8 = df8.apply(pd.to_numeric, errors='coerce')\n",
    "df8 = df8.dropna()\n",
    "\n",
    "corrcomplete = df8.corr()\n",
    "\n",
    "corrcomplete.style.background_gradient(cmap='coolwarm')"
   ]
  },
  {
   "cell_type": "code",
   "execution_count": null,
   "metadata": {},
   "outputs": [],
   "source": [
    "fig = plt.figure(figsize=(10,7))\n",
    "ax2 = fig.add_subplot()\n",
    "#ax=ax2.twinx()\n",
    "ax2.scatter(df8.Ozono[3:-10], df8.R1[3:-10], label='R1')\n",
    "#plt.plot(supportografico, predictions[:100,0], 'r', label='Prediction')\n",
    "ax2.set_title('R1 contro Ozono')\n",
    "ax2.set_xlabel('Time')\n",
    "ax2.set_ylabel('Signal')\n",
    "ax2.legend()\n",
    "plt.show()\n"
   ]
  },
  {
   "cell_type": "code",
   "execution_count": null,
   "metadata": {},
   "outputs": [],
   "source": [
    "import scipy.stats\n",
    "Valori = scipy.stats.linregress(df8[\"R1\"],df8[\"Ozono\"])\n",
    "print(Valori)"
   ]
  },
  {
   "cell_type": "code",
   "execution_count": null,
   "metadata": {},
   "outputs": [],
   "source": [
    "supportografico = range(len(df8) )\n",
    "props = dict(boxstyle='round', facecolor='wheat', alpha=0.5)\n",
    "fig = plt.figure(figsize=(10,7))\n",
    "ax2 = fig.add_subplot()\n",
    "#ax=ax2.twinx()\n",
    "t = np.arange(0, predictions.size, 1)\n",
    "ax2.plot(supportografico[3:-10], df8.R3[3:-10], 'y', label='R3')\n",
    "ax2.plot(supportografico[3:-10], df8.R4[3:-10], 'r', label='R4')\n",
    "#plt.plot(supportografico, predictions[:100,0], 'r', label='Prediction')\n",
    "ax2.set_title('R3-R4 contro Ozono')\n",
    "ax2.set_xlabel('Time')\n",
    "ax2.set_ylabel('Signal')\n",
    "ax.set_ylabel('$O_3$ Concentration')\n",
    "ax2.legend()\n",
    "ax.legend()\n",
    "plt.show()\n",
    "\n",
    "fig = plt.figure(figsize=(10,7))\n",
    "\n",
    "ax = fig.add_subplot()\n",
    "\n",
    "ax.plot(supportografico[3:-10], df8.Ozono[3:-10], 'b', label='Ozono')\n",
    "plt.show()\n"
   ]
  },
  {
   "cell_type": "code",
   "execution_count": null,
   "metadata": {},
   "outputs": [],
   "source": [
    "supportografico = range(len(df8) )\n",
    "props = dict(boxstyle='round', facecolor='wheat', alpha=0.5)\n",
    "fig = plt.figure(figsize=(10,7))\n",
    "ax2 = fig.add_subplot()\n",
    "#ax=ax2.twinx()\n",
    "t = np.arange(0, predictions.size, 1)\n",
    "ax2.plot(supportografico[3:-10], df8.R5[3:-10], 'y', label='R5')\n",
    "ax2.plot(supportografico[3:-10], df8.R6[3:-10], 'r', label='R6')\n",
    "#plt.plot(supportografico, predictions[:100,0], 'r', label='Prediction')\n",
    "ax2.set_title('R5-R6 contro Ozono')\n",
    "ax2.set_xlabel('Time')\n",
    "ax2.set_ylabel('Signal')\n",
    "ax.set_ylabel('$O_3$ Concentration')\n",
    "ax2.legend()\n",
    "ax.legend()\n",
    "plt.show()\n",
    "\n",
    "fig = plt.figure(figsize=(10,7))\n",
    "\n",
    "ax = fig.add_subplot()\n",
    "\n",
    "ax.plot(supportografico[3:-10], df8.Ozono[3:-10], 'b', label='Ozono')\n",
    "plt.show()\n"
   ]
  },
  {
   "cell_type": "code",
   "execution_count": null,
   "metadata": {},
   "outputs": [],
   "source": [
    "supportografico = range(len(df8) )\n",
    "props = dict(boxstyle='round', facecolor='wheat', alpha=0.5)\n",
    "fig = plt.figure(figsize=(10,7))\n",
    "ax2 = fig.add_subplot()\n",
    "#ax=ax2.twinx()\n",
    "t = np.arange(0, predictions.size, 1)\n",
    "ax2.plot(supportografico[3:-10], df8.R7[3:-10], 'y', label='R7')\n",
    "ax2.plot(supportografico[3:-10], df8.R8[3:-10], 'r', label='R8')\n",
    "#plt.plot(supportografico, predictions[:100,0], 'r', label='Prediction')\n",
    "ax2.set_title('R5-R6 contro Ozono')\n",
    "ax2.set_xlabel('Time')\n",
    "ax2.set_ylabel('Signal')\n",
    "ax.set_ylabel('$O_3$ Concentration')\n",
    "ax2.legend()\n",
    "ax.legend()\n",
    "plt.show()\n",
    "\n",
    "fig = plt.figure(figsize=(10,7))\n",
    "\n",
    "ax = fig.add_subplot()\n",
    "\n",
    "ax.plot(supportografico[3:-10], df8.Ozono[3:-10], 'b', label='Ozono')\n",
    "plt.show()\n"
   ]
  },
  {
   "cell_type": "code",
   "execution_count": null,
   "metadata": {},
   "outputs": [],
   "source": [
    "df8 = read_csv(\"13gen_29apr_appa1.csv\",sep=\"\\t\",header=0)\n",
    "df8 = df8.dropna()\n",
    "df8"
   ]
  },
  {
   "cell_type": "code",
   "execution_count": null,
   "metadata": {},
   "outputs": [],
   "source": [
    "fig = plt.figure(figsize=(10,7))\n",
    "ax2 = fig.add_subplot()\n",
    "#ax=ax2.twinx()\n",
    "t = np.arange(0, predictions.size, 1)\n",
    "ax2.plot(df8.index[5:-10], df8.R3[5:-10], 'y', label='R3')\n",
    "#plt.plot(supportografico, predictions[:100,0], 'r', label='Prediction')\n",
    "ax2.set_title('R5-R6 contro Ozono')\n",
    "ax2.set_xlabel('Time')\n",
    "ax2.set_ylabel('Signal')\n",
    "ax.set_ylabel('$O_3$ Concentration')\n",
    "ax2.legend()\n",
    "ax.legend()\n",
    "plt.show()\n"
   ]
  },
  {
   "cell_type": "code",
   "execution_count": null,
   "metadata": {},
   "outputs": [],
   "source": [
    "df8.loc[646:650].R4"
   ]
  },
  {
   "cell_type": "code",
   "execution_count": null,
   "metadata": {},
   "outputs": [],
   "source": [
    "df8.loc[646:650].Time"
   ]
  },
  {
   "cell_type": "code",
   "execution_count": null,
   "metadata": {},
   "outputs": [],
   "source": [
    "dfappa2 = read_csv(\"../APPA2/1lug_22set_appa.csv\",sep=\"\\t\",header=0)\n",
    "dfappa2 = dfappa2.drop(\"Time\",axis = 1)\n",
    "dfappa2 = dfappa2.apply(pd.to_numeric, errors='coerce')\n",
    "dfappa2 = dfappa2.dropna()\n"
   ]
  },
  {
   "cell_type": "code",
   "execution_count": null,
   "metadata": {},
   "outputs": [],
   "source": [
    "dfappa1 = read_csv(\"1lug_22set_appa1.csv\",sep=\"\\t\",header=0)\n",
    "dfappa1 = dfappa1.drop(\"Time\",axis = 1)\n",
    "dfappa1 = dfappa1.apply(pd.to_numeric, errors='coerce')\n",
    "dfappa1 = dfappa1.dropna()\n"
   ]
  },
  {
   "cell_type": "code",
   "execution_count": null,
   "metadata": {},
   "outputs": [],
   "source": [
    "dfappa12 = read_csv(\"29apr_1lug_appa1.csv\",sep=\"\\t\",header=0)\n",
    "dfappa12 = dfappa12.drop(\"Time\",axis = 1)\n",
    "dfappa12 = dfappa12.apply(pd.to_numeric, errors='coerce')\n",
    "dfappa12 = dfappa12.dropna()"
   ]
  },
  {
   "cell_type": "code",
   "execution_count": null,
   "metadata": {},
   "outputs": [],
   "source": [
    "fig = plt.figure(figsize=(10,7))\n",
    "ax2 = fig.add_subplot()\n",
    "#ax=ax2.twinx()\n",
    "ax2.scatter(df8.index[700:-10], df8.T1[700:-10], label='APPA1 Inverno')\n",
    "ax2.scatter(dfappa2.index[1000:-10], dfappa2.T4[1000:-10], label='APPA2')\n",
    "ax2.scatter(dfappa1.index[3:-10], dfappa1.T5[3:-10], label='APPA1 Estate')\n",
    "ax2.scatter(dfappa12.index[50:-50], dfappa12.T1[50:-50], label='APPA1 Primavera')\n",
    "\n",
    "#plt.plot(supportografico, predictions[:100,0], 'r', label='Prediction')\n",
    "ax2.set_title('ZnOR contro Ozono')\n",
    "ax2.set_xlabel('Concentrazione di Ozono')\n",
    "ax2.set_ylabel('Resistenza')\n",
    "ax2.legend()\n",
    "#plt.savefig('Inverno+APPA2.png', dpi=600, bbox_inches='tight')\n",
    "plt.show()\n"
   ]
  },
  {
   "cell_type": "code",
   "execution_count": null,
   "metadata": {},
   "outputs": [],
   "source": [
    "fig = plt.figure(figsize=(10,7))\n",
    "ax2 = fig.add_subplot()\n",
    "#ax=ax2.twinx()\n",
    "\n",
    "ax2.scatter(df8.Ozono[700:-10], StandardScaler(df8.R1[700:-10]), label='APPA1 Inverno')\n",
    "ax2.scatter(dfappa2.Ozono[1000:-10], StandardScaler(dfappa2.R4[1000:-10]), label='APPA2')\n",
    "ax2.scatter(dfappa1.Ozono[3:-10], StandardScaler(dfappa1.R6[3:-10]), label='APPA1 Estate Canale 6')\n",
    "ax2.scatter(dfappa1.Ozono[3:-10], StandardScaler(dfappa1.R5[3:-10]), label='APPA1 Estate Canale 5')\n",
    "\n",
    "ax2.scatter(dfappa12.Ozono[50:-50], StandardScaler(dfappa12.R1[50:-50]), label='APPA1 Primavera')\n",
    "\n",
    "#plt.plot(supportografico, predictions[:100,0], 'r', label='Prediction')\n",
    "ax2.set_title('ZnOR contro Ozono')\n",
    "ax2.set_xlabel('Concentrazione di Ozono')\n",
    "ax2.set_ylabel('Resistenza')\n",
    "ax2.legend()\n",
    "#plt.savefig('Inverno+APPA2.png', dpi=600, bbox_inches='tight')\n",
    "plt.show()\n"
   ]
  },
  {
   "cell_type": "code",
   "execution_count": null,
   "metadata": {},
   "outputs": [],
   "source": [
    "import scipy.stats\n",
    "Valori = scipy.stats.linregress(dfappa2[\"R4\"][1000:],dfappa2[\"Ozono\"][1000:])\n",
    "print(Valori)"
   ]
  },
  {
   "cell_type": "code",
   "execution_count": null,
   "metadata": {},
   "outputs": [],
   "source": [
    "Valori2 = scipy.stats.linregress(df8[\"R1\"][100:-100],df8[\"Ozono\"][100:-100])\n",
    "print(Valori2)"
   ]
  },
  {
   "cell_type": "code",
   "execution_count": null,
   "metadata": {},
   "outputs": [],
   "source": []
  }
 ],
 "metadata": {
  "accelerator": "GPU",
  "colab": {
   "authorship_tag": "ABX9TyOS7/2LEiHOKTcR71bZVrrp",
   "collapsed_sections": [
    "Uo-5YyiN1qUQ"
   ],
   "mount_file_id": "1n8CP0yjwH7jKxOb4_7TzG2gsWdm7rK8x",
   "name": "Copia di Sgabbo network.ipynb",
   "provenance": [
    {
     "file_id": "1n8CP0yjwH7jKxOb4_7TzG2gsWdm7rK8x",
     "timestamp": 1644402212975
    }
   ],
   "toc_visible": true
  },
  "kernelspec": {
   "display_name": "Python 3 (ipykernel)",
   "language": "python",
   "name": "python3"
  },
  "language_info": {
   "codemirror_mode": {
    "name": "ipython",
    "version": 3
   },
   "file_extension": ".py",
   "mimetype": "text/x-python",
   "name": "python",
   "nbconvert_exporter": "python",
   "pygments_lexer": "ipython3",
   "version": "3.9.7"
  }
 },
 "nbformat": 4,
 "nbformat_minor": 1
}
