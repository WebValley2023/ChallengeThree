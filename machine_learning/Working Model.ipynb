{
 "cells": [
  {
   "cell_type": "code",
   "execution_count": 48,
   "id": "ffcc0942",
   "metadata": {},
   "outputs": [],
   "source": [
    "##How to perform active machine learning\n",
    "\n",
    "# Normal libraries\n",
    "\n",
    "from pandas import read_csv\n",
    "import pandas as pd\n",
    "import numpy as np\n",
    "import datetime\n",
    "\n",
    "# Library to build a model using keras that is build on tensorflow\n",
    "# (a library on how to handle tensor and their function)\n",
    "from keras.models import Sequential\n",
    "from keras.layers import Dense\n",
    "from keras.layers import Dropout\n",
    "\n",
    "# Library to build generic models\n",
    "\n",
    "from scipy.optimize import curve_fit\n",
    "\n",
    "\n",
    "# Libraries about the learning process of the actual AI\n",
    "from keras.callbacks import ModelCheckpoint\n",
    "\n",
    "# from keras.wrappers.scikit_learn import KerasRegressor\n",
    "from sklearn.model_selection import cross_val_score\n",
    "from sklearn.model_selection import KFold\n",
    "from sklearn.pipeline import Pipeline\n",
    "from sklearn.model_selection import train_test_split\n",
    "\n",
    "# Useful libraries\n",
    "from matplotlib import pyplot as plt\n",
    "import math"
   ]
  },
  {
   "cell_type": "code",
   "execution_count": 49,
   "id": "a6ff6018",
   "metadata": {},
   "outputs": [],
   "source": [
    "Sensors = pd.read_csv(\"../../../Downloads/appa2_timeline.csv\", sep=\",\")\n",
    "Sensors.set_index(\"channel\", inplace=True)\n",
    "Sensors = Sensors.applymap(lambda x: x.replace(\"*\", \"\"))\n",
    "\n",
    "df = read_csv(\"../../DataSet_FBK/ViaBolz.csv\", sep=\",\", parse_dates=[\"ts\"])\n",
    "df.set_index(\"ts\", inplace=True)\n",
    "\n",
    "change = {}\n",
    "for i in range(1, 9):\n",
    "    change[f\"S{str(i)}_R1\"] = f\"T{str(i)}\"\n",
    "    change[f\"S{str(i)}_R2\"] = f\"R{str(i)}\"\n",
    "    change[f\"S{str(i)}_Voltage\"] = f\"V{str(i)}\"\n",
    "df = df.rename(columns=change)\n",
    "\n",
    "\n",
    "Test = {}\n",
    "maxim = len(Sensors.columns)\n",
    "for i, col in enumerate(Sensors.columns):\n",
    "    materials = []\n",
    "    if i == maxim - 1:\n",
    "        for j, material in enumerate(Sensors[col]):\n",
    "            f = materials.count(material) + 1\n",
    "            materials.append(material)\n",
    "            if list(Test.keys()).count(material + str(f)) == 1:\n",
    "                Test[material + str(f)] = pd.concat(\n",
    "                    [\n",
    "                        Test[material + str(f)],\n",
    "                        df[col:][\n",
    "                            [\"R\" + str(j + 1), \"T\" + str(j + 1), \"V\" + str(j + 1)]\n",
    "                        ].rename(\n",
    "                            columns={\n",
    "                                \"R\" + str(j + 1): \"R\",\n",
    "                                \"T\" + str(j + 1): \"HT\",\n",
    "                                \"V\" + str(j + 1): \"V\",\n",
    "                            }\n",
    "                        ),\n",
    "                    ]\n",
    "                )\n",
    "            else:\n",
    "                Test[material + str(f)] = df[col:][\n",
    "                    [\"R\" + str(j + 1), \"T\" + str(j + 1), \"V\" + str(j + 1)]\n",
    "                ].rename(\n",
    "                    columns={\n",
    "                        \"R\" + str(j + 1): \"R\",\n",
    "                        \"T\" + str(j + 1): \"HT\",\n",
    "                        \"V\" + str(j + 1): \"V\",\n",
    "                    }\n",
    "                )\n",
    "    else:\n",
    "        for j, material in enumerate(Sensors[col]):\n",
    "            f = materials.count(material) + 1\n",
    "            materials.append(material)\n",
    "            if list(Test.keys()).count(material + str(f)) == 1:\n",
    "                Test[material + str(f)] = pd.concat(\n",
    "                    [\n",
    "                        Test[material + str(f)],\n",
    "                        df[col : Sensors.columns[i + 1]][\n",
    "                            [\"R\" + str(j + 1), \"T\" + str(j + 1), \"V\" + str(j + 1)]\n",
    "                        ].rename(\n",
    "                            columns={\n",
    "                                \"R\" + str(j + 1): \"R\",\n",
    "                                \"T\" + str(j + 1): \"HT\",\n",
    "                                \"V\" + str(j + 1): \"V\",\n",
    "                            }\n",
    "                        ),\n",
    "                    ]\n",
    "                )\n",
    "            else:\n",
    "                Test[material + str(f)] = df[col : Sensors.columns[i + 1]][\n",
    "                    [\"R\" + str(j + 1), \"T\" + str(j + 1), \"V\" + str(j + 1)]\n",
    "                ].rename(\n",
    "                    columns={\n",
    "                        \"R\" + str(j + 1): \"R\",\n",
    "                        \"T\" + str(j + 1): \"HT\",\n",
    "                        \"V\" + str(j + 1): \"V\",\n",
    "                    }\n",
    "                )\n",
    "\n",
    "df8 = Test[\"LaFeO31\"]\n",
    "\n",
    "df_appa = read_csv(\"../../DataSet_APPA/APPA2.csv\")\n",
    "df_appa\n",
    "df_appa.Time = pd.to_datetime(df_appa.Time)\n",
    "timezone_offset = datetime.timedelta(hours=2)\n",
    "timezone = datetime.timezone(timezone_offset)\n",
    "\n",
    "df_appa.Time = df_appa.Time.apply(lambda x: x.replace(tzinfo=timezone))\n",
    "df_appa.rename(columns={\"Time\": \"ts\"}, inplace=True)"
   ]
  },
  {
   "cell_type": "code",
   "execution_count": 50,
   "id": "cb5fb11b",
   "metadata": {},
   "outputs": [],
   "source": [
    "df8 = df8.resample(\"1H\").mean()\n",
    "df_tot = df8.reset_index().merge(df_appa)\n",
    "df_tot.set_index(\"ts\", inplace=True)\n",
    "df_tot = df_tot.sort_index().dropna()\n",
    "df_tot = df_tot.dropna()"
   ]
  },
  {
   "cell_type": "code",
   "execution_count": 51,
   "id": "ad09cd40",
   "metadata": {},
   "outputs": [
    {
     "data": {
      "text/html": [
       "<div>\n",
       "<style scoped>\n",
       "    .dataframe tbody tr th:only-of-type {\n",
       "        vertical-align: middle;\n",
       "    }\n",
       "\n",
       "    .dataframe tbody tr th {\n",
       "        vertical-align: top;\n",
       "    }\n",
       "\n",
       "    .dataframe thead th {\n",
       "        text-align: right;\n",
       "    }\n",
       "</style>\n",
       "<table border=\"1\" class=\"dataframe\">\n",
       "  <thead>\n",
       "    <tr style=\"text-align: right;\">\n",
       "      <th></th>\n",
       "      <th>R</th>\n",
       "      <th>HT</th>\n",
       "      <th>V</th>\n",
       "      <th>PM10</th>\n",
       "      <th>Ossido di Carbonio</th>\n",
       "      <th>Biossido di Azoto</th>\n",
       "    </tr>\n",
       "    <tr>\n",
       "      <th>ts</th>\n",
       "      <th></th>\n",
       "      <th></th>\n",
       "      <th></th>\n",
       "      <th></th>\n",
       "      <th></th>\n",
       "      <th></th>\n",
       "    </tr>\n",
       "  </thead>\n",
       "  <tbody>\n",
       "    <tr>\n",
       "      <th>2021-01-13 10:00:00+00:00</th>\n",
       "      <td>3.293993e+07</td>\n",
       "      <td>77.171739</td>\n",
       "      <td>2.153696</td>\n",
       "      <td>53.0</td>\n",
       "      <td>0.8</td>\n",
       "      <td>67.0</td>\n",
       "    </tr>\n",
       "    <tr>\n",
       "      <th>2021-01-13 11:00:00+00:00</th>\n",
       "      <td>2.648063e+05</td>\n",
       "      <td>90.883051</td>\n",
       "      <td>3.234746</td>\n",
       "      <td>48.0</td>\n",
       "      <td>0.7</td>\n",
       "      <td>68.0</td>\n",
       "    </tr>\n",
       "    <tr>\n",
       "      <th>2021-01-13 12:00:00+00:00</th>\n",
       "      <td>2.617744e+05</td>\n",
       "      <td>90.857627</td>\n",
       "      <td>3.234746</td>\n",
       "      <td>43.0</td>\n",
       "      <td>0.7</td>\n",
       "      <td>71.0</td>\n",
       "    </tr>\n",
       "    <tr>\n",
       "      <th>2021-01-13 13:00:00+00:00</th>\n",
       "      <td>2.601968e+05</td>\n",
       "      <td>90.866102</td>\n",
       "      <td>3.233898</td>\n",
       "      <td>46.0</td>\n",
       "      <td>0.7</td>\n",
       "      <td>76.0</td>\n",
       "    </tr>\n",
       "    <tr>\n",
       "      <th>2021-01-13 14:00:00+00:00</th>\n",
       "      <td>2.600834e+05</td>\n",
       "      <td>90.801695</td>\n",
       "      <td>3.234068</td>\n",
       "      <td>66.0</td>\n",
       "      <td>1.0</td>\n",
       "      <td>107.0</td>\n",
       "    </tr>\n",
       "    <tr>\n",
       "      <th>...</th>\n",
       "      <td>...</td>\n",
       "      <td>...</td>\n",
       "      <td>...</td>\n",
       "      <td>...</td>\n",
       "      <td>...</td>\n",
       "      <td>...</td>\n",
       "    </tr>\n",
       "    <tr>\n",
       "      <th>2023-06-26 05:00:00+00:00</th>\n",
       "      <td>2.850602e+06</td>\n",
       "      <td>112.324138</td>\n",
       "      <td>3.363276</td>\n",
       "      <td>25.0</td>\n",
       "      <td>0.3</td>\n",
       "      <td>25.0</td>\n",
       "    </tr>\n",
       "    <tr>\n",
       "      <th>2023-06-26 06:00:00+00:00</th>\n",
       "      <td>3.045518e+06</td>\n",
       "      <td>112.315254</td>\n",
       "      <td>3.362712</td>\n",
       "      <td>25.0</td>\n",
       "      <td>0.3</td>\n",
       "      <td>27.0</td>\n",
       "    </tr>\n",
       "    <tr>\n",
       "      <th>2023-06-26 07:00:00+00:00</th>\n",
       "      <td>2.443874e+06</td>\n",
       "      <td>112.268333</td>\n",
       "      <td>3.362167</td>\n",
       "      <td>20.0</td>\n",
       "      <td>0.3</td>\n",
       "      <td>14.0</td>\n",
       "    </tr>\n",
       "    <tr>\n",
       "      <th>2023-06-26 08:00:00+00:00</th>\n",
       "      <td>1.912000e+06</td>\n",
       "      <td>112.194915</td>\n",
       "      <td>3.360847</td>\n",
       "      <td>17.0</td>\n",
       "      <td>0.3</td>\n",
       "      <td>17.0</td>\n",
       "    </tr>\n",
       "    <tr>\n",
       "      <th>2023-06-26 09:00:00+00:00</th>\n",
       "      <td>1.706110e+06</td>\n",
       "      <td>112.225000</td>\n",
       "      <td>3.362500</td>\n",
       "      <td>15.0</td>\n",
       "      <td>0.3</td>\n",
       "      <td>21.0</td>\n",
       "    </tr>\n",
       "  </tbody>\n",
       "</table>\n",
       "<p>19942 rows × 6 columns</p>\n",
       "</div>"
      ],
      "text/plain": [
       "                                      R          HT         V  PM10  \\\n",
       "ts                                                                    \n",
       "2021-01-13 10:00:00+00:00  3.293993e+07   77.171739  2.153696  53.0   \n",
       "2021-01-13 11:00:00+00:00  2.648063e+05   90.883051  3.234746  48.0   \n",
       "2021-01-13 12:00:00+00:00  2.617744e+05   90.857627  3.234746  43.0   \n",
       "2021-01-13 13:00:00+00:00  2.601968e+05   90.866102  3.233898  46.0   \n",
       "2021-01-13 14:00:00+00:00  2.600834e+05   90.801695  3.234068  66.0   \n",
       "...                                 ...         ...       ...   ...   \n",
       "2023-06-26 05:00:00+00:00  2.850602e+06  112.324138  3.363276  25.0   \n",
       "2023-06-26 06:00:00+00:00  3.045518e+06  112.315254  3.362712  25.0   \n",
       "2023-06-26 07:00:00+00:00  2.443874e+06  112.268333  3.362167  20.0   \n",
       "2023-06-26 08:00:00+00:00  1.912000e+06  112.194915  3.360847  17.0   \n",
       "2023-06-26 09:00:00+00:00  1.706110e+06  112.225000  3.362500  15.0   \n",
       "\n",
       "                           Ossido di Carbonio  Biossido di Azoto  \n",
       "ts                                                                \n",
       "2021-01-13 10:00:00+00:00                 0.8               67.0  \n",
       "2021-01-13 11:00:00+00:00                 0.7               68.0  \n",
       "2021-01-13 12:00:00+00:00                 0.7               71.0  \n",
       "2021-01-13 13:00:00+00:00                 0.7               76.0  \n",
       "2021-01-13 14:00:00+00:00                 1.0              107.0  \n",
       "...                                       ...                ...  \n",
       "2023-06-26 05:00:00+00:00                 0.3               25.0  \n",
       "2023-06-26 06:00:00+00:00                 0.3               27.0  \n",
       "2023-06-26 07:00:00+00:00                 0.3               14.0  \n",
       "2023-06-26 08:00:00+00:00                 0.3               17.0  \n",
       "2023-06-26 09:00:00+00:00                 0.3               21.0  \n",
       "\n",
       "[19942 rows x 6 columns]"
      ]
     },
     "execution_count": 51,
     "metadata": {},
     "output_type": "execute_result"
    }
   ],
   "source": [
    "df_tot"
   ]
  },
  {
   "cell_type": "code",
   "execution_count": 52,
   "id": "4d5f3f50",
   "metadata": {},
   "outputs": [
    {
     "name": "stdout",
     "output_type": "stream",
     "text": [
      "['53.0' '48.0' '43.0' '46.0' '66.0' '95.0' '100.0' '93.0' '104.0' '102.0'\n",
      " '87.0' '68.0' '64.0' '59.0' '43.0' '42.0' '40.0' '39.0' '35.0' '32.0'\n",
      " '46.0' '51.0' '54.0' '49.0' '41.0' '27.0' '17.0' '12.0' '9.0' '7.0' '9.0'\n",
      " '11.0' '16.0' '20.0' '32.0' '32.0' '29.0' '28.0' '18.0' '21.0' '23.0'\n",
      " '23.0' '23.0' '25.0' '25.0' '20.0' '16.0' '16.0' '17.0' '17.0' '17.0'\n",
      " '17.0' '29.0' '43.0' '50.0' '79.0' '61.0' '66.0' '72.0' '67.0' '55.0'\n",
      " '35.0' '34.0' '30.0' '25.0' '24.0' '21.0' '17.0' '17.0' '27.0' '32.0'\n",
      " '26.0' '19.0' '18.0' '17.0' '30.0' '21.0' '47.0' '62.0' '75.0' '108.0'\n",
      " '103.0' '73.0' '68.0' '54.0' '35.0' '30.0' '24.0' '22.0' '20.0' '22.0'\n",
      " '22.0' '25.0' '26.0' '30.0' '34.0' '41.0' '33.0' '37.0' '31.0' '33.0'\n",
      " '53.0' '84.0' '101.0' '105.0' '92.0' '85.0' '75.0' '65.0' '54.0' '49.0'\n",
      " '44.0' '35.0' '33.0' '33.0' '40.0' '47.0' '49.0' '51.0' '67.0' '54.0'\n",
      " '46.0' '50.0' '52.0' '119.0' '120.0' '128.0' '131.0' '84.0' '63.0' '52.0'\n",
      " '34.0' '33.0' '27.0' '18.0' '20.0' '18.0' '29.0' '26.0' '37.0' '45.0'\n",
      " '48.0' '40.0' '27.0' '24.0' '28.0' '33.0' '70.0' '86.0' '114.0' '120.0'\n",
      " '98.0' '72.0' '84.0' '83.0' '68.0' '47.0' '36.0' '35.0' '24.0' '26.0'\n",
      " '25.0' '35.0' '48.0' '55.0' '71.0' '85.0' '97.0' '82.0' '93.0' '103.0'\n",
      " '110.0' '133.0' '137.0' '134.0' '103.0' '114.0' '67.0' '65.0' '58.0'\n",
      " '58.0' '53.0' '50.0' '49.0' '46.0' '43.0' '45.0' '48.0' '47.0' '44.0'\n",
      " '47.0' '49.0' '57.0' '50.0' '60.0' '59.0' '61.0' '61.0' '53.0' '57.0'\n",
      " '64.0' '45.0' '38.0' '32.0' '25.0' '19.0' '18.0' '19.0' '22.0' '23.0'\n",
      " '27.0' '29.0' '30.0' '33.0' '38.0' '36.0' '36.0' '48.0' '49.0' '47.0'\n",
      " '41.0' '31.0' '26.0' '21.0' '17.0' '16.0' '14.0' '14.0' '12.0' '10.0'\n",
      " '8.0' '7.0' '7.0' '7.0' '8.0' '14.0' '12.0' '23.0' '21.0' '14.0' '11.0'\n",
      " '13.0' '19.0' '20.0' '27.0' '41.0' '55.0' '57.0' '47.0' '39.0' '31.0'\n",
      " '35.0' '25.0' '19.0' '12.0' '11.0' '11.0' '9.0' '12.0' '17.0' '10.0'\n",
      " '11.0' '6.0' '6.0' '6.0' '6.0' '7.0' '11.0' '11.0' '15.0' '25.0' '23.0'\n",
      " '16.0' '12.0' '13.0' '12.0' '9.0' '7.0' '7.0' '6.0' '8.0' '10.0' '17.0'\n",
      " '20.0' '17.0' '18.0' '17.0' '16.0' '19.0' '18.0' '26.0' '31.0' '29.0'\n",
      " '40.0' '42.0' '36.0' '32.0' '26.0' '23.0' '18.0' '16.0' '14.0' '12.0'\n",
      " '9.0' '9.0' '13.0' '29.0' '33.0' '22.0' '17.0' '18.0' '21.0' '17.0'\n",
      " '19.0' '26.0' '64.0' '49.0' '78.0' '87.0' '66.0' '48.0' '23.0' '18.0'\n",
      " '14.0' '12.0' '10.0' '9.0' '9.0' '11.0' '18.0' '26.0' '34.0' '26.0'\n",
      " '36.0' '23.0' '22.0' '24.0' '24.0' '25.0' '28.0' '41.0' '63.0' '65.0'\n",
      " '62.0' '51.0' '46.0' '35.0' '27.0' '28.0' '26.0' '20.0' '15.0' '16.0'\n",
      " '18.0' '30.0' '44.0' '45.0' '27.0' '31.0' '39.0' '41.0' '58.0' '91.0'\n",
      " '106.0' '141.0' '82.0' '83.0' '66.0' '59.0' '47.0' '40.0' '35.0' '32.0'\n",
      " '29.0' '29.0' '31.0' '42.0' '50.0' '39.0' '46.0' '47.0' '44.0' '55.0'\n",
      " '47.0' '47.0' '53.0' '69.0' '94.0' '90.0' '72.0' '73.0' '57.0' '44.0'\n",
      " '39.0' '35.0' '27.0' '27.0' '26.0' '26.0' '32.0' '33.0' '28.0' '29.0'\n",
      " '26.0' '24.0' '23.0' '21.0' '16.0' '24.0' '36.0' '58.0' '72.0' '62.0'\n",
      " '61.0' '51.0' '35.0' '26.0' '28.0' '21.0' '19.0' '20.0' '19.0' '19.0'\n",
      " '19.0' '24.0' '29.0' '34.0' '25.0' '22.0' '20.0' '18.0' '20.0' '22.0'\n",
      " '25.0' '32.0' '41.0' '54.0' '58.0' '64.0' '63.0' '48.0' '36.0' '33.0'\n",
      " '27.0' '25.0' '23.0' '25.0' '24.0' '32.0' '29.0' '32.0' '31.0' '35.0'\n",
      " '31.0' '33.0' '31.0' '39.0' '41.0' '50.0' '54.0' '52.0' '58.0' '61.0'\n",
      " '52.0' '47.0' '33.0']\n"
     ]
    }
   ],
   "source": [
    "print(df_tot.sort_index().loc[\"2021-01-01\":\"2021-02-1\"][\"PM10\"].values)"
   ]
  },
  {
   "cell_type": "code",
   "execution_count": 53,
   "id": "f5e0f9bd",
   "metadata": {},
   "outputs": [
    {
     "name": "stderr",
     "output_type": "stream",
     "text": [
      "c:\\Users\\lucag\\AppData\\Local\\Programs\\Python\\Python311\\Lib\\site-packages\\scipy\\optimize\\_minpack_py.py:1010: OptimizeWarning: Covariance of the parameters could not be estimated\n",
      "  warnings.warn('Covariance of the parameters could not be estimated',\n"
     ]
    }
   ],
   "source": [
    "##Example of curve fit\n",
    "\n",
    "\n",
    "##Define a model\n",
    "def f_model(x, a, b, c, d, e):\n",
    "    Sig, T, RH = x\n",
    "    return a * Sig**b + d * T + e + c\n",
    "\n",
    "\n",
    "##df8 is an example of a dataframe, indexed with data and with columns name not really informative\n",
    "\n",
    "##You are training here from a start to end the slicing of a database\n",
    "(\n",
    "    popt,\n",
    "    pcov,\n",
    ") = curve_fit(  # popt are the optimal values, pcov is the covariance matrix of the optimized values.\n",
    "    f=f_model,  # model function\n",
    "    xdata=(\n",
    "        df_tot.sort_index().loc[\"2021-01-01\":\"2021-04-1\"][\"V\"].values,\n",
    "        df_tot.sort_index().loc[\"2021-01-01\":\"2021-04-1\"][\"R\"].values,\n",
    "        df_tot.sort_index().loc[\"2021-01-01\":\"2021-04-1\"][\"HT\"].values,\n",
    "    ),  # x data\n",
    "    ydata=df_tot.sort_index().loc[\"2021-01-01\":\"2021-04-1\"][\"PM10\"].values,  # y data\n",
    "    p0=(4, 1, 1, 1, 1),  # initial value of the parameters\n",
    "    maxfev=10000,  # Number of times in which you repeat the training, close to epochs\n",
    ")\n",
    "a_opt, b_opt, c_opt, d_opt, e_opt = popt\n",
    "df_tot[\"model 1\"] = f_model(\n",
    "    (df_tot[\"V\"].values, df_tot[\"R\"].values, df_tot[\"HT\"].values),\n",
    "    a_opt,\n",
    "    b_opt,\n",
    "    c_opt,\n",
    "    d_opt,\n",
    "    e_opt,\n",
    ")  # Here you are predicting the value of your complete samples"
   ]
  },
  {
   "cell_type": "code",
   "execution_count": 54,
   "id": "9629d868",
   "metadata": {},
   "outputs": [
    {
     "data": {
      "text/plain": [
       "<matplotlib.collections.PathCollection at 0x2762e9a8c50>"
      ]
     },
     "execution_count": 54,
     "metadata": {},
     "output_type": "execute_result"
    },
    {
     "data": {
      "image/png": "[encoded data removed]",
      "text/plain": [
       "<Figure size 640x480 with 1 Axes>"
      ]
     },
     "metadata": {},
     "output_type": "display_data"
    }
   ],
   "source": [
    "plt.scatter(df_tot[\"HT\"], df_tot[\"model 1\"])\n",
    "plt.scatter(df_tot[\"HT\"], df_tot[\"HT\"])"
   ]
  },
  {
   "cell_type": "code",
   "execution_count": 55,
   "id": "876081ce",
   "metadata": {},
   "outputs": [
    {
     "data": {
      "text/html": [
       "<div>\n",
       "<style scoped>\n",
       "    .dataframe tbody tr th:only-of-type {\n",
       "        vertical-align: middle;\n",
       "    }\n",
       "\n",
       "    .dataframe tbody tr th {\n",
       "        vertical-align: top;\n",
       "    }\n",
       "\n",
       "    .dataframe thead th {\n",
       "        text-align: right;\n",
       "    }\n",
       "</style>\n",
       "<table border=\"1\" class=\"dataframe\">\n",
       "  <thead>\n",
       "    <tr style=\"text-align: right;\">\n",
       "      <th></th>\n",
       "      <th>R</th>\n",
       "      <th>HT</th>\n",
       "      <th>V</th>\n",
       "      <th>PM10</th>\n",
       "      <th>Ossido di Carbonio</th>\n",
       "      <th>Biossido di Azoto</th>\n",
       "      <th>model 1</th>\n",
       "    </tr>\n",
       "    <tr>\n",
       "      <th>ts</th>\n",
       "      <th></th>\n",
       "      <th></th>\n",
       "      <th></th>\n",
       "      <th></th>\n",
       "      <th></th>\n",
       "      <th></th>\n",
       "      <th></th>\n",
       "    </tr>\n",
       "  </thead>\n",
       "  <tbody>\n",
       "    <tr>\n",
       "      <th>2021-01-13 10:00:00+00:00</th>\n",
       "      <td>3.293993e+07</td>\n",
       "      <td>77.171739</td>\n",
       "      <td>2.153696</td>\n",
       "      <td>53.0</td>\n",
       "      <td>0.8</td>\n",
       "      <td>67.0</td>\n",
       "      <td>55.006531</td>\n",
       "    </tr>\n",
       "    <tr>\n",
       "      <th>2021-01-13 11:00:00+00:00</th>\n",
       "      <td>2.648063e+05</td>\n",
       "      <td>90.883051</td>\n",
       "      <td>3.234746</td>\n",
       "      <td>48.0</td>\n",
       "      <td>0.7</td>\n",
       "      <td>68.0</td>\n",
       "      <td>32.697212</td>\n",
       "    </tr>\n",
       "    <tr>\n",
       "      <th>2021-01-13 12:00:00+00:00</th>\n",
       "      <td>2.617744e+05</td>\n",
       "      <td>90.857627</td>\n",
       "      <td>3.234746</td>\n",
       "      <td>43.0</td>\n",
       "      <td>0.7</td>\n",
       "      <td>71.0</td>\n",
       "      <td>32.695142</td>\n",
       "    </tr>\n",
       "    <tr>\n",
       "      <th>2021-01-13 13:00:00+00:00</th>\n",
       "      <td>2.601968e+05</td>\n",
       "      <td>90.866102</td>\n",
       "      <td>3.233898</td>\n",
       "      <td>46.0</td>\n",
       "      <td>0.7</td>\n",
       "      <td>76.0</td>\n",
       "      <td>32.694065</td>\n",
       "    </tr>\n",
       "    <tr>\n",
       "      <th>2021-01-13 14:00:00+00:00</th>\n",
       "      <td>2.600834e+05</td>\n",
       "      <td>90.801695</td>\n",
       "      <td>3.234068</td>\n",
       "      <td>66.0</td>\n",
       "      <td>1.0</td>\n",
       "      <td>107.0</td>\n",
       "      <td>32.693987</td>\n",
       "    </tr>\n",
       "    <tr>\n",
       "      <th>...</th>\n",
       "      <td>...</td>\n",
       "      <td>...</td>\n",
       "      <td>...</td>\n",
       "      <td>...</td>\n",
       "      <td>...</td>\n",
       "      <td>...</td>\n",
       "      <td>...</td>\n",
       "    </tr>\n",
       "    <tr>\n",
       "      <th>2023-06-26 05:00:00+00:00</th>\n",
       "      <td>2.850602e+06</td>\n",
       "      <td>112.324138</td>\n",
       "      <td>3.363276</td>\n",
       "      <td>25.0</td>\n",
       "      <td>0.3</td>\n",
       "      <td>25.0</td>\n",
       "      <td>34.462694</td>\n",
       "    </tr>\n",
       "    <tr>\n",
       "      <th>2023-06-26 06:00:00+00:00</th>\n",
       "      <td>3.045518e+06</td>\n",
       "      <td>112.315254</td>\n",
       "      <td>3.362712</td>\n",
       "      <td>25.0</td>\n",
       "      <td>0.3</td>\n",
       "      <td>27.0</td>\n",
       "      <td>34.595775</td>\n",
       "    </tr>\n",
       "    <tr>\n",
       "      <th>2023-06-26 07:00:00+00:00</th>\n",
       "      <td>2.443874e+06</td>\n",
       "      <td>112.268333</td>\n",
       "      <td>3.362167</td>\n",
       "      <td>20.0</td>\n",
       "      <td>0.3</td>\n",
       "      <td>14.0</td>\n",
       "      <td>34.184995</td>\n",
       "    </tr>\n",
       "    <tr>\n",
       "      <th>2023-06-26 08:00:00+00:00</th>\n",
       "      <td>1.912000e+06</td>\n",
       "      <td>112.194915</td>\n",
       "      <td>3.360847</td>\n",
       "      <td>17.0</td>\n",
       "      <td>0.3</td>\n",
       "      <td>17.0</td>\n",
       "      <td>33.821852</td>\n",
       "    </tr>\n",
       "    <tr>\n",
       "      <th>2023-06-26 09:00:00+00:00</th>\n",
       "      <td>1.706110e+06</td>\n",
       "      <td>112.225000</td>\n",
       "      <td>3.362500</td>\n",
       "      <td>15.0</td>\n",
       "      <td>0.3</td>\n",
       "      <td>21.0</td>\n",
       "      <td>33.681279</td>\n",
       "    </tr>\n",
       "  </tbody>\n",
       "</table>\n",
       "<p>19942 rows × 7 columns</p>\n",
       "</div>"
      ],
      "text/plain": [
       "                                      R          HT         V  PM10  \\\n",
       "ts                                                                    \n",
       "2021-01-13 10:00:00+00:00  3.293993e+07   77.171739  2.153696  53.0   \n",
       "2021-01-13 11:00:00+00:00  2.648063e+05   90.883051  3.234746  48.0   \n",
       "2021-01-13 12:00:00+00:00  2.617744e+05   90.857627  3.234746  43.0   \n",
       "2021-01-13 13:00:00+00:00  2.601968e+05   90.866102  3.233898  46.0   \n",
       "2021-01-13 14:00:00+00:00  2.600834e+05   90.801695  3.234068  66.0   \n",
       "...                                 ...         ...       ...   ...   \n",
       "2023-06-26 05:00:00+00:00  2.850602e+06  112.324138  3.363276  25.0   \n",
       "2023-06-26 06:00:00+00:00  3.045518e+06  112.315254  3.362712  25.0   \n",
       "2023-06-26 07:00:00+00:00  2.443874e+06  112.268333  3.362167  20.0   \n",
       "2023-06-26 08:00:00+00:00  1.912000e+06  112.194915  3.360847  17.0   \n",
       "2023-06-26 09:00:00+00:00  1.706110e+06  112.225000  3.362500  15.0   \n",
       "\n",
       "                           Ossido di Carbonio  Biossido di Azoto    model 1  \n",
       "ts                                                                           \n",
       "2021-01-13 10:00:00+00:00                 0.8               67.0  55.006531  \n",
       "2021-01-13 11:00:00+00:00                 0.7               68.0  32.697212  \n",
       "2021-01-13 12:00:00+00:00                 0.7               71.0  32.695142  \n",
       "2021-01-13 13:00:00+00:00                 0.7               76.0  32.694065  \n",
       "2021-01-13 14:00:00+00:00                 1.0              107.0  32.693987  \n",
       "...                                       ...                ...        ...  \n",
       "2023-06-26 05:00:00+00:00                 0.3               25.0  34.462694  \n",
       "2023-06-26 06:00:00+00:00                 0.3               27.0  34.595775  \n",
       "2023-06-26 07:00:00+00:00                 0.3               14.0  34.184995  \n",
       "2023-06-26 08:00:00+00:00                 0.3               17.0  33.821852  \n",
       "2023-06-26 09:00:00+00:00                 0.3               21.0  33.681279  \n",
       "\n",
       "[19942 rows x 7 columns]"
      ]
     },
     "execution_count": 55,
     "metadata": {},
     "output_type": "execute_result"
    }
   ],
   "source": [
    "df_tot"
   ]
  },
  {
   "cell_type": "code",
   "execution_count": 68,
   "id": "d8119a9d",
   "metadata": {},
   "outputs": [],
   "source": [
    "##Example of Scaler, matrices or something like these\n",
    "\n",
    "from sklearn.preprocessing import StandardScaler\n",
    "from sklearn.preprocessing import MinMaxScaler\n",
    "from sklearn.metrics import mean_absolute_error\n",
    "from sklearn.metrics import mean_squared_error\n",
    "\n",
    "##Place whatever dataframe you want\n",
    "X = df_tot.drop([\"PM10\",\"Ossido di Carbonio\",\"Biossido di Azoto\"], axis=1)\n",
    "\n",
    "y = df_tot[\"Biossido di Azoto\"].copy()\n",
    "\n",
    "try :\n",
    "    INPUT_DIM = len(X.columns)\n",
    "    OUTPUT_DIM = len(y.columns)\n",
    "except:\n",
    "    INPUT_DIM = len(X.columns)\n",
    "    OUTPUT_DIM = 1"
   ]
  },
  {
   "cell_type": "code",
   "execution_count": 69,
   "id": "39988dd7",
   "metadata": {},
   "outputs": [],
   "source": [
    "# Split training and test, remember that you may want to not shuffle data while dividing them\n",
    "X_train, X_test, y_train, y_test = train_test_split(\n",
    "    X, y, test_size=0.3, random_state=42, shuffle=True\n",
    ")\n",
    "# You perform a standard scaler (or minmax scaler) to make the data more usable by the machine learning\n",
    "# model\n",
    "scaler = StandardScaler()\n",
    "scaler.fit(X_train)\n",
    "\n",
    "X_train_scaled = scaler.transform(X_train)\n",
    "X_test_scaled = scaler.transform(X_test)\n",
    "\n",
    "scaler = StandardScaler()\n",
    "scaler.fit(y_train.values.reshape(-1,1))\n",
    "\n",
    "y_train_s = scaler.transform(y_train.values.reshape(-1,1))\n",
    "y_test_s = scaler.transform(y_test.values.reshape(-1,1))"
   ]
  },
  {
   "cell_type": "code",
   "execution_count": 58,
   "id": "04943e22",
   "metadata": {},
   "outputs": [
    {
     "name": "stdout",
     "output_type": "stream",
     "text": [
      "Model: \"sequential_1\"\n",
      "_________________________________________________________________\n",
      " Layer (type)                Output Shape              Param #   \n",
      "=================================================================\n",
      " dense_5 (Dense)             (None, 64)                320       \n",
      "                                                                 \n",
      " dropout_4 (Dropout)         (None, 64)                0         \n",
      "                                                                 \n",
      " dense_6 (Dense)             (None, 128)               8320      \n",
      "                                                                 \n",
      " dropout_5 (Dropout)         (None, 128)               0         \n",
      "                                                                 \n",
      " dense_7 (Dense)             (None, 64)                8256      \n",
      "                                                                 \n",
      " dropout_6 (Dropout)         (None, 64)                0         \n",
      "                                                                 \n",
      " dense_8 (Dense)             (None, 16)                1040      \n",
      "                                                                 \n",
      " dropout_7 (Dropout)         (None, 16)                0         \n",
      "                                                                 \n",
      " dense_9 (Dense)             (None, 1)                 17        \n",
      "                                                                 \n",
      "=================================================================\n",
      "Total params: 17,953\n",
      "Trainable params: 17,953\n",
      "Non-trainable params: 0\n",
      "_________________________________________________________________\n",
      "Epoch 1/300\n"
     ]
    },
    {
     "name": "stdout",
     "output_type": "stream",
     "text": [
      "336/349 [===========================>..] - ETA: 0s - loss: 0.8893 - mean_squared_error: 0.8893\n",
      "Epoch 1: val_loss improved from inf to 0.91255, saving model to ./tmp\\checkpoint\n"
     ]
    },
    {
     "name": "stderr",
     "output_type": "stream",
     "text": [
      "WARNING:absl:Found untraced functions such as _update_step_xla while saving (showing 1 of 1). These functions will not be directly callable after loading.\n"
     ]
    },
    {
     "name": "stdout",
     "output_type": "stream",
     "text": [
      "INFO:tensorflow:Assets written to: ./tmp\\checkpoint\\assets\n"
     ]
    },
    {
     "name": "stderr",
     "output_type": "stream",
     "text": [
      "INFO:tensorflow:Assets written to: ./tmp\\checkpoint\\assets\n"
     ]
    },
    {
     "name": "stdout",
     "output_type": "stream",
     "text": [
      "349/349 [==============================] - 2s 3ms/step - loss: 0.8910 - mean_squared_error: 0.8910 - val_loss: 0.9126 - val_mean_squared_error: 0.9126\n",
      "Epoch 2/300\n",
      "328/349 [===========================>..] - ETA: 0s - loss: 0.8727 - mean_squared_error: 0.8727\n",
      "Epoch 2: val_loss improved from 0.91255 to 0.89292, saving model to ./tmp\\checkpoint\n"
     ]
    },
    {
     "name": "stderr",
     "output_type": "stream",
     "text": [
      "WARNING:absl:Found untraced functions such as _update_step_xla while saving (showing 1 of 1). These functions will not be directly callable after loading.\n"
     ]
    },
    {
     "name": "stdout",
     "output_type": "stream",
     "text": [
      "INFO:tensorflow:Assets written to: ./tmp\\checkpoint\\assets\n"
     ]
    },
    {
     "name": "stderr",
     "output_type": "stream",
     "text": [
      "INFO:tensorflow:Assets written to: ./tmp\\checkpoint\\assets\n"
     ]
    },
    {
     "name": "stdout",
     "output_type": "stream",
     "text": [
      "349/349 [==============================] - 1s 3ms/step - loss: 0.8722 - mean_squared_error: 0.8722 - val_loss: 0.8929 - val_mean_squared_error: 0.8929\n",
      "Epoch 3/300\n",
      "310/349 [=========================>....] - ETA: 0s - loss: 0.8701 - mean_squared_error: 0.8701\n",
      "Epoch 3: val_loss improved from 0.89292 to 0.88812, saving model to ./tmp\\checkpoint\n"
     ]
    },
    {
     "name": "stderr",
     "output_type": "stream",
     "text": [
      "WARNING:absl:Found untraced functions such as _update_step_xla while saving (showing 1 of 1). These functions will not be directly callable after loading.\n"
     ]
    },
    {
     "name": "stdout",
     "output_type": "stream",
     "text": [
      "INFO:tensorflow:Assets written to: ./tmp\\checkpoint\\assets\n"
     ]
    },
    {
     "name": "stderr",
     "output_type": "stream",
     "text": [
      "INFO:tensorflow:Assets written to: ./tmp\\checkpoint\\assets\n"
     ]
    },
    {
     "name": "stdout",
     "output_type": "stream",
     "text": [
      "349/349 [==============================] - 1s 3ms/step - loss: 0.8628 - mean_squared_error: 0.8628 - val_loss: 0.8881 - val_mean_squared_error: 0.8881\n",
      "Epoch 4/300\n",
      "325/349 [==========================>...] - ETA: 0s - loss: 0.8522 - mean_squared_error: 0.8522\n",
      "Epoch 4: val_loss improved from 0.88812 to 0.86714, saving model to ./tmp\\checkpoint\n"
     ]
    },
    {
     "name": "stderr",
     "output_type": "stream",
     "text": [
      "WARNING:absl:Found untraced functions such as _update_step_xla while saving (showing 1 of 1). These functions will not be directly callable after loading.\n"
     ]
    },
    {
     "name": "stdout",
     "output_type": "stream",
     "text": [
      "INFO:tensorflow:Assets written to: ./tmp\\checkpoint\\assets\n"
     ]
    },
    {
     "name": "stderr",
     "output_type": "stream",
     "text": [
      "INFO:tensorflow:Assets written to: ./tmp\\checkpoint\\assets\n"
     ]
    },
    {
     "name": "stdout",
     "output_type": "stream",
     "text": [
      "349/349 [==============================] - 1s 3ms/step - loss: 0.8578 - mean_squared_error: 0.8578 - val_loss: 0.8671 - val_mean_squared_error: 0.8671\n",
      "Epoch 5/300\n",
      "329/349 [===========================>..] - ETA: 0s - loss: 0.8535 - mean_squared_error: 0.8535\n",
      "Epoch 5: val_loss improved from 0.86714 to 0.85491, saving model to ./tmp\\checkpoint\n"
     ]
    },
    {
     "name": "stderr",
     "output_type": "stream",
     "text": [
      "WARNING:absl:Found untraced functions such as _update_step_xla while saving (showing 1 of 1). These functions will not be directly callable after loading.\n"
     ]
    },
    {
     "name": "stdout",
     "output_type": "stream",
     "text": [
      "INFO:tensorflow:Assets written to: ./tmp\\checkpoint\\assets\n"
     ]
    },
    {
     "name": "stderr",
     "output_type": "stream",
     "text": [
      "INFO:tensorflow:Assets written to: ./tmp\\checkpoint\\assets\n"
     ]
    },
    {
     "name": "stdout",
     "output_type": "stream",
     "text": [
      "349/349 [==============================] - 1s 3ms/step - loss: 0.8545 - mean_squared_error: 0.8545 - val_loss: 0.8549 - val_mean_squared_error: 0.8549\n",
      "Epoch 6/300\n",
      "342/349 [============================>.] - ETA: 0s - loss: 0.8457 - mean_squared_error: 0.8457\n",
      "Epoch 6: val_loss improved from 0.85491 to 0.83922, saving model to ./tmp\\checkpoint\n"
     ]
    },
    {
     "name": "stderr",
     "output_type": "stream",
     "text": [
      "WARNING:absl:Found untraced functions such as _update_step_xla while saving (showing 1 of 1). These functions will not be directly callable after loading.\n"
     ]
    },
    {
     "name": "stdout",
     "output_type": "stream",
     "text": [
      "INFO:tensorflow:Assets written to: ./tmp\\checkpoint\\assets\n"
     ]
    },
    {
     "name": "stderr",
     "output_type": "stream",
     "text": [
      "INFO:tensorflow:Assets written to: ./tmp\\checkpoint\\assets\n"
     ]
    },
    {
     "name": "stdout",
     "output_type": "stream",
     "text": [
      "349/349 [==============================] - 1s 4ms/step - loss: 0.8447 - mean_squared_error: 0.8447 - val_loss: 0.8392 - val_mean_squared_error: 0.8392\n",
      "Epoch 7/300\n",
      "306/349 [=========================>....] - ETA: 0s - loss: 0.8322 - mean_squared_error: 0.8322\n",
      "Epoch 7: val_loss improved from 0.83922 to 0.81881, saving model to ./tmp\\checkpoint\n"
     ]
    },
    {
     "name": "stderr",
     "output_type": "stream",
     "text": [
      "WARNING:absl:Found untraced functions such as _update_step_xla while saving (showing 1 of 1). These functions will not be directly callable after loading.\n"
     ]
    },
    {
     "name": "stdout",
     "output_type": "stream",
     "text": [
      "INFO:tensorflow:Assets written to: ./tmp\\checkpoint\\assets\n"
     ]
    },
    {
     "name": "stderr",
     "output_type": "stream",
     "text": [
      "INFO:tensorflow:Assets written to: ./tmp\\checkpoint\\assets\n"
     ]
    },
    {
     "name": "stdout",
     "output_type": "stream",
     "text": [
      "349/349 [==============================] - 1s 3ms/step - loss: 0.8325 - mean_squared_error: 0.8325 - val_loss: 0.8188 - val_mean_squared_error: 0.8188\n",
      "Epoch 8/300\n",
      "333/349 [===========================>..] - ETA: 0s - loss: 0.8155 - mean_squared_error: 0.8155\n",
      "Epoch 8: val_loss improved from 0.81881 to 0.79846, saving model to ./tmp\\checkpoint\n"
     ]
    },
    {
     "name": "stderr",
     "output_type": "stream",
     "text": [
      "WARNING:absl:Found untraced functions such as _update_step_xla while saving (showing 1 of 1). These functions will not be directly callable after loading.\n"
     ]
    },
    {
     "name": "stdout",
     "output_type": "stream",
     "text": [
      "INFO:tensorflow:Assets written to: ./tmp\\checkpoint\\assets\n"
     ]
    },
    {
     "name": "stderr",
     "output_type": "stream",
     "text": [
      "INFO:tensorflow:Assets written to: ./tmp\\checkpoint\\assets\n"
     ]
    },
    {
     "name": "stdout",
     "output_type": "stream",
     "text": [
      "349/349 [==============================] - 1s 3ms/step - loss: 0.8138 - mean_squared_error: 0.8138 - val_loss: 0.7985 - val_mean_squared_error: 0.7985\n",
      "Epoch 9/300\n",
      "319/349 [==========================>...] - ETA: 0s - loss: 0.7879 - mean_squared_error: 0.7879\n",
      "Epoch 9: val_loss improved from 0.79846 to 0.76101, saving model to ./tmp\\checkpoint\n"
     ]
    },
    {
     "name": "stderr",
     "output_type": "stream",
     "text": [
      "WARNING:absl:Found untraced functions such as _update_step_xla while saving (showing 1 of 1). These functions will not be directly callable after loading.\n"
     ]
    },
    {
     "name": "stdout",
     "output_type": "stream",
     "text": [
      "INFO:tensorflow:Assets written to: ./tmp\\checkpoint\\assets\n"
     ]
    },
    {
     "name": "stderr",
     "output_type": "stream",
     "text": [
      "INFO:tensorflow:Assets written to: ./tmp\\checkpoint\\assets\n"
     ]
    },
    {
     "name": "stdout",
     "output_type": "stream",
     "text": [
      "349/349 [==============================] - 1s 3ms/step - loss: 0.7910 - mean_squared_error: 0.7910 - val_loss: 0.7610 - val_mean_squared_error: 0.7610\n",
      "Epoch 10/300\n",
      "332/349 [===========================>..] - ETA: 0s - loss: 0.7777 - mean_squared_error: 0.7777\n",
      "Epoch 10: val_loss improved from 0.76101 to 0.74335, saving model to ./tmp\\checkpoint\n"
     ]
    },
    {
     "name": "stderr",
     "output_type": "stream",
     "text": [
      "WARNING:absl:Found untraced functions such as _update_step_xla while saving (showing 1 of 1). These functions will not be directly callable after loading.\n"
     ]
    },
    {
     "name": "stdout",
     "output_type": "stream",
     "text": [
      "INFO:tensorflow:Assets written to: ./tmp\\checkpoint\\assets\n"
     ]
    },
    {
     "name": "stderr",
     "output_type": "stream",
     "text": [
      "INFO:tensorflow:Assets written to: ./tmp\\checkpoint\\assets\n"
     ]
    },
    {
     "name": "stdout",
     "output_type": "stream",
     "text": [
      "349/349 [==============================] - 1s 3ms/step - loss: 0.7757 - mean_squared_error: 0.7757 - val_loss: 0.7434 - val_mean_squared_error: 0.7434\n",
      "Epoch 11/300\n",
      "329/349 [===========================>..] - ETA: 0s - loss: 0.7626 - mean_squared_error: 0.7626\n",
      "Epoch 11: val_loss improved from 0.74335 to 0.72360, saving model to ./tmp\\checkpoint\n"
     ]
    },
    {
     "name": "stderr",
     "output_type": "stream",
     "text": [
      "WARNING:absl:Found untraced functions such as _update_step_xla while saving (showing 1 of 1). These functions will not be directly callable after loading.\n"
     ]
    },
    {
     "name": "stdout",
     "output_type": "stream",
     "text": [
      "INFO:tensorflow:Assets written to: ./tmp\\checkpoint\\assets\n"
     ]
    },
    {
     "name": "stderr",
     "output_type": "stream",
     "text": [
      "INFO:tensorflow:Assets written to: ./tmp\\checkpoint\\assets\n"
     ]
    },
    {
     "name": "stdout",
     "output_type": "stream",
     "text": [
      "349/349 [==============================] - 1s 4ms/step - loss: 0.7636 - mean_squared_error: 0.7636 - val_loss: 0.7236 - val_mean_squared_error: 0.7236\n",
      "Epoch 12/300\n",
      "345/349 [============================>.] - ETA: 0s - loss: 0.7628 - mean_squared_error: 0.7628\n",
      "Epoch 12: val_loss did not improve from 0.72360\n",
      "349/349 [==============================] - 1s 2ms/step - loss: 0.7619 - mean_squared_error: 0.7619 - val_loss: 0.7270 - val_mean_squared_error: 0.7270\n",
      "Epoch 13/300\n",
      "324/349 [==========================>...] - ETA: 0s - loss: 0.7398 - mean_squared_error: 0.7398\n",
      "Epoch 13: val_loss did not improve from 0.72360\n",
      "349/349 [==============================] - 1s 2ms/step - loss: 0.7385 - mean_squared_error: 0.7385 - val_loss: 0.7239 - val_mean_squared_error: 0.7239\n",
      "Epoch 14/300\n",
      "334/349 [===========================>..] - ETA: 0s - loss: 0.7347 - mean_squared_error: 0.7347\n",
      "Epoch 14: val_loss improved from 0.72360 to 0.71273, saving model to ./tmp\\checkpoint\n"
     ]
    },
    {
     "name": "stderr",
     "output_type": "stream",
     "text": [
      "WARNING:absl:Found untraced functions such as _update_step_xla while saving (showing 1 of 1). These functions will not be directly callable after loading.\n"
     ]
    },
    {
     "name": "stdout",
     "output_type": "stream",
     "text": [
      "INFO:tensorflow:Assets written to: ./tmp\\checkpoint\\assets\n"
     ]
    },
    {
     "name": "stderr",
     "output_type": "stream",
     "text": [
      "INFO:tensorflow:Assets written to: ./tmp\\checkpoint\\assets\n"
     ]
    },
    {
     "name": "stdout",
     "output_type": "stream",
     "text": [
      "349/349 [==============================] - 1s 3ms/step - loss: 0.7389 - mean_squared_error: 0.7389 - val_loss: 0.7127 - val_mean_squared_error: 0.7127\n",
      "Epoch 15/300\n",
      "316/349 [==========================>...] - ETA: 0s - loss: 0.7350 - mean_squared_error: 0.7350\n",
      "Epoch 15: val_loss improved from 0.71273 to 0.70901, saving model to ./tmp\\checkpoint\n"
     ]
    },
    {
     "name": "stderr",
     "output_type": "stream",
     "text": [
      "WARNING:absl:Found untraced functions such as _update_step_xla while saving (showing 1 of 1). These functions will not be directly callable after loading.\n"
     ]
    },
    {
     "name": "stdout",
     "output_type": "stream",
     "text": [
      "INFO:tensorflow:Assets written to: ./tmp\\checkpoint\\assets\n"
     ]
    },
    {
     "name": "stderr",
     "output_type": "stream",
     "text": [
      "INFO:tensorflow:Assets written to: ./tmp\\checkpoint\\assets\n"
     ]
    },
    {
     "name": "stdout",
     "output_type": "stream",
     "text": [
      "349/349 [==============================] - 1s 4ms/step - loss: 0.7314 - mean_squared_error: 0.7314 - val_loss: 0.7090 - val_mean_squared_error: 0.7090\n",
      "Epoch 16/300\n",
      "325/349 [==========================>...] - ETA: 0s - loss: 0.7178 - mean_squared_error: 0.7178\n",
      "Epoch 16: val_loss did not improve from 0.70901\n",
      "349/349 [==============================] - 1s 2ms/step - loss: 0.7228 - mean_squared_error: 0.7228 - val_loss: 0.7218 - val_mean_squared_error: 0.7218\n",
      "Epoch 17/300\n",
      "338/349 [============================>.] - ETA: 0s - loss: 0.7169 - mean_squared_error: 0.7169\n",
      "Epoch 17: val_loss improved from 0.70901 to 0.67931, saving model to ./tmp\\checkpoint\n"
     ]
    },
    {
     "name": "stderr",
     "output_type": "stream",
     "text": [
      "WARNING:absl:Found untraced functions such as _update_step_xla while saving (showing 1 of 1). These functions will not be directly callable after loading.\n"
     ]
    },
    {
     "name": "stdout",
     "output_type": "stream",
     "text": [
      "INFO:tensorflow:Assets written to: ./tmp\\checkpoint\\assets\n"
     ]
    },
    {
     "name": "stderr",
     "output_type": "stream",
     "text": [
      "INFO:tensorflow:Assets written to: ./tmp\\checkpoint\\assets\n"
     ]
    },
    {
     "name": "stdout",
     "output_type": "stream",
     "text": [
      "349/349 [==============================] - 1s 4ms/step - loss: 0.7137 - mean_squared_error: 0.7137 - val_loss: 0.6793 - val_mean_squared_error: 0.6793\n",
      "Epoch 18/300\n",
      "343/349 [============================>.] - ETA: 0s - loss: 0.7057 - mean_squared_error: 0.7057\n",
      "Epoch 18: val_loss did not improve from 0.67931\n",
      "349/349 [==============================] - 1s 2ms/step - loss: 0.7057 - mean_squared_error: 0.7057 - val_loss: 0.6956 - val_mean_squared_error: 0.6956\n",
      "Epoch 19/300\n",
      "313/349 [=========================>....] - ETA: 0s - loss: 0.6902 - mean_squared_error: 0.6902\n",
      "Epoch 19: val_loss improved from 0.67931 to 0.65155, saving model to ./tmp\\checkpoint\n"
     ]
    },
    {
     "name": "stderr",
     "output_type": "stream",
     "text": [
      "WARNING:absl:Found untraced functions such as _update_step_xla while saving (showing 1 of 1). These functions will not be directly callable after loading.\n"
     ]
    },
    {
     "name": "stdout",
     "output_type": "stream",
     "text": [
      "INFO:tensorflow:Assets written to: ./tmp\\checkpoint\\assets\n"
     ]
    },
    {
     "name": "stderr",
     "output_type": "stream",
     "text": [
      "INFO:tensorflow:Assets written to: ./tmp\\checkpoint\\assets\n"
     ]
    },
    {
     "name": "stdout",
     "output_type": "stream",
     "text": [
      "349/349 [==============================] - 1s 4ms/step - loss: 0.6951 - mean_squared_error: 0.6951 - val_loss: 0.6516 - val_mean_squared_error: 0.6516\n",
      "Epoch 20/300\n",
      "331/349 [===========================>..] - ETA: 0s - loss: 0.6913 - mean_squared_error: 0.6913\n",
      "Epoch 20: val_loss did not improve from 0.65155\n",
      "349/349 [==============================] - 0s 1ms/step - loss: 0.6937 - mean_squared_error: 0.6937 - val_loss: 0.6810 - val_mean_squared_error: 0.6810\n",
      "Epoch 21/300\n",
      "332/349 [===========================>..] - ETA: 0s - loss: 0.6960 - mean_squared_error: 0.6960\n",
      "Epoch 21: val_loss did not improve from 0.65155\n",
      "349/349 [==============================] - 0s 1ms/step - loss: 0.6926 - mean_squared_error: 0.6926 - val_loss: 0.6646 - val_mean_squared_error: 0.6646\n",
      "Epoch 22/300\n",
      "337/349 [===========================>..] - ETA: 0s - loss: 0.6888 - mean_squared_error: 0.6888\n",
      "Epoch 22: val_loss did not improve from 0.65155\n",
      "349/349 [==============================] - 0s 1ms/step - loss: 0.6907 - mean_squared_error: 0.6907 - val_loss: 0.6863 - val_mean_squared_error: 0.6863\n",
      "Epoch 23/300\n",
      "312/349 [=========================>....] - ETA: 0s - loss: 0.6868 - mean_squared_error: 0.6868\n",
      "Epoch 23: val_loss did not improve from 0.65155\n",
      "349/349 [==============================] - 0s 1ms/step - loss: 0.6849 - mean_squared_error: 0.6849 - val_loss: 0.6843 - val_mean_squared_error: 0.6843\n",
      "Epoch 24/300\n",
      "327/349 [===========================>..] - ETA: 0s - loss: 0.6892 - mean_squared_error: 0.6892\n",
      "Epoch 24: val_loss improved from 0.65155 to 0.64880, saving model to ./tmp\\checkpoint\n"
     ]
    },
    {
     "name": "stderr",
     "output_type": "stream",
     "text": [
      "WARNING:absl:Found untraced functions such as _update_step_xla while saving (showing 1 of 1). These functions will not be directly callable after loading.\n"
     ]
    },
    {
     "name": "stdout",
     "output_type": "stream",
     "text": [
      "INFO:tensorflow:Assets written to: ./tmp\\checkpoint\\assets\n"
     ]
    },
    {
     "name": "stderr",
     "output_type": "stream",
     "text": [
      "INFO:tensorflow:Assets written to: ./tmp\\checkpoint\\assets\n"
     ]
    },
    {
     "name": "stdout",
     "output_type": "stream",
     "text": [
      "349/349 [==============================] - 1s 4ms/step - loss: 0.6872 - mean_squared_error: 0.6872 - val_loss: 0.6488 - val_mean_squared_error: 0.6488\n",
      "Epoch 25/300\n",
      "339/349 [============================>.] - ETA: 0s - loss: 0.6755 - mean_squared_error: 0.6755\n",
      "Epoch 25: val_loss did not improve from 0.64880\n",
      "349/349 [==============================] - 1s 1ms/step - loss: 0.6782 - mean_squared_error: 0.6782 - val_loss: 0.6678 - val_mean_squared_error: 0.6678\n",
      "Epoch 26/300\n",
      "337/349 [===========================>..] - ETA: 0s - loss: 0.6849 - mean_squared_error: 0.6849\n",
      "Epoch 26: val_loss did not improve from 0.64880\n",
      "349/349 [==============================] - 1s 2ms/step - loss: 0.6815 - mean_squared_error: 0.6815 - val_loss: 0.6984 - val_mean_squared_error: 0.6984\n",
      "Epoch 27/300\n",
      "318/349 [==========================>...] - ETA: 0s - loss: 0.6768 - mean_squared_error: 0.6768\n",
      "Epoch 27: val_loss did not improve from 0.64880\n",
      "349/349 [==============================] - 1s 2ms/step - loss: 0.6787 - mean_squared_error: 0.6787 - val_loss: 0.6635 - val_mean_squared_error: 0.6635\n",
      "Epoch 28/300\n",
      "316/349 [==========================>...] - ETA: 0s - loss: 0.6760 - mean_squared_error: 0.6760\n",
      "Epoch 28: val_loss did not improve from 0.64880\n",
      "349/349 [==============================] - 0s 1ms/step - loss: 0.6775 - mean_squared_error: 0.6775 - val_loss: 0.6639 - val_mean_squared_error: 0.6639\n",
      "Epoch 29/300\n",
      "322/349 [==========================>...] - ETA: 0s - loss: 0.6673 - mean_squared_error: 0.6673\n",
      "Epoch 29: val_loss did not improve from 0.64880\n",
      "349/349 [==============================] - 0s 1ms/step - loss: 0.6682 - mean_squared_error: 0.6682 - val_loss: 0.6583 - val_mean_squared_error: 0.6583\n",
      "Epoch 30/300\n",
      "304/349 [=========================>....] - ETA: 0s - loss: 0.6724 - mean_squared_error: 0.6724\n",
      "Epoch 30: val_loss improved from 0.64880 to 0.64531, saving model to ./tmp\\checkpoint\n"
     ]
    },
    {
     "name": "stderr",
     "output_type": "stream",
     "text": [
      "WARNING:absl:Found untraced functions such as _update_step_xla while saving (showing 1 of 1). These functions will not be directly callable after loading.\n"
     ]
    },
    {
     "name": "stdout",
     "output_type": "stream",
     "text": [
      "INFO:tensorflow:Assets written to: ./tmp\\checkpoint\\assets\n"
     ]
    },
    {
     "name": "stderr",
     "output_type": "stream",
     "text": [
      "INFO:tensorflow:Assets written to: ./tmp\\checkpoint\\assets\n"
     ]
    },
    {
     "name": "stdout",
     "output_type": "stream",
     "text": [
      "349/349 [==============================] - 1s 3ms/step - loss: 0.6799 - mean_squared_error: 0.6799 - val_loss: 0.6453 - val_mean_squared_error: 0.6453\n",
      "Epoch 31/300\n",
      "322/349 [==========================>...] - ETA: 0s - loss: 0.6781 - mean_squared_error: 0.6781\n",
      "Epoch 31: val_loss did not improve from 0.64531\n",
      "349/349 [==============================] - 1s 1ms/step - loss: 0.6776 - mean_squared_error: 0.6776 - val_loss: 0.6464 - val_mean_squared_error: 0.6464\n",
      "Epoch 32/300\n",
      "314/349 [=========================>....] - ETA: 0s - loss: 0.6665 - mean_squared_error: 0.6665\n",
      "Epoch 32: val_loss did not improve from 0.64531\n",
      "349/349 [==============================] - 0s 1ms/step - loss: 0.6715 - mean_squared_error: 0.6715 - val_loss: 0.6663 - val_mean_squared_error: 0.6663\n",
      "Epoch 33/300\n",
      "332/349 [===========================>..] - ETA: 0s - loss: 0.6829 - mean_squared_error: 0.6829\n",
      "Epoch 33: val_loss improved from 0.64531 to 0.63971, saving model to ./tmp\\checkpoint\n"
     ]
    },
    {
     "name": "stderr",
     "output_type": "stream",
     "text": [
      "WARNING:absl:Found untraced functions such as _update_step_xla while saving (showing 1 of 1). These functions will not be directly callable after loading.\n"
     ]
    },
    {
     "name": "stdout",
     "output_type": "stream",
     "text": [
      "INFO:tensorflow:Assets written to: ./tmp\\checkpoint\\assets\n"
     ]
    },
    {
     "name": "stderr",
     "output_type": "stream",
     "text": [
      "INFO:tensorflow:Assets written to: ./tmp\\checkpoint\\assets\n"
     ]
    },
    {
     "name": "stdout",
     "output_type": "stream",
     "text": [
      "349/349 [==============================] - 1s 3ms/step - loss: 0.6770 - mean_squared_error: 0.6770 - val_loss: 0.6397 - val_mean_squared_error: 0.6397\n",
      "Epoch 34/300\n",
      "342/349 [============================>.] - ETA: 0s - loss: 0.6631 - mean_squared_error: 0.6631\n",
      "Epoch 34: val_loss did not improve from 0.63971\n",
      "349/349 [==============================] - 0s 1ms/step - loss: 0.6648 - mean_squared_error: 0.6648 - val_loss: 0.6534 - val_mean_squared_error: 0.6534\n",
      "Epoch 35/300\n",
      "338/349 [============================>.] - ETA: 0s - loss: 0.6736 - mean_squared_error: 0.6736\n",
      "Epoch 35: val_loss did not improve from 0.63971\n",
      "349/349 [==============================] - 0s 1ms/step - loss: 0.6723 - mean_squared_error: 0.6723 - val_loss: 0.6520 - val_mean_squared_error: 0.6520\n",
      "Epoch 36/300\n",
      "328/349 [===========================>..] - ETA: 0s - loss: 0.6597 - mean_squared_error: 0.6597\n",
      "Epoch 36: val_loss did not improve from 0.63971\n",
      "349/349 [==============================] - 0s 1ms/step - loss: 0.6632 - mean_squared_error: 0.6632 - val_loss: 0.6464 - val_mean_squared_error: 0.6464\n",
      "Epoch 37/300\n",
      "307/349 [=========================>....] - ETA: 0s - loss: 0.6671 - mean_squared_error: 0.6671\n",
      "Epoch 37: val_loss did not improve from 0.63971\n",
      "349/349 [==============================] - 0s 1ms/step - loss: 0.6654 - mean_squared_error: 0.6654 - val_loss: 0.6439 - val_mean_squared_error: 0.6439\n",
      "Epoch 38/300\n",
      "314/349 [=========================>....] - ETA: 0s - loss: 0.6677 - mean_squared_error: 0.6677\n",
      "Epoch 38: val_loss did not improve from 0.63971\n",
      "349/349 [==============================] - 0s 1ms/step - loss: 0.6678 - mean_squared_error: 0.6678 - val_loss: 0.6744 - val_mean_squared_error: 0.6744\n",
      "Epoch 39/300\n",
      "349/349 [==============================] - ETA: 0s - loss: 0.6659 - mean_squared_error: 0.6659\n",
      "Epoch 39: val_loss improved from 0.63971 to 0.63843, saving model to ./tmp\\checkpoint\n"
     ]
    },
    {
     "name": "stderr",
     "output_type": "stream",
     "text": [
      "WARNING:absl:Found untraced functions such as _update_step_xla while saving (showing 1 of 1). These functions will not be directly callable after loading.\n"
     ]
    },
    {
     "name": "stdout",
     "output_type": "stream",
     "text": [
      "INFO:tensorflow:Assets written to: ./tmp\\checkpoint\\assets\n"
     ]
    },
    {
     "name": "stderr",
     "output_type": "stream",
     "text": [
      "INFO:tensorflow:Assets written to: ./tmp\\checkpoint\\assets\n"
     ]
    },
    {
     "name": "stdout",
     "output_type": "stream",
     "text": [
      "349/349 [==============================] - 1s 3ms/step - loss: 0.6659 - mean_squared_error: 0.6659 - val_loss: 0.6384 - val_mean_squared_error: 0.6384\n",
      "Epoch 40/300\n",
      "325/349 [==========================>...] - ETA: 0s - loss: 0.6629 - mean_squared_error: 0.6629\n",
      "Epoch 40: val_loss did not improve from 0.63843\n",
      "349/349 [==============================] - 1s 1ms/step - loss: 0.6666 - mean_squared_error: 0.6666 - val_loss: 0.6495 - val_mean_squared_error: 0.6495\n",
      "Epoch 41/300\n",
      "345/349 [============================>.] - ETA: 0s - loss: 0.6523 - mean_squared_error: 0.6523\n",
      "Epoch 41: val_loss did not improve from 0.63843\n",
      "349/349 [==============================] - 0s 1ms/step - loss: 0.6527 - mean_squared_error: 0.6527 - val_loss: 0.6608 - val_mean_squared_error: 0.6608\n",
      "Epoch 42/300\n",
      "321/349 [==========================>...] - ETA: 0s - loss: 0.6602 - mean_squared_error: 0.6602\n",
      "Epoch 42: val_loss improved from 0.63843 to 0.63335, saving model to ./tmp\\checkpoint\n"
     ]
    },
    {
     "name": "stderr",
     "output_type": "stream",
     "text": [
      "WARNING:absl:Found untraced functions such as _update_step_xla while saving (showing 1 of 1). These functions will not be directly callable after loading.\n"
     ]
    },
    {
     "name": "stdout",
     "output_type": "stream",
     "text": [
      "INFO:tensorflow:Assets written to: ./tmp\\checkpoint\\assets\n"
     ]
    },
    {
     "name": "stderr",
     "output_type": "stream",
     "text": [
      "INFO:tensorflow:Assets written to: ./tmp\\checkpoint\\assets\n"
     ]
    },
    {
     "name": "stdout",
     "output_type": "stream",
     "text": [
      "349/349 [==============================] - 2s 5ms/step - loss: 0.6588 - mean_squared_error: 0.6588 - val_loss: 0.6333 - val_mean_squared_error: 0.6333\n",
      "Epoch 43/300\n",
      "334/349 [===========================>..] - ETA: 0s - loss: 0.6567 - mean_squared_error: 0.6567\n",
      "Epoch 43: val_loss did not improve from 0.63335\n",
      "349/349 [==============================] - 1s 1ms/step - loss: 0.6544 - mean_squared_error: 0.6544 - val_loss: 0.6352 - val_mean_squared_error: 0.6352\n",
      "Epoch 44/300\n",
      "328/349 [===========================>..] - ETA: 0s - loss: 0.6684 - mean_squared_error: 0.6684\n",
      "Epoch 44: val_loss did not improve from 0.63335\n",
      "349/349 [==============================] - 1s 2ms/step - loss: 0.6601 - mean_squared_error: 0.6601 - val_loss: 0.6637 - val_mean_squared_error: 0.6637\n",
      "Epoch 45/300\n",
      "342/349 [============================>.] - ETA: 0s - loss: 0.6617 - mean_squared_error: 0.6617\n",
      "Epoch 45: val_loss did not improve from 0.63335\n",
      "349/349 [==============================] - 1s 2ms/step - loss: 0.6602 - mean_squared_error: 0.6602 - val_loss: 0.6791 - val_mean_squared_error: 0.6791\n",
      "Epoch 46/300\n",
      "327/349 [===========================>..] - ETA: 0s - loss: 0.6527 - mean_squared_error: 0.6527\n",
      "Epoch 46: val_loss did not improve from 0.63335\n",
      "349/349 [==============================] - 1s 2ms/step - loss: 0.6531 - mean_squared_error: 0.6531 - val_loss: 0.6613 - val_mean_squared_error: 0.6613\n",
      "Epoch 47/300\n",
      "313/349 [=========================>....] - ETA: 0s - loss: 0.6611 - mean_squared_error: 0.6611\n",
      "Epoch 47: val_loss did not improve from 0.63335\n",
      "349/349 [==============================] - 1s 2ms/step - loss: 0.6613 - mean_squared_error: 0.6613 - val_loss: 0.6511 - val_mean_squared_error: 0.6511\n",
      "Epoch 48/300\n",
      "335/349 [===========================>..] - ETA: 0s - loss: 0.6548 - mean_squared_error: 0.6548\n",
      "Epoch 48: val_loss did not improve from 0.63335\n",
      "349/349 [==============================] - 1s 2ms/step - loss: 0.6602 - mean_squared_error: 0.6602 - val_loss: 0.6492 - val_mean_squared_error: 0.6492\n",
      "Epoch 49/300\n",
      "338/349 [============================>.] - ETA: 0s - loss: 0.6548 - mean_squared_error: 0.6548\n",
      "Epoch 49: val_loss improved from 0.63335 to 0.63147, saving model to ./tmp\\checkpoint\n"
     ]
    },
    {
     "name": "stderr",
     "output_type": "stream",
     "text": [
      "WARNING:absl:Found untraced functions such as _update_step_xla while saving (showing 1 of 1). These functions will not be directly callable after loading.\n"
     ]
    },
    {
     "name": "stdout",
     "output_type": "stream",
     "text": [
      "INFO:tensorflow:Assets written to: ./tmp\\checkpoint\\assets\n"
     ]
    },
    {
     "name": "stderr",
     "output_type": "stream",
     "text": [
      "INFO:tensorflow:Assets written to: ./tmp\\checkpoint\\assets\n"
     ]
    },
    {
     "name": "stdout",
     "output_type": "stream",
     "text": [
      "349/349 [==============================] - 1s 4ms/step - loss: 0.6537 - mean_squared_error: 0.6537 - val_loss: 0.6315 - val_mean_squared_error: 0.6315\n",
      "Epoch 50/300\n",
      "328/349 [===========================>..] - ETA: 0s - loss: 0.6570 - mean_squared_error: 0.6570\n",
      "Epoch 50: val_loss improved from 0.63147 to 0.62829, saving model to ./tmp\\checkpoint\n"
     ]
    },
    {
     "name": "stderr",
     "output_type": "stream",
     "text": [
      "WARNING:absl:Found untraced functions such as _update_step_xla while saving (showing 1 of 1). These functions will not be directly callable after loading.\n"
     ]
    },
    {
     "name": "stdout",
     "output_type": "stream",
     "text": [
      "INFO:tensorflow:Assets written to: ./tmp\\checkpoint\\assets\n"
     ]
    },
    {
     "name": "stderr",
     "output_type": "stream",
     "text": [
      "INFO:tensorflow:Assets written to: ./tmp\\checkpoint\\assets\n"
     ]
    },
    {
     "name": "stdout",
     "output_type": "stream",
     "text": [
      "349/349 [==============================] - 1s 4ms/step - loss: 0.6553 - mean_squared_error: 0.6553 - val_loss: 0.6283 - val_mean_squared_error: 0.6283\n",
      "Epoch 51/300\n",
      "330/349 [===========================>..] - ETA: 0s - loss: 0.6605 - mean_squared_error: 0.6605\n",
      "Epoch 51: val_loss did not improve from 0.62829\n",
      "349/349 [==============================] - 1s 2ms/step - loss: 0.6610 - mean_squared_error: 0.6610 - val_loss: 0.6418 - val_mean_squared_error: 0.6418\n",
      "Epoch 52/300\n",
      "340/349 [============================>.] - ETA: 0s - loss: 0.6637 - mean_squared_error: 0.6637\n",
      "Epoch 52: val_loss improved from 0.62829 to 0.62600, saving model to ./tmp\\checkpoint\n"
     ]
    },
    {
     "name": "stderr",
     "output_type": "stream",
     "text": [
      "WARNING:absl:Found untraced functions such as _update_step_xla while saving (showing 1 of 1). These functions will not be directly callable after loading.\n"
     ]
    },
    {
     "name": "stdout",
     "output_type": "stream",
     "text": [
      "INFO:tensorflow:Assets written to: ./tmp\\checkpoint\\assets\n"
     ]
    },
    {
     "name": "stderr",
     "output_type": "stream",
     "text": [
      "INFO:tensorflow:Assets written to: ./tmp\\checkpoint\\assets\n"
     ]
    },
    {
     "name": "stdout",
     "output_type": "stream",
     "text": [
      "349/349 [==============================] - 1s 4ms/step - loss: 0.6636 - mean_squared_error: 0.6636 - val_loss: 0.6260 - val_mean_squared_error: 0.6260\n",
      "Epoch 53/300\n",
      "344/349 [============================>.] - ETA: 0s - loss: 0.6513 - mean_squared_error: 0.6513\n",
      "Epoch 53: val_loss did not improve from 0.62600\n",
      "349/349 [==============================] - 1s 2ms/step - loss: 0.6511 - mean_squared_error: 0.6511 - val_loss: 0.6605 - val_mean_squared_error: 0.6605\n",
      "Epoch 54/300\n",
      "324/349 [==========================>...] - ETA: 0s - loss: 0.6534 - mean_squared_error: 0.6534\n",
      "Epoch 54: val_loss did not improve from 0.62600\n",
      "349/349 [==============================] - 1s 2ms/step - loss: 0.6507 - mean_squared_error: 0.6507 - val_loss: 0.6544 - val_mean_squared_error: 0.6544\n",
      "Epoch 55/300\n",
      "345/349 [============================>.] - ETA: 0s - loss: 0.6514 - mean_squared_error: 0.6514\n",
      "Epoch 55: val_loss did not improve from 0.62600\n",
      "349/349 [==============================] - 1s 2ms/step - loss: 0.6540 - mean_squared_error: 0.6540 - val_loss: 0.6292 - val_mean_squared_error: 0.6292\n",
      "Epoch 56/300\n",
      "334/349 [===========================>..] - ETA: 0s - loss: 0.6553 - mean_squared_error: 0.6553\n",
      "Epoch 56: val_loss did not improve from 0.62600\n",
      "349/349 [==============================] - 1s 2ms/step - loss: 0.6557 - mean_squared_error: 0.6557 - val_loss: 0.6377 - val_mean_squared_error: 0.6377\n",
      "Epoch 57/300\n",
      "346/349 [============================>.] - ETA: 0s - loss: 0.6536 - mean_squared_error: 0.6536\n",
      "Epoch 57: val_loss did not improve from 0.62600\n",
      "349/349 [==============================] - 1s 2ms/step - loss: 0.6532 - mean_squared_error: 0.6532 - val_loss: 0.6433 - val_mean_squared_error: 0.6433\n",
      "Epoch 58/300\n",
      "320/349 [==========================>...] - ETA: 0s - loss: 0.6483 - mean_squared_error: 0.6483\n",
      "Epoch 58: val_loss did not improve from 0.62600\n",
      "349/349 [==============================] - 1s 2ms/step - loss: 0.6553 - mean_squared_error: 0.6553 - val_loss: 0.6537 - val_mean_squared_error: 0.6537\n",
      "Epoch 59/300\n",
      "323/349 [==========================>...] - ETA: 0s - loss: 0.6453 - mean_squared_error: 0.6453\n",
      "Epoch 59: val_loss did not improve from 0.62600\n",
      "349/349 [==============================] - 1s 2ms/step - loss: 0.6504 - mean_squared_error: 0.6504 - val_loss: 0.6327 - val_mean_squared_error: 0.6327\n",
      "Epoch 60/300\n",
      "333/349 [===========================>..] - ETA: 0s - loss: 0.6471 - mean_squared_error: 0.6471\n",
      "Epoch 60: val_loss did not improve from 0.62600\n",
      "349/349 [==============================] - 1s 2ms/step - loss: 0.6458 - mean_squared_error: 0.6458 - val_loss: 0.6336 - val_mean_squared_error: 0.6336\n",
      "Epoch 61/300\n",
      "334/349 [===========================>..] - ETA: 0s - loss: 0.6486 - mean_squared_error: 0.6486\n",
      "Epoch 61: val_loss did not improve from 0.62600\n",
      "349/349 [==============================] - 1s 2ms/step - loss: 0.6511 - mean_squared_error: 0.6511 - val_loss: 0.6379 - val_mean_squared_error: 0.6379\n",
      "Epoch 62/300\n",
      "320/349 [==========================>...] - ETA: 0s - loss: 0.6593 - mean_squared_error: 0.6593\n",
      "Epoch 62: val_loss did not improve from 0.62600\n",
      "349/349 [==============================] - 1s 2ms/step - loss: 0.6562 - mean_squared_error: 0.6562 - val_loss: 0.6675 - val_mean_squared_error: 0.6675\n",
      "Epoch 63/300\n",
      "318/349 [==========================>...] - ETA: 0s - loss: 0.6462 - mean_squared_error: 0.6462\n",
      "Epoch 63: val_loss did not improve from 0.62600\n",
      "349/349 [==============================] - 1s 2ms/step - loss: 0.6516 - mean_squared_error: 0.6516 - val_loss: 0.6374 - val_mean_squared_error: 0.6374\n",
      "Epoch 64/300\n",
      "338/349 [============================>.] - ETA: 0s - loss: 0.6570 - mean_squared_error: 0.6570\n",
      "Epoch 64: val_loss did not improve from 0.62600\n",
      "349/349 [==============================] - 1s 2ms/step - loss: 0.6543 - mean_squared_error: 0.6543 - val_loss: 0.6339 - val_mean_squared_error: 0.6339\n",
      "Epoch 65/300\n",
      "339/349 [============================>.] - ETA: 0s - loss: 0.6497 - mean_squared_error: 0.6497\n",
      "Epoch 65: val_loss did not improve from 0.62600\n",
      "349/349 [==============================] - 1s 2ms/step - loss: 0.6518 - mean_squared_error: 0.6518 - val_loss: 0.6302 - val_mean_squared_error: 0.6302\n",
      "Epoch 66/300\n",
      "323/349 [==========================>...] - ETA: 0s - loss: 0.6524 - mean_squared_error: 0.6524\n",
      "Epoch 66: val_loss did not improve from 0.62600\n",
      "349/349 [==============================] - 1s 2ms/step - loss: 0.6525 - mean_squared_error: 0.6525 - val_loss: 0.6301 - val_mean_squared_error: 0.6301\n",
      "Epoch 67/300\n",
      "340/349 [============================>.] - ETA: 0s - loss: 0.6472 - mean_squared_error: 0.6472\n",
      "Epoch 67: val_loss did not improve from 0.62600\n",
      "349/349 [==============================] - 1s 2ms/step - loss: 0.6472 - mean_squared_error: 0.6472 - val_loss: 0.6280 - val_mean_squared_error: 0.6280\n",
      "Epoch 68/300\n",
      "334/349 [===========================>..] - ETA: 0s - loss: 0.6543 - mean_squared_error: 0.6543\n",
      "Epoch 68: val_loss did not improve from 0.62600\n",
      "349/349 [==============================] - 1s 2ms/step - loss: 0.6546 - mean_squared_error: 0.6546 - val_loss: 0.6394 - val_mean_squared_error: 0.6394\n",
      "Epoch 69/300\n",
      "346/349 [============================>.] - ETA: 0s - loss: 0.6467 - mean_squared_error: 0.6467\n",
      "Epoch 69: val_loss did not improve from 0.62600\n",
      "349/349 [==============================] - 1s 2ms/step - loss: 0.6463 - mean_squared_error: 0.6463 - val_loss: 0.6511 - val_mean_squared_error: 0.6511\n",
      "Epoch 70/300\n",
      "345/349 [============================>.] - ETA: 0s - loss: 0.6509 - mean_squared_error: 0.6509\n",
      "Epoch 70: val_loss did not improve from 0.62600\n",
      "349/349 [==============================] - 1s 2ms/step - loss: 0.6508 - mean_squared_error: 0.6508 - val_loss: 0.6338 - val_mean_squared_error: 0.6338\n",
      "Epoch 71/300\n",
      "317/349 [==========================>...] - ETA: 0s - loss: 0.6540 - mean_squared_error: 0.6540\n",
      "Epoch 71: val_loss did not improve from 0.62600\n",
      "349/349 [==============================] - 1s 2ms/step - loss: 0.6556 - mean_squared_error: 0.6556 - val_loss: 0.6324 - val_mean_squared_error: 0.6324\n",
      "Epoch 72/300\n",
      "333/349 [===========================>..] - ETA: 0s - loss: 0.6452 - mean_squared_error: 0.6452\n",
      "Epoch 72: val_loss did not improve from 0.62600\n",
      "349/349 [==============================] - 1s 2ms/step - loss: 0.6451 - mean_squared_error: 0.6451 - val_loss: 0.6375 - val_mean_squared_error: 0.6375\n",
      "Epoch 73/300\n",
      "348/349 [============================>.] - ETA: 0s - loss: 0.6468 - mean_squared_error: 0.6468\n",
      "Epoch 73: val_loss improved from 0.62600 to 0.62380, saving model to ./tmp\\checkpoint\n"
     ]
    },
    {
     "name": "stderr",
     "output_type": "stream",
     "text": [
      "WARNING:absl:Found untraced functions such as _update_step_xla while saving (showing 1 of 1). These functions will not be directly callable after loading.\n"
     ]
    },
    {
     "name": "stdout",
     "output_type": "stream",
     "text": [
      "INFO:tensorflow:Assets written to: ./tmp\\checkpoint\\assets\n"
     ]
    },
    {
     "name": "stderr",
     "output_type": "stream",
     "text": [
      "INFO:tensorflow:Assets written to: ./tmp\\checkpoint\\assets\n"
     ]
    },
    {
     "name": "stdout",
     "output_type": "stream",
     "text": [
      "349/349 [==============================] - 1s 4ms/step - loss: 0.6462 - mean_squared_error: 0.6462 - val_loss: 0.6238 - val_mean_squared_error: 0.6238\n",
      "Epoch 74/300\n",
      "334/349 [===========================>..] - ETA: 0s - loss: 0.6452 - mean_squared_error: 0.6452\n",
      "Epoch 74: val_loss did not improve from 0.62380\n",
      "349/349 [==============================] - 1s 2ms/step - loss: 0.6507 - mean_squared_error: 0.6507 - val_loss: 0.6507 - val_mean_squared_error: 0.6507\n",
      "Epoch 75/300\n",
      "314/349 [=========================>....] - ETA: 0s - loss: 0.6465 - mean_squared_error: 0.6465\n",
      "Epoch 75: val_loss did not improve from 0.62380\n",
      "349/349 [==============================] - 1s 2ms/step - loss: 0.6495 - mean_squared_error: 0.6495 - val_loss: 0.6392 - val_mean_squared_error: 0.6392\n",
      "Epoch 76/300\n",
      "336/349 [===========================>..] - ETA: 0s - loss: 0.6535 - mean_squared_error: 0.6535\n",
      "Epoch 76: val_loss did not improve from 0.62380\n",
      "349/349 [==============================] - 1s 1ms/step - loss: 0.6544 - mean_squared_error: 0.6544 - val_loss: 0.6358 - val_mean_squared_error: 0.6358\n",
      "Epoch 77/300\n",
      "345/349 [============================>.] - ETA: 0s - loss: 0.6491 - mean_squared_error: 0.6491\n",
      "Epoch 77: val_loss did not improve from 0.62380\n",
      "349/349 [==============================] - 1s 2ms/step - loss: 0.6478 - mean_squared_error: 0.6478 - val_loss: 0.6341 - val_mean_squared_error: 0.6341\n",
      "Epoch 78/300\n",
      "339/349 [============================>.] - ETA: 0s - loss: 0.6528 - mean_squared_error: 0.6528\n",
      "Epoch 78: val_loss did not improve from 0.62380\n",
      "349/349 [==============================] - 1s 2ms/step - loss: 0.6503 - mean_squared_error: 0.6503 - val_loss: 0.6522 - val_mean_squared_error: 0.6522\n",
      "Epoch 79/300\n",
      "308/349 [=========================>....] - ETA: 0s - loss: 0.6546 - mean_squared_error: 0.6546\n",
      "Epoch 79: val_loss did not improve from 0.62380\n",
      "349/349 [==============================] - 1s 2ms/step - loss: 0.6514 - mean_squared_error: 0.6514 - val_loss: 0.6328 - val_mean_squared_error: 0.6328\n",
      "Epoch 80/300\n",
      "325/349 [==========================>...] - ETA: 0s - loss: 0.6441 - mean_squared_error: 0.6441\n",
      "Epoch 80: val_loss did not improve from 0.62380\n",
      "349/349 [==============================] - 1s 2ms/step - loss: 0.6451 - mean_squared_error: 0.6451 - val_loss: 0.6348 - val_mean_squared_error: 0.6348\n",
      "Epoch 81/300\n",
      "349/349 [==============================] - ETA: 0s - loss: 0.6460 - mean_squared_error: 0.6460\n",
      "Epoch 81: val_loss did not improve from 0.62380\n",
      "349/349 [==============================] - 1s 2ms/step - loss: 0.6460 - mean_squared_error: 0.6460 - val_loss: 0.6751 - val_mean_squared_error: 0.6751\n",
      "Epoch 82/300\n",
      "320/349 [==========================>...] - ETA: 0s - loss: 0.6461 - mean_squared_error: 0.6461\n",
      "Epoch 82: val_loss did not improve from 0.62380\n",
      "349/349 [==============================] - 1s 2ms/step - loss: 0.6488 - mean_squared_error: 0.6488 - val_loss: 0.6287 - val_mean_squared_error: 0.6287\n",
      "Epoch 83/300\n",
      "312/349 [=========================>....] - ETA: 0s - loss: 0.6470 - mean_squared_error: 0.6470\n",
      "Epoch 83: val_loss did not improve from 0.62380\n",
      "349/349 [==============================] - 1s 1ms/step - loss: 0.6468 - mean_squared_error: 0.6468 - val_loss: 0.6372 - val_mean_squared_error: 0.6372\n",
      "Epoch 84/300\n",
      "349/349 [==============================] - ETA: 0s - loss: 0.6481 - mean_squared_error: 0.6481\n",
      "Epoch 84: val_loss did not improve from 0.62380\n",
      "349/349 [==============================] - 1s 2ms/step - loss: 0.6481 - mean_squared_error: 0.6481 - val_loss: 0.6269 - val_mean_squared_error: 0.6269\n",
      "Epoch 85/300\n",
      "348/349 [============================>.] - ETA: 0s - loss: 0.6459 - mean_squared_error: 0.6459\n",
      "Epoch 85: val_loss did not improve from 0.62380\n",
      "349/349 [==============================] - 0s 1ms/step - loss: 0.6458 - mean_squared_error: 0.6458 - val_loss: 0.6364 - val_mean_squared_error: 0.6364\n",
      "Epoch 86/300\n",
      "317/349 [==========================>...] - ETA: 0s - loss: 0.6561 - mean_squared_error: 0.6561\n",
      "Epoch 86: val_loss improved from 0.62380 to 0.62247, saving model to ./tmp\\checkpoint\n"
     ]
    },
    {
     "name": "stderr",
     "output_type": "stream",
     "text": [
      "WARNING:absl:Found untraced functions such as _update_step_xla while saving (showing 1 of 1). These functions will not be directly callable after loading.\n"
     ]
    },
    {
     "name": "stdout",
     "output_type": "stream",
     "text": [
      "INFO:tensorflow:Assets written to: ./tmp\\checkpoint\\assets\n"
     ]
    },
    {
     "name": "stderr",
     "output_type": "stream",
     "text": [
      "INFO:tensorflow:Assets written to: ./tmp\\checkpoint\\assets\n"
     ]
    },
    {
     "name": "stdout",
     "output_type": "stream",
     "text": [
      "349/349 [==============================] - 1s 4ms/step - loss: 0.6514 - mean_squared_error: 0.6514 - val_loss: 0.6225 - val_mean_squared_error: 0.6225\n",
      "Epoch 87/300\n",
      "349/349 [==============================] - ETA: 0s - loss: 0.6471 - mean_squared_error: 0.6471\n",
      "Epoch 87: val_loss did not improve from 0.62247\n",
      "349/349 [==============================] - 1s 2ms/step - loss: 0.6471 - mean_squared_error: 0.6471 - val_loss: 0.6541 - val_mean_squared_error: 0.6541\n",
      "Epoch 88/300\n",
      "348/349 [============================>.] - ETA: 0s - loss: 0.6492 - mean_squared_error: 0.6492\n",
      "Epoch 88: val_loss did not improve from 0.62247\n",
      "349/349 [==============================] - 1s 2ms/step - loss: 0.6505 - mean_squared_error: 0.6505 - val_loss: 0.6408 - val_mean_squared_error: 0.6408\n",
      "Epoch 89/300\n",
      "337/349 [===========================>..] - ETA: 0s - loss: 0.6499 - mean_squared_error: 0.6499\n",
      "Epoch 89: val_loss did not improve from 0.62247\n",
      "349/349 [==============================] - 1s 2ms/step - loss: 0.6511 - mean_squared_error: 0.6511 - val_loss: 0.6276 - val_mean_squared_error: 0.6276\n",
      "Epoch 90/300\n",
      "348/349 [============================>.] - ETA: 0s - loss: 0.6427 - mean_squared_error: 0.6427\n",
      "Epoch 90: val_loss did not improve from 0.62247\n",
      "349/349 [==============================] - 1s 2ms/step - loss: 0.6425 - mean_squared_error: 0.6425 - val_loss: 0.6237 - val_mean_squared_error: 0.6237\n",
      "Epoch 91/300\n",
      "333/349 [===========================>..] - ETA: 0s - loss: 0.6390 - mean_squared_error: 0.6390\n",
      "Epoch 91: val_loss did not improve from 0.62247\n",
      "349/349 [==============================] - 1s 2ms/step - loss: 0.6410 - mean_squared_error: 0.6410 - val_loss: 0.6446 - val_mean_squared_error: 0.6446\n",
      "Epoch 92/300\n",
      "325/349 [==========================>...] - ETA: 0s - loss: 0.6368 - mean_squared_error: 0.6368\n",
      "Epoch 92: val_loss did not improve from 0.62247\n",
      "349/349 [==============================] - 1s 2ms/step - loss: 0.6411 - mean_squared_error: 0.6411 - val_loss: 0.6375 - val_mean_squared_error: 0.6375\n",
      "Epoch 93/300\n",
      "336/349 [===========================>..] - ETA: 0s - loss: 0.6551 - mean_squared_error: 0.6551\n",
      "Epoch 93: val_loss improved from 0.62247 to 0.62239, saving model to ./tmp\\checkpoint\n"
     ]
    },
    {
     "name": "stderr",
     "output_type": "stream",
     "text": [
      "WARNING:absl:Found untraced functions such as _update_step_xla while saving (showing 1 of 1). These functions will not be directly callable after loading.\n"
     ]
    },
    {
     "name": "stdout",
     "output_type": "stream",
     "text": [
      "INFO:tensorflow:Assets written to: ./tmp\\checkpoint\\assets\n"
     ]
    },
    {
     "name": "stderr",
     "output_type": "stream",
     "text": [
      "INFO:tensorflow:Assets written to: ./tmp\\checkpoint\\assets\n"
     ]
    },
    {
     "name": "stdout",
     "output_type": "stream",
     "text": [
      "349/349 [==============================] - 1s 3ms/step - loss: 0.6546 - mean_squared_error: 0.6546 - val_loss: 0.6224 - val_mean_squared_error: 0.6224\n",
      "Epoch 94/300\n",
      "344/349 [============================>.] - ETA: 0s - loss: 0.6470 - mean_squared_error: 0.6470\n",
      "Epoch 94: val_loss did not improve from 0.62239\n",
      "349/349 [==============================] - 1s 1ms/step - loss: 0.6465 - mean_squared_error: 0.6465 - val_loss: 0.6345 - val_mean_squared_error: 0.6345\n",
      "Epoch 95/300\n",
      "335/349 [===========================>..] - ETA: 0s - loss: 0.6435 - mean_squared_error: 0.6435\n",
      "Epoch 95: val_loss did not improve from 0.62239\n",
      "349/349 [==============================] - 1s 2ms/step - loss: 0.6462 - mean_squared_error: 0.6462 - val_loss: 0.6363 - val_mean_squared_error: 0.6363\n",
      "Epoch 96/300\n",
      "330/349 [===========================>..] - ETA: 0s - loss: 0.6427 - mean_squared_error: 0.6427\n",
      "Epoch 96: val_loss did not improve from 0.62239\n",
      "349/349 [==============================] - 1s 2ms/step - loss: 0.6433 - mean_squared_error: 0.6433 - val_loss: 0.6227 - val_mean_squared_error: 0.6227\n",
      "Epoch 97/300\n",
      "345/349 [============================>.] - ETA: 0s - loss: 0.6400 - mean_squared_error: 0.6400\n",
      "Epoch 97: val_loss did not improve from 0.62239\n",
      "349/349 [==============================] - 1s 2ms/step - loss: 0.6397 - mean_squared_error: 0.6397 - val_loss: 0.6456 - val_mean_squared_error: 0.6456\n",
      "Epoch 98/300\n",
      "322/349 [==========================>...] - ETA: 0s - loss: 0.6440 - mean_squared_error: 0.6440\n",
      "Epoch 98: val_loss did not improve from 0.62239\n",
      "349/349 [==============================] - 1s 2ms/step - loss: 0.6422 - mean_squared_error: 0.6422 - val_loss: 0.6345 - val_mean_squared_error: 0.6345\n",
      "Epoch 99/300\n",
      "329/349 [===========================>..] - ETA: 0s - loss: 0.6386 - mean_squared_error: 0.6386\n",
      "Epoch 99: val_loss did not improve from 0.62239\n",
      "349/349 [==============================] - 0s 1ms/step - loss: 0.6399 - mean_squared_error: 0.6399 - val_loss: 0.6409 - val_mean_squared_error: 0.6409\n",
      "Epoch 100/300\n",
      "336/349 [===========================>..] - ETA: 0s - loss: 0.6448 - mean_squared_error: 0.6448\n",
      "Epoch 100: val_loss did not improve from 0.62239\n",
      "349/349 [==============================] - 1s 2ms/step - loss: 0.6423 - mean_squared_error: 0.6423 - val_loss: 0.6400 - val_mean_squared_error: 0.6400\n",
      "Epoch 101/300\n",
      "341/349 [============================>.] - ETA: 0s - loss: 0.6400 - mean_squared_error: 0.6400\n",
      "Epoch 101: val_loss did not improve from 0.62239\n",
      "349/349 [==============================] - 0s 1ms/step - loss: 0.6412 - mean_squared_error: 0.6412 - val_loss: 0.6332 - val_mean_squared_error: 0.6332\n",
      "Epoch 102/300\n",
      "338/349 [============================>.] - ETA: 0s - loss: 0.6443 - mean_squared_error: 0.6443\n",
      "Epoch 102: val_loss did not improve from 0.62239\n",
      "349/349 [==============================] - 1s 2ms/step - loss: 0.6389 - mean_squared_error: 0.6389 - val_loss: 0.6434 - val_mean_squared_error: 0.6434\n",
      "Epoch 103/300\n",
      "331/349 [===========================>..] - ETA: 0s - loss: 0.6437 - mean_squared_error: 0.6437\n",
      "Epoch 103: val_loss did not improve from 0.62239\n",
      "349/349 [==============================] - 1s 2ms/step - loss: 0.6433 - mean_squared_error: 0.6433 - val_loss: 0.6250 - val_mean_squared_error: 0.6250\n",
      "Epoch 104/300\n",
      "325/349 [==========================>...] - ETA: 0s - loss: 0.6464 - mean_squared_error: 0.6464\n",
      "Epoch 104: val_loss did not improve from 0.62239\n",
      "349/349 [==============================] - 1s 2ms/step - loss: 0.6461 - mean_squared_error: 0.6461 - val_loss: 0.6234 - val_mean_squared_error: 0.6234\n",
      "Epoch 105/300\n",
      "320/349 [==========================>...] - ETA: 0s - loss: 0.6445 - mean_squared_error: 0.6445\n",
      "Epoch 105: val_loss did not improve from 0.62239\n",
      "349/349 [==============================] - 1s 2ms/step - loss: 0.6436 - mean_squared_error: 0.6436 - val_loss: 0.6431 - val_mean_squared_error: 0.6431\n",
      "Epoch 106/300\n",
      "313/349 [=========================>....] - ETA: 0s - loss: 0.6386 - mean_squared_error: 0.6386\n",
      "Epoch 106: val_loss did not improve from 0.62239\n",
      "349/349 [==============================] - 1s 2ms/step - loss: 0.6385 - mean_squared_error: 0.6385 - val_loss: 0.6407 - val_mean_squared_error: 0.6407\n",
      "Epoch 107/300\n",
      "317/349 [==========================>...] - ETA: 0s - loss: 0.6427 - mean_squared_error: 0.6427\n",
      "Epoch 107: val_loss improved from 0.62239 to 0.61945, saving model to ./tmp\\checkpoint\n"
     ]
    },
    {
     "name": "stderr",
     "output_type": "stream",
     "text": [
      "WARNING:absl:Found untraced functions such as _update_step_xla while saving (showing 1 of 1). These functions will not be directly callable after loading.\n"
     ]
    },
    {
     "name": "stdout",
     "output_type": "stream",
     "text": [
      "INFO:tensorflow:Assets written to: ./tmp\\checkpoint\\assets\n"
     ]
    },
    {
     "name": "stderr",
     "output_type": "stream",
     "text": [
      "INFO:tensorflow:Assets written to: ./tmp\\checkpoint\\assets\n"
     ]
    },
    {
     "name": "stdout",
     "output_type": "stream",
     "text": [
      "349/349 [==============================] - 2s 5ms/step - loss: 0.6445 - mean_squared_error: 0.6445 - val_loss: 0.6194 - val_mean_squared_error: 0.6194\n",
      "Epoch 108/300\n",
      "308/349 [=========================>....] - ETA: 0s - loss: 0.6433 - mean_squared_error: 0.6433\n",
      "Epoch 108: val_loss did not improve from 0.61945\n",
      "349/349 [==============================] - 0s 1ms/step - loss: 0.6414 - mean_squared_error: 0.6414 - val_loss: 0.6325 - val_mean_squared_error: 0.6325\n",
      "Epoch 109/300\n",
      "313/349 [=========================>....] - ETA: 0s - loss: 0.6451 - mean_squared_error: 0.6451\n",
      "Epoch 109: val_loss did not improve from 0.61945\n",
      "349/349 [==============================] - 0s 1ms/step - loss: 0.6430 - mean_squared_error: 0.6430 - val_loss: 0.6394 - val_mean_squared_error: 0.6394\n",
      "Epoch 110/300\n",
      "349/349 [==============================] - ETA: 0s - loss: 0.6415 - mean_squared_error: 0.6415\n",
      "Epoch 110: val_loss did not improve from 0.61945\n",
      "349/349 [==============================] - 1s 2ms/step - loss: 0.6415 - mean_squared_error: 0.6415 - val_loss: 0.6208 - val_mean_squared_error: 0.6208\n",
      "Epoch 111/300\n",
      "341/349 [============================>.] - ETA: 0s - loss: 0.6437 - mean_squared_error: 0.6437\n",
      "Epoch 111: val_loss did not improve from 0.61945\n",
      "349/349 [==============================] - 1s 2ms/step - loss: 0.6444 - mean_squared_error: 0.6444 - val_loss: 0.6211 - val_mean_squared_error: 0.6211\n",
      "Epoch 112/300\n",
      "316/349 [==========================>...] - ETA: 0s - loss: 0.6348 - mean_squared_error: 0.6348\n",
      "Epoch 112: val_loss did not improve from 0.61945\n",
      "349/349 [==============================] - 1s 2ms/step - loss: 0.6404 - mean_squared_error: 0.6404 - val_loss: 0.6309 - val_mean_squared_error: 0.6309\n",
      "Epoch 113/300\n",
      "342/349 [============================>.] - ETA: 0s - loss: 0.6440 - mean_squared_error: 0.6440\n",
      "Epoch 113: val_loss did not improve from 0.61945\n",
      "349/349 [==============================] - 1s 2ms/step - loss: 0.6454 - mean_squared_error: 0.6454 - val_loss: 0.6229 - val_mean_squared_error: 0.6229\n",
      "Epoch 114/300\n",
      "321/349 [==========================>...] - ETA: 0s - loss: 0.6412 - mean_squared_error: 0.6412\n",
      "Epoch 114: val_loss did not improve from 0.61945\n",
      "349/349 [==============================] - 1s 2ms/step - loss: 0.6437 - mean_squared_error: 0.6437 - val_loss: 0.6411 - val_mean_squared_error: 0.6411\n",
      "Epoch 115/300\n",
      "320/349 [==========================>...] - ETA: 0s - loss: 0.6396 - mean_squared_error: 0.6396\n",
      "Epoch 115: val_loss did not improve from 0.61945\n",
      "349/349 [==============================] - 1s 2ms/step - loss: 0.6475 - mean_squared_error: 0.6475 - val_loss: 0.6221 - val_mean_squared_error: 0.6221\n",
      "Epoch 116/300\n",
      "333/349 [===========================>..] - ETA: 0s - loss: 0.6427 - mean_squared_error: 0.6427\n",
      "Epoch 116: val_loss improved from 0.61945 to 0.61680, saving model to ./tmp\\checkpoint\n"
     ]
    },
    {
     "name": "stderr",
     "output_type": "stream",
     "text": [
      "WARNING:absl:Found untraced functions such as _update_step_xla while saving (showing 1 of 1). These functions will not be directly callable after loading.\n"
     ]
    },
    {
     "name": "stdout",
     "output_type": "stream",
     "text": [
      "INFO:tensorflow:Assets written to: ./tmp\\checkpoint\\assets\n"
     ]
    },
    {
     "name": "stderr",
     "output_type": "stream",
     "text": [
      "INFO:tensorflow:Assets written to: ./tmp\\checkpoint\\assets\n"
     ]
    },
    {
     "name": "stdout",
     "output_type": "stream",
     "text": [
      "349/349 [==============================] - 1s 4ms/step - loss: 0.6422 - mean_squared_error: 0.6422 - val_loss: 0.6168 - val_mean_squared_error: 0.6168\n",
      "Epoch 117/300\n",
      "332/349 [===========================>..] - ETA: 0s - loss: 0.6448 - mean_squared_error: 0.6448\n",
      "Epoch 117: val_loss did not improve from 0.61680\n",
      "349/349 [==============================] - 1s 2ms/step - loss: 0.6426 - mean_squared_error: 0.6426 - val_loss: 0.6288 - val_mean_squared_error: 0.6288\n",
      "Epoch 118/300\n",
      "338/349 [============================>.] - ETA: 0s - loss: 0.6429 - mean_squared_error: 0.6429\n",
      "Epoch 118: val_loss did not improve from 0.61680\n",
      "349/349 [==============================] - 1s 2ms/step - loss: 0.6412 - mean_squared_error: 0.6412 - val_loss: 0.6294 - val_mean_squared_error: 0.6294\n",
      "Epoch 119/300\n",
      "336/349 [===========================>..] - ETA: 0s - loss: 0.6420 - mean_squared_error: 0.6420\n",
      "Epoch 119: val_loss did not improve from 0.61680\n",
      "349/349 [==============================] - 1s 2ms/step - loss: 0.6410 - mean_squared_error: 0.6410 - val_loss: 0.6335 - val_mean_squared_error: 0.6335\n",
      "Epoch 120/300\n",
      "322/349 [==========================>...] - ETA: 0s - loss: 0.6340 - mean_squared_error: 0.6340\n",
      "Epoch 120: val_loss did not improve from 0.61680\n",
      "349/349 [==============================] - 1s 2ms/step - loss: 0.6375 - mean_squared_error: 0.6375 - val_loss: 0.6320 - val_mean_squared_error: 0.6320\n",
      "Epoch 121/300\n",
      "315/349 [==========================>...] - ETA: 0s - loss: 0.6321 - mean_squared_error: 0.6321\n",
      "Epoch 121: val_loss did not improve from 0.61680\n",
      "349/349 [==============================] - 0s 1ms/step - loss: 0.6382 - mean_squared_error: 0.6382 - val_loss: 0.6190 - val_mean_squared_error: 0.6190\n",
      "Epoch 122/300\n",
      "337/349 [===========================>..] - ETA: 0s - loss: 0.6315 - mean_squared_error: 0.6315\n",
      "Epoch 122: val_loss did not improve from 0.61680\n",
      "349/349 [==============================] - 1s 1ms/step - loss: 0.6354 - mean_squared_error: 0.6354 - val_loss: 0.6455 - val_mean_squared_error: 0.6455\n",
      "Epoch 123/300\n",
      "323/349 [==========================>...] - ETA: 0s - loss: 0.6475 - mean_squared_error: 0.6475\n",
      "Epoch 123: val_loss did not improve from 0.61680\n",
      "349/349 [==============================] - 1s 2ms/step - loss: 0.6417 - mean_squared_error: 0.6417 - val_loss: 0.6320 - val_mean_squared_error: 0.6320\n",
      "Epoch 124/300\n",
      "311/349 [=========================>....] - ETA: 0s - loss: 0.6462 - mean_squared_error: 0.6462\n",
      "Epoch 124: val_loss did not improve from 0.61680\n",
      "349/349 [==============================] - 0s 1ms/step - loss: 0.6442 - mean_squared_error: 0.6442 - val_loss: 0.6290 - val_mean_squared_error: 0.6290\n",
      "Epoch 125/300\n",
      "309/349 [=========================>....] - ETA: 0s - loss: 0.6434 - mean_squared_error: 0.6434\n",
      "Epoch 125: val_loss did not improve from 0.61680\n",
      "349/349 [==============================] - 0s 1ms/step - loss: 0.6389 - mean_squared_error: 0.6389 - val_loss: 0.6483 - val_mean_squared_error: 0.6483\n",
      "Epoch 126/300\n",
      "321/349 [==========================>...] - ETA: 0s - loss: 0.6361 - mean_squared_error: 0.6361\n",
      "Epoch 126: val_loss did not improve from 0.61680\n",
      "349/349 [==============================] - 1s 1ms/step - loss: 0.6366 - mean_squared_error: 0.6366 - val_loss: 0.6258 - val_mean_squared_error: 0.6258\n",
      "Epoch 127/300\n",
      "339/349 [============================>.] - ETA: 0s - loss: 0.6391 - mean_squared_error: 0.6391\n",
      "Epoch 127: val_loss did not improve from 0.61680\n",
      "349/349 [==============================] - 0s 1ms/step - loss: 0.6396 - mean_squared_error: 0.6396 - val_loss: 0.6380 - val_mean_squared_error: 0.6380\n",
      "Epoch 128/300\n",
      "327/349 [===========================>..] - ETA: 0s - loss: 0.6472 - mean_squared_error: 0.6472\n",
      "Epoch 128: val_loss did not improve from 0.61680\n",
      "349/349 [==============================] - 1s 2ms/step - loss: 0.6424 - mean_squared_error: 0.6424 - val_loss: 0.6459 - val_mean_squared_error: 0.6459\n",
      "Epoch 129/300\n",
      "347/349 [============================>.] - ETA: 0s - loss: 0.6333 - mean_squared_error: 0.6333\n",
      "Epoch 129: val_loss did not improve from 0.61680\n",
      "349/349 [==============================] - 1s 2ms/step - loss: 0.6347 - mean_squared_error: 0.6347 - val_loss: 0.6192 - val_mean_squared_error: 0.6192\n",
      "Epoch 130/300\n",
      "341/349 [============================>.] - ETA: 0s - loss: 0.6345 - mean_squared_error: 0.6345\n",
      "Epoch 130: val_loss did not improve from 0.61680\n",
      "349/349 [==============================] - 1s 2ms/step - loss: 0.6357 - mean_squared_error: 0.6357 - val_loss: 0.6253 - val_mean_squared_error: 0.6253\n",
      "Epoch 131/300\n",
      "332/349 [===========================>..] - ETA: 0s - loss: 0.6394 - mean_squared_error: 0.6394\n",
      "Epoch 131: val_loss did not improve from 0.61680\n",
      "349/349 [==============================] - 1s 2ms/step - loss: 0.6409 - mean_squared_error: 0.6409 - val_loss: 0.6317 - val_mean_squared_error: 0.6317\n",
      "Epoch 132/300\n",
      "320/349 [==========================>...] - ETA: 0s - loss: 0.6404 - mean_squared_error: 0.6404\n",
      "Epoch 132: val_loss did not improve from 0.61680\n",
      "349/349 [==============================] - 0s 1ms/step - loss: 0.6412 - mean_squared_error: 0.6412 - val_loss: 0.6327 - val_mean_squared_error: 0.6327\n",
      "Epoch 133/300\n",
      "319/349 [==========================>...] - ETA: 0s - loss: 0.6336 - mean_squared_error: 0.6336\n",
      "Epoch 133: val_loss did not improve from 0.61680\n",
      "349/349 [==============================] - 0s 1ms/step - loss: 0.6345 - mean_squared_error: 0.6345 - val_loss: 0.6199 - val_mean_squared_error: 0.6199\n",
      "Epoch 134/300\n",
      "311/349 [=========================>....] - ETA: 0s - loss: 0.6501 - mean_squared_error: 0.6501\n",
      "Epoch 134: val_loss did not improve from 0.61680\n",
      "349/349 [==============================] - 0s 1ms/step - loss: 0.6401 - mean_squared_error: 0.6401 - val_loss: 0.6317 - val_mean_squared_error: 0.6317\n",
      "Epoch 135/300\n",
      "314/349 [=========================>....] - ETA: 0s - loss: 0.6402 - mean_squared_error: 0.6402\n",
      "Epoch 135: val_loss did not improve from 0.61680\n",
      "349/349 [==============================] - 1s 1ms/step - loss: 0.6411 - mean_squared_error: 0.6411 - val_loss: 0.6323 - val_mean_squared_error: 0.6323\n",
      "Epoch 136/300\n",
      "326/349 [===========================>..] - ETA: 0s - loss: 0.6399 - mean_squared_error: 0.6399\n",
      "Epoch 136: val_loss did not improve from 0.61680\n",
      "349/349 [==============================] - 1s 2ms/step - loss: 0.6411 - mean_squared_error: 0.6411 - val_loss: 0.6415 - val_mean_squared_error: 0.6415\n",
      "Epoch 137/300\n",
      "341/349 [============================>.] - ETA: 0s - loss: 0.6348 - mean_squared_error: 0.6348\n",
      "Epoch 137: val_loss did not improve from 0.61680\n",
      "349/349 [==============================] - 1s 2ms/step - loss: 0.6355 - mean_squared_error: 0.6355 - val_loss: 0.6269 - val_mean_squared_error: 0.6269\n",
      "Epoch 138/300\n",
      "340/349 [============================>.] - ETA: 0s - loss: 0.6347 - mean_squared_error: 0.6347\n",
      "Epoch 138: val_loss improved from 0.61680 to 0.61565, saving model to ./tmp\\checkpoint\n"
     ]
    },
    {
     "name": "stderr",
     "output_type": "stream",
     "text": [
      "WARNING:absl:Found untraced functions such as _update_step_xla while saving (showing 1 of 1). These functions will not be directly callable after loading.\n"
     ]
    },
    {
     "name": "stdout",
     "output_type": "stream",
     "text": [
      "INFO:tensorflow:Assets written to: ./tmp\\checkpoint\\assets\n"
     ]
    },
    {
     "name": "stderr",
     "output_type": "stream",
     "text": [
      "INFO:tensorflow:Assets written to: ./tmp\\checkpoint\\assets\n"
     ]
    },
    {
     "name": "stdout",
     "output_type": "stream",
     "text": [
      "349/349 [==============================] - 2s 5ms/step - loss: 0.6355 - mean_squared_error: 0.6355 - val_loss: 0.6157 - val_mean_squared_error: 0.6157\n",
      "Epoch 139/300\n",
      "319/349 [==========================>...] - ETA: 0s - loss: 0.6304 - mean_squared_error: 0.6304\n",
      "Epoch 139: val_loss did not improve from 0.61565\n",
      "349/349 [==============================] - 1s 2ms/step - loss: 0.6326 - mean_squared_error: 0.6326 - val_loss: 0.6349 - val_mean_squared_error: 0.6349\n",
      "Epoch 140/300\n",
      "325/349 [==========================>...] - ETA: 0s - loss: 0.6376 - mean_squared_error: 0.6376\n",
      "Epoch 140: val_loss did not improve from 0.61565\n",
      "349/349 [==============================] - 1s 2ms/step - loss: 0.6411 - mean_squared_error: 0.6411 - val_loss: 0.6396 - val_mean_squared_error: 0.6396\n",
      "Epoch 141/300\n",
      "342/349 [============================>.] - ETA: 0s - loss: 0.6421 - mean_squared_error: 0.6421\n",
      "Epoch 141: val_loss did not improve from 0.61565\n",
      "349/349 [==============================] - 1s 2ms/step - loss: 0.6410 - mean_squared_error: 0.6410 - val_loss: 0.6493 - val_mean_squared_error: 0.6493\n",
      "Epoch 142/300\n",
      "349/349 [==============================] - ETA: 0s - loss: 0.6379 - mean_squared_error: 0.6379\n",
      "Epoch 142: val_loss did not improve from 0.61565\n",
      "349/349 [==============================] - 1s 2ms/step - loss: 0.6379 - mean_squared_error: 0.6379 - val_loss: 0.6253 - val_mean_squared_error: 0.6253\n",
      "Epoch 143/300\n",
      "342/349 [============================>.] - ETA: 0s - loss: 0.6386 - mean_squared_error: 0.6386\n",
      "Epoch 143: val_loss did not improve from 0.61565\n",
      "349/349 [==============================] - 1s 2ms/step - loss: 0.6368 - mean_squared_error: 0.6368 - val_loss: 0.6597 - val_mean_squared_error: 0.6597\n",
      "Epoch 144/300\n",
      "324/349 [==========================>...] - ETA: 0s - loss: 0.6340 - mean_squared_error: 0.6340\n",
      "Epoch 144: val_loss did not improve from 0.61565\n",
      "349/349 [==============================] - 1s 2ms/step - loss: 0.6366 - mean_squared_error: 0.6366 - val_loss: 0.6299 - val_mean_squared_error: 0.6299\n",
      "Epoch 145/300\n",
      "341/349 [============================>.] - ETA: 0s - loss: 0.6377 - mean_squared_error: 0.6377\n",
      "Epoch 145: val_loss did not improve from 0.61565\n",
      "349/349 [==============================] - 1s 2ms/step - loss: 0.6374 - mean_squared_error: 0.6374 - val_loss: 0.6241 - val_mean_squared_error: 0.6241\n",
      "Epoch 146/300\n",
      "344/349 [============================>.] - ETA: 0s - loss: 0.6378 - mean_squared_error: 0.6378\n",
      "Epoch 146: val_loss did not improve from 0.61565\n",
      "349/349 [==============================] - 1s 2ms/step - loss: 0.6369 - mean_squared_error: 0.6369 - val_loss: 0.6288 - val_mean_squared_error: 0.6288\n",
      "Epoch 147/300\n",
      "332/349 [===========================>..] - ETA: 0s - loss: 0.6335 - mean_squared_error: 0.6335\n",
      "Epoch 147: val_loss improved from 0.61565 to 0.61542, saving model to ./tmp\\checkpoint\n"
     ]
    },
    {
     "name": "stderr",
     "output_type": "stream",
     "text": [
      "WARNING:absl:Found untraced functions such as _update_step_xla while saving (showing 1 of 1). These functions will not be directly callable after loading.\n"
     ]
    },
    {
     "name": "stdout",
     "output_type": "stream",
     "text": [
      "INFO:tensorflow:Assets written to: ./tmp\\checkpoint\\assets\n"
     ]
    },
    {
     "name": "stderr",
     "output_type": "stream",
     "text": [
      "INFO:tensorflow:Assets written to: ./tmp\\checkpoint\\assets\n"
     ]
    },
    {
     "name": "stdout",
     "output_type": "stream",
     "text": [
      "349/349 [==============================] - 1s 4ms/step - loss: 0.6344 - mean_squared_error: 0.6344 - val_loss: 0.6154 - val_mean_squared_error: 0.6154\n",
      "Epoch 148/300\n",
      "332/349 [===========================>..] - ETA: 0s - loss: 0.6395 - mean_squared_error: 0.6395\n",
      "Epoch 148: val_loss did not improve from 0.61542\n",
      "349/349 [==============================] - 1s 2ms/step - loss: 0.6413 - mean_squared_error: 0.6413 - val_loss: 0.6273 - val_mean_squared_error: 0.6273\n",
      "Epoch 149/300\n",
      "329/349 [===========================>..] - ETA: 0s - loss: 0.6438 - mean_squared_error: 0.6438\n",
      "Epoch 149: val_loss did not improve from 0.61542\n",
      "349/349 [==============================] - 1s 2ms/step - loss: 0.6393 - mean_squared_error: 0.6393 - val_loss: 0.6367 - val_mean_squared_error: 0.6367\n",
      "Epoch 150/300\n",
      "346/349 [============================>.] - ETA: 0s - loss: 0.6371 - mean_squared_error: 0.6371\n",
      "Epoch 150: val_loss improved from 0.61542 to 0.61506, saving model to ./tmp\\checkpoint\n"
     ]
    },
    {
     "name": "stderr",
     "output_type": "stream",
     "text": [
      "WARNING:absl:Found untraced functions such as _update_step_xla while saving (showing 1 of 1). These functions will not be directly callable after loading.\n"
     ]
    },
    {
     "name": "stdout",
     "output_type": "stream",
     "text": [
      "INFO:tensorflow:Assets written to: ./tmp\\checkpoint\\assets\n"
     ]
    },
    {
     "name": "stderr",
     "output_type": "stream",
     "text": [
      "INFO:tensorflow:Assets written to: ./tmp\\checkpoint\\assets\n"
     ]
    },
    {
     "name": "stdout",
     "output_type": "stream",
     "text": [
      "349/349 [==============================] - 2s 5ms/step - loss: 0.6392 - mean_squared_error: 0.6392 - val_loss: 0.6151 - val_mean_squared_error: 0.6151\n",
      "Epoch 151/300\n",
      "341/349 [============================>.] - ETA: 0s - loss: 0.6366 - mean_squared_error: 0.6366\n",
      "Epoch 151: val_loss did not improve from 0.61506\n",
      "349/349 [==============================] - 1s 2ms/step - loss: 0.6377 - mean_squared_error: 0.6377 - val_loss: 0.6245 - val_mean_squared_error: 0.6245\n",
      "Epoch 152/300\n",
      "341/349 [============================>.] - ETA: 0s - loss: 0.6339 - mean_squared_error: 0.6339\n",
      "Epoch 152: val_loss did not improve from 0.61506\n",
      "349/349 [==============================] - 1s 2ms/step - loss: 0.6331 - mean_squared_error: 0.6331 - val_loss: 0.6172 - val_mean_squared_error: 0.6172\n",
      "Epoch 153/300\n",
      "320/349 [==========================>...] - ETA: 0s - loss: 0.6343 - mean_squared_error: 0.6343\n",
      "Epoch 153: val_loss did not improve from 0.61506\n",
      "349/349 [==============================] - 1s 2ms/step - loss: 0.6330 - mean_squared_error: 0.6330 - val_loss: 0.6419 - val_mean_squared_error: 0.6419\n",
      "Epoch 154/300\n",
      "336/349 [===========================>..] - ETA: 0s - loss: 0.6368 - mean_squared_error: 0.6368\n",
      "Epoch 154: val_loss did not improve from 0.61506\n",
      "349/349 [==============================] - 1s 2ms/step - loss: 0.6389 - mean_squared_error: 0.6389 - val_loss: 0.6491 - val_mean_squared_error: 0.6491\n",
      "Epoch 155/300\n",
      "329/349 [===========================>..] - ETA: 0s - loss: 0.6406 - mean_squared_error: 0.6406\n",
      "Epoch 155: val_loss did not improve from 0.61506\n",
      "349/349 [==============================] - 1s 2ms/step - loss: 0.6389 - mean_squared_error: 0.6389 - val_loss: 0.6176 - val_mean_squared_error: 0.6176\n",
      "Epoch 156/300\n",
      "328/349 [===========================>..] - ETA: 0s - loss: 0.6276 - mean_squared_error: 0.6276\n",
      "Epoch 156: val_loss did not improve from 0.61506\n",
      "349/349 [==============================] - 1s 2ms/step - loss: 0.6319 - mean_squared_error: 0.6319 - val_loss: 0.6199 - val_mean_squared_error: 0.6199\n",
      "Epoch 157/300\n",
      "338/349 [============================>.] - ETA: 0s - loss: 0.6322 - mean_squared_error: 0.6322\n",
      "Epoch 157: val_loss improved from 0.61506 to 0.60984, saving model to ./tmp\\checkpoint\n"
     ]
    },
    {
     "name": "stderr",
     "output_type": "stream",
     "text": [
      "WARNING:absl:Found untraced functions such as _update_step_xla while saving (showing 1 of 1). These functions will not be directly callable after loading.\n"
     ]
    },
    {
     "name": "stdout",
     "output_type": "stream",
     "text": [
      "INFO:tensorflow:Assets written to: ./tmp\\checkpoint\\assets\n"
     ]
    },
    {
     "name": "stderr",
     "output_type": "stream",
     "text": [
      "INFO:tensorflow:Assets written to: ./tmp\\checkpoint\\assets\n"
     ]
    },
    {
     "name": "stdout",
     "output_type": "stream",
     "text": [
      "349/349 [==============================] - 2s 5ms/step - loss: 0.6321 - mean_squared_error: 0.6321 - val_loss: 0.6098 - val_mean_squared_error: 0.6098\n",
      "Epoch 158/300\n",
      "317/349 [==========================>...] - ETA: 0s - loss: 0.6317 - mean_squared_error: 0.6317\n",
      "Epoch 158: val_loss did not improve from 0.60984\n",
      "349/349 [==============================] - 1s 1ms/step - loss: 0.6320 - mean_squared_error: 0.6320 - val_loss: 0.6364 - val_mean_squared_error: 0.6364\n",
      "Epoch 159/300\n",
      "319/349 [==========================>...] - ETA: 0s - loss: 0.6364 - mean_squared_error: 0.6364\n",
      "Epoch 159: val_loss did not improve from 0.60984\n",
      "349/349 [==============================] - 1s 2ms/step - loss: 0.6368 - mean_squared_error: 0.6368 - val_loss: 0.6289 - val_mean_squared_error: 0.6289\n",
      "Epoch 160/300\n",
      "317/349 [==========================>...] - ETA: 0s - loss: 0.6314 - mean_squared_error: 0.6314\n",
      "Epoch 160: val_loss did not improve from 0.60984\n",
      "349/349 [==============================] - 1s 2ms/step - loss: 0.6350 - mean_squared_error: 0.6350 - val_loss: 0.6172 - val_mean_squared_error: 0.6172\n",
      "Epoch 161/300\n",
      "339/349 [============================>.] - ETA: 0s - loss: 0.6341 - mean_squared_error: 0.6341\n",
      "Epoch 161: val_loss did not improve from 0.60984\n",
      "349/349 [==============================] - 1s 2ms/step - loss: 0.6342 - mean_squared_error: 0.6342 - val_loss: 0.6240 - val_mean_squared_error: 0.6240\n",
      "Epoch 162/300\n",
      "331/349 [===========================>..] - ETA: 0s - loss: 0.6307 - mean_squared_error: 0.6307\n",
      "Epoch 162: val_loss did not improve from 0.60984\n",
      "349/349 [==============================] - 1s 2ms/step - loss: 0.6300 - mean_squared_error: 0.6300 - val_loss: 0.6188 - val_mean_squared_error: 0.6188\n",
      "Epoch 163/300\n",
      "338/349 [============================>.] - ETA: 0s - loss: 0.6354 - mean_squared_error: 0.6354\n",
      "Epoch 163: val_loss did not improve from 0.60984\n",
      "349/349 [==============================] - 0s 1ms/step - loss: 0.6378 - mean_squared_error: 0.6378 - val_loss: 0.6142 - val_mean_squared_error: 0.6142\n",
      "Epoch 164/300\n",
      "335/349 [===========================>..] - ETA: 0s - loss: 0.6338 - mean_squared_error: 0.6338\n",
      "Epoch 164: val_loss did not improve from 0.60984\n",
      "349/349 [==============================] - 0s 1ms/step - loss: 0.6367 - mean_squared_error: 0.6367 - val_loss: 0.6174 - val_mean_squared_error: 0.6174\n",
      "Epoch 165/300\n",
      "325/349 [==========================>...] - ETA: 0s - loss: 0.6388 - mean_squared_error: 0.6388\n",
      "Epoch 165: val_loss did not improve from 0.60984\n",
      "349/349 [==============================] - 1s 2ms/step - loss: 0.6344 - mean_squared_error: 0.6344 - val_loss: 0.6256 - val_mean_squared_error: 0.6256\n",
      "Epoch 166/300\n",
      "329/349 [===========================>..] - ETA: 0s - loss: 0.6379 - mean_squared_error: 0.6379\n",
      "Epoch 166: val_loss did not improve from 0.60984\n",
      "349/349 [==============================] - 1s 2ms/step - loss: 0.6370 - mean_squared_error: 0.6370 - val_loss: 0.6412 - val_mean_squared_error: 0.6412\n",
      "Epoch 167/300\n",
      "312/349 [=========================>....] - ETA: 0s - loss: 0.6308 - mean_squared_error: 0.6308\n",
      "Epoch 167: val_loss did not improve from 0.60984\n",
      "349/349 [==============================] - 1s 2ms/step - loss: 0.6366 - mean_squared_error: 0.6366 - val_loss: 0.6337 - val_mean_squared_error: 0.6337\n",
      "Epoch 168/300\n",
      "347/349 [============================>.] - ETA: 0s - loss: 0.6371 - mean_squared_error: 0.6371\n",
      "Epoch 168: val_loss did not improve from 0.60984\n",
      "349/349 [==============================] - 1s 2ms/step - loss: 0.6368 - mean_squared_error: 0.6368 - val_loss: 0.6206 - val_mean_squared_error: 0.6206\n",
      "Epoch 169/300\n",
      "347/349 [============================>.] - ETA: 0s - loss: 0.6369 - mean_squared_error: 0.6369\n",
      "Epoch 169: val_loss did not improve from 0.60984\n",
      "349/349 [==============================] - 1s 2ms/step - loss: 0.6355 - mean_squared_error: 0.6355 - val_loss: 0.6525 - val_mean_squared_error: 0.6525\n",
      "Epoch 170/300\n",
      "342/349 [============================>.] - ETA: 0s - loss: 0.6357 - mean_squared_error: 0.6357\n",
      "Epoch 170: val_loss did not improve from 0.60984\n",
      "349/349 [==============================] - 1s 2ms/step - loss: 0.6342 - mean_squared_error: 0.6342 - val_loss: 0.6264 - val_mean_squared_error: 0.6264\n",
      "Epoch 171/300\n",
      "335/349 [===========================>..] - ETA: 0s - loss: 0.6393 - mean_squared_error: 0.6393\n",
      "Epoch 171: val_loss did not improve from 0.60984\n",
      "349/349 [==============================] - 1s 2ms/step - loss: 0.6341 - mean_squared_error: 0.6341 - val_loss: 0.6208 - val_mean_squared_error: 0.6208\n",
      "Epoch 172/300\n",
      "339/349 [============================>.] - ETA: 0s - loss: 0.6338 - mean_squared_error: 0.6338\n",
      "Epoch 172: val_loss did not improve from 0.60984\n",
      "349/349 [==============================] - 1s 2ms/step - loss: 0.6366 - mean_squared_error: 0.6366 - val_loss: 0.6216 - val_mean_squared_error: 0.6216\n",
      "Epoch 173/300\n",
      "338/349 [============================>.] - ETA: 0s - loss: 0.6363 - mean_squared_error: 0.6363\n",
      "Epoch 173: val_loss did not improve from 0.60984\n",
      "349/349 [==============================] - 1s 2ms/step - loss: 0.6382 - mean_squared_error: 0.6382 - val_loss: 0.6470 - val_mean_squared_error: 0.6470\n",
      "Epoch 174/300\n",
      "346/349 [============================>.] - ETA: 0s - loss: 0.6329 - mean_squared_error: 0.6329\n",
      "Epoch 174: val_loss did not improve from 0.60984\n",
      "349/349 [==============================] - 1s 2ms/step - loss: 0.6329 - mean_squared_error: 0.6329 - val_loss: 0.6139 - val_mean_squared_error: 0.6139\n",
      "Epoch 175/300\n",
      "341/349 [============================>.] - ETA: 0s - loss: 0.6356 - mean_squared_error: 0.6356\n",
      "Epoch 175: val_loss did not improve from 0.60984\n",
      "349/349 [==============================] - 1s 2ms/step - loss: 0.6359 - mean_squared_error: 0.6359 - val_loss: 0.6148 - val_mean_squared_error: 0.6148\n",
      "Epoch 176/300\n",
      "335/349 [===========================>..] - ETA: 0s - loss: 0.6352 - mean_squared_error: 0.6352\n",
      "Epoch 176: val_loss did not improve from 0.60984\n",
      "349/349 [==============================] - 1s 2ms/step - loss: 0.6378 - mean_squared_error: 0.6378 - val_loss: 0.6249 - val_mean_squared_error: 0.6249\n",
      "Epoch 177/300\n",
      "339/349 [============================>.] - ETA: 0s - loss: 0.6347 - mean_squared_error: 0.6347\n",
      "Epoch 177: val_loss did not improve from 0.60984\n",
      "349/349 [==============================] - 1s 2ms/step - loss: 0.6335 - mean_squared_error: 0.6335 - val_loss: 0.6505 - val_mean_squared_error: 0.6505\n",
      "Epoch 178/300\n",
      "325/349 [==========================>...] - ETA: 0s - loss: 0.6326 - mean_squared_error: 0.6326\n",
      "Epoch 178: val_loss did not improve from 0.60984\n",
      "349/349 [==============================] - 1s 2ms/step - loss: 0.6320 - mean_squared_error: 0.6320 - val_loss: 0.6221 - val_mean_squared_error: 0.6221\n",
      "Epoch 179/300\n",
      "332/349 [===========================>..] - ETA: 0s - loss: 0.6385 - mean_squared_error: 0.6385\n",
      "Epoch 179: val_loss did not improve from 0.60984\n",
      "349/349 [==============================] - 1s 2ms/step - loss: 0.6389 - mean_squared_error: 0.6389 - val_loss: 0.6132 - val_mean_squared_error: 0.6132\n",
      "Epoch 180/300\n",
      "337/349 [===========================>..] - ETA: 0s - loss: 0.6460 - mean_squared_error: 0.6460\n",
      "Epoch 180: val_loss did not improve from 0.60984\n",
      "349/349 [==============================] - 1s 2ms/step - loss: 0.6449 - mean_squared_error: 0.6449 - val_loss: 0.6291 - val_mean_squared_error: 0.6291\n",
      "Epoch 181/300\n",
      "326/349 [===========================>..] - ETA: 0s - loss: 0.6381 - mean_squared_error: 0.6381\n",
      "Epoch 181: val_loss did not improve from 0.60984\n",
      "349/349 [==============================] - 1s 2ms/step - loss: 0.6305 - mean_squared_error: 0.6305 - val_loss: 0.6202 - val_mean_squared_error: 0.6202\n",
      "Epoch 182/300\n",
      "323/349 [==========================>...] - ETA: 0s - loss: 0.6297 - mean_squared_error: 0.6297\n",
      "Epoch 182: val_loss did not improve from 0.60984\n",
      "349/349 [==============================] - 1s 2ms/step - loss: 0.6321 - mean_squared_error: 0.6321 - val_loss: 0.6171 - val_mean_squared_error: 0.6171\n",
      "Epoch 183/300\n",
      "340/349 [============================>.] - ETA: 0s - loss: 0.6341 - mean_squared_error: 0.6341\n",
      "Epoch 183: val_loss did not improve from 0.60984\n",
      "349/349 [==============================] - 1s 2ms/step - loss: 0.6329 - mean_squared_error: 0.6329 - val_loss: 0.6305 - val_mean_squared_error: 0.6305\n",
      "Epoch 184/300\n",
      "333/349 [===========================>..] - ETA: 0s - loss: 0.6425 - mean_squared_error: 0.6425\n",
      "Epoch 184: val_loss did not improve from 0.60984\n",
      "349/349 [==============================] - 1s 2ms/step - loss: 0.6366 - mean_squared_error: 0.6366 - val_loss: 0.6320 - val_mean_squared_error: 0.6320\n",
      "Epoch 185/300\n",
      "342/349 [============================>.] - ETA: 0s - loss: 0.6282 - mean_squared_error: 0.6282\n",
      "Epoch 185: val_loss did not improve from 0.60984\n",
      "349/349 [==============================] - 1s 2ms/step - loss: 0.6268 - mean_squared_error: 0.6268 - val_loss: 0.6257 - val_mean_squared_error: 0.6257\n",
      "Epoch 186/300\n",
      "336/349 [===========================>..] - ETA: 0s - loss: 0.6355 - mean_squared_error: 0.6355\n",
      "Epoch 186: val_loss did not improve from 0.60984\n",
      "349/349 [==============================] - 1s 2ms/step - loss: 0.6379 - mean_squared_error: 0.6379 - val_loss: 0.6180 - val_mean_squared_error: 0.6180\n",
      "Epoch 187/300\n",
      "348/349 [============================>.] - ETA: 0s - loss: 0.6341 - mean_squared_error: 0.6341\n",
      "Epoch 187: val_loss did not improve from 0.60984\n",
      "349/349 [==============================] - 1s 2ms/step - loss: 0.6333 - mean_squared_error: 0.6333 - val_loss: 0.6406 - val_mean_squared_error: 0.6406\n",
      "Epoch 188/300\n",
      "339/349 [============================>.] - ETA: 0s - loss: 0.6311 - mean_squared_error: 0.6311\n",
      "Epoch 188: val_loss did not improve from 0.60984\n",
      "349/349 [==============================] - 1s 2ms/step - loss: 0.6294 - mean_squared_error: 0.6294 - val_loss: 0.6245 - val_mean_squared_error: 0.6245\n",
      "Epoch 189/300\n",
      "336/349 [===========================>..] - ETA: 0s - loss: 0.6340 - mean_squared_error: 0.6340\n",
      "Epoch 189: val_loss did not improve from 0.60984\n",
      "349/349 [==============================] - 1s 2ms/step - loss: 0.6323 - mean_squared_error: 0.6323 - val_loss: 0.6354 - val_mean_squared_error: 0.6354\n",
      "Epoch 190/300\n",
      "348/349 [============================>.] - ETA: 0s - loss: 0.6391 - mean_squared_error: 0.6391\n",
      "Epoch 190: val_loss did not improve from 0.60984\n",
      "349/349 [==============================] - 1s 2ms/step - loss: 0.6399 - mean_squared_error: 0.6399 - val_loss: 0.6181 - val_mean_squared_error: 0.6181\n",
      "Epoch 191/300\n",
      "326/349 [===========================>..] - ETA: 0s - loss: 0.6278 - mean_squared_error: 0.6278\n",
      "Epoch 191: val_loss did not improve from 0.60984\n",
      "349/349 [==============================] - 1s 2ms/step - loss: 0.6341 - mean_squared_error: 0.6341 - val_loss: 0.6259 - val_mean_squared_error: 0.6259\n",
      "Epoch 192/300\n",
      "323/349 [==========================>...] - ETA: 0s - loss: 0.6327 - mean_squared_error: 0.6327\n",
      "Epoch 192: val_loss did not improve from 0.60984\n",
      "349/349 [==============================] - 1s 2ms/step - loss: 0.6314 - mean_squared_error: 0.6314 - val_loss: 0.6164 - val_mean_squared_error: 0.6164\n",
      "Epoch 193/300\n",
      "325/349 [==========================>...] - ETA: 0s - loss: 0.6297 - mean_squared_error: 0.6297\n",
      "Epoch 193: val_loss did not improve from 0.60984\n",
      "349/349 [==============================] - 1s 2ms/step - loss: 0.6313 - mean_squared_error: 0.6313 - val_loss: 0.6302 - val_mean_squared_error: 0.6302\n",
      "Epoch 194/300\n",
      "330/349 [===========================>..] - ETA: 0s - loss: 0.6281 - mean_squared_error: 0.6281\n",
      "Epoch 194: val_loss did not improve from 0.60984\n",
      "349/349 [==============================] - 1s 2ms/step - loss: 0.6328 - mean_squared_error: 0.6328 - val_loss: 0.6141 - val_mean_squared_error: 0.6141\n",
      "Epoch 195/300\n",
      "331/349 [===========================>..] - ETA: 0s - loss: 0.6326 - mean_squared_error: 0.6326\n",
      "Epoch 195: val_loss did not improve from 0.60984\n",
      "349/349 [==============================] - 1s 2ms/step - loss: 0.6311 - mean_squared_error: 0.6311 - val_loss: 0.6135 - val_mean_squared_error: 0.6135\n",
      "Epoch 196/300\n",
      "339/349 [============================>.] - ETA: 0s - loss: 0.6320 - mean_squared_error: 0.6320\n",
      "Epoch 196: val_loss did not improve from 0.60984\n",
      "349/349 [==============================] - 1s 2ms/step - loss: 0.6308 - mean_squared_error: 0.6308 - val_loss: 0.6404 - val_mean_squared_error: 0.6404\n",
      "Epoch 197/300\n",
      "325/349 [==========================>...] - ETA: 0s - loss: 0.6373 - mean_squared_error: 0.6373\n",
      "Epoch 197: val_loss did not improve from 0.60984\n",
      "349/349 [==============================] - 1s 2ms/step - loss: 0.6330 - mean_squared_error: 0.6330 - val_loss: 0.6416 - val_mean_squared_error: 0.6416\n",
      "Epoch 198/300\n",
      "328/349 [===========================>..] - ETA: 0s - loss: 0.6318 - mean_squared_error: 0.6318\n",
      "Epoch 198: val_loss did not improve from 0.60984\n",
      "349/349 [==============================] - 1s 2ms/step - loss: 0.6353 - mean_squared_error: 0.6353 - val_loss: 0.6304 - val_mean_squared_error: 0.6304\n",
      "Epoch 199/300\n",
      "322/349 [==========================>...] - ETA: 0s - loss: 0.6333 - mean_squared_error: 0.6333\n",
      "Epoch 199: val_loss did not improve from 0.60984\n",
      "349/349 [==============================] - 1s 2ms/step - loss: 0.6286 - mean_squared_error: 0.6286 - val_loss: 0.6169 - val_mean_squared_error: 0.6169\n",
      "Epoch 200/300\n",
      "328/349 [===========================>..] - ETA: 0s - loss: 0.6214 - mean_squared_error: 0.6214\n",
      "Epoch 200: val_loss did not improve from 0.60984\n",
      "349/349 [==============================] - 1s 3ms/step - loss: 0.6267 - mean_squared_error: 0.6267 - val_loss: 0.6217 - val_mean_squared_error: 0.6217\n",
      "Epoch 201/300\n",
      "343/349 [============================>.] - ETA: 0s - loss: 0.6352 - mean_squared_error: 0.6352\n",
      "Epoch 201: val_loss did not improve from 0.60984\n",
      "349/349 [==============================] - 1s 2ms/step - loss: 0.6362 - mean_squared_error: 0.6362 - val_loss: 0.6147 - val_mean_squared_error: 0.6147\n",
      "Epoch 202/300\n",
      "330/349 [===========================>..] - ETA: 0s - loss: 0.6346 - mean_squared_error: 0.6346\n",
      "Epoch 202: val_loss did not improve from 0.60984\n",
      "349/349 [==============================] - 1s 2ms/step - loss: 0.6307 - mean_squared_error: 0.6307 - val_loss: 0.6140 - val_mean_squared_error: 0.6140\n",
      "Epoch 203/300\n",
      "348/349 [============================>.] - ETA: 0s - loss: 0.6274 - mean_squared_error: 0.6274\n",
      "Epoch 203: val_loss did not improve from 0.60984\n",
      "349/349 [==============================] - 1s 2ms/step - loss: 0.6276 - mean_squared_error: 0.6276 - val_loss: 0.6319 - val_mean_squared_error: 0.6319\n",
      "Epoch 204/300\n",
      "329/349 [===========================>..] - ETA: 0s - loss: 0.6366 - mean_squared_error: 0.6366\n",
      "Epoch 204: val_loss did not improve from 0.60984\n",
      "349/349 [==============================] - 1s 2ms/step - loss: 0.6347 - mean_squared_error: 0.6347 - val_loss: 0.6193 - val_mean_squared_error: 0.6193\n",
      "Epoch 205/300\n",
      "343/349 [============================>.] - ETA: 0s - loss: 0.6316 - mean_squared_error: 0.6316\n",
      "Epoch 205: val_loss did not improve from 0.60984\n",
      "349/349 [==============================] - 1s 3ms/step - loss: 0.6316 - mean_squared_error: 0.6316 - val_loss: 0.6614 - val_mean_squared_error: 0.6614\n",
      "Epoch 206/300\n",
      "349/349 [==============================] - ETA: 0s - loss: 0.6277 - mean_squared_error: 0.6277\n",
      "Epoch 206: val_loss did not improve from 0.60984\n",
      "349/349 [==============================] - 1s 3ms/step - loss: 0.6277 - mean_squared_error: 0.6277 - val_loss: 0.6164 - val_mean_squared_error: 0.6164\n",
      "Epoch 207/300\n",
      "337/349 [===========================>..] - ETA: 0s - loss: 0.6330 - mean_squared_error: 0.6330\n",
      "Epoch 207: val_loss did not improve from 0.60984\n",
      "349/349 [==============================] - 1s 2ms/step - loss: 0.6307 - mean_squared_error: 0.6307 - val_loss: 0.6199 - val_mean_squared_error: 0.6199\n",
      "Epoch 208/300\n",
      "316/349 [==========================>...] - ETA: 0s - loss: 0.6282 - mean_squared_error: 0.6282\n",
      "Epoch 208: val_loss did not improve from 0.60984\n",
      "349/349 [==============================] - 1s 2ms/step - loss: 0.6364 - mean_squared_error: 0.6364 - val_loss: 0.6211 - val_mean_squared_error: 0.6211\n",
      "Epoch 209/300\n",
      "347/349 [============================>.] - ETA: 0s - loss: 0.6314 - mean_squared_error: 0.6314\n",
      "Epoch 209: val_loss did not improve from 0.60984\n",
      "349/349 [==============================] - 1s 2ms/step - loss: 0.6307 - mean_squared_error: 0.6307 - val_loss: 0.6310 - val_mean_squared_error: 0.6310\n",
      "Epoch 210/300\n",
      "332/349 [===========================>..] - ETA: 0s - loss: 0.6297 - mean_squared_error: 0.6297\n",
      "Epoch 210: val_loss did not improve from 0.60984\n",
      "349/349 [==============================] - 1s 2ms/step - loss: 0.6292 - mean_squared_error: 0.6292 - val_loss: 0.6185 - val_mean_squared_error: 0.6185\n",
      "Epoch 211/300\n",
      "334/349 [===========================>..] - ETA: 0s - loss: 0.6284 - mean_squared_error: 0.6284\n",
      "Epoch 211: val_loss did not improve from 0.60984\n",
      "349/349 [==============================] - 1s 2ms/step - loss: 0.6304 - mean_squared_error: 0.6304 - val_loss: 0.6205 - val_mean_squared_error: 0.6205\n",
      "Epoch 212/300\n",
      "347/349 [============================>.] - ETA: 0s - loss: 0.6303 - mean_squared_error: 0.6303\n",
      "Epoch 212: val_loss did not improve from 0.60984\n",
      "349/349 [==============================] - 1s 2ms/step - loss: 0.6306 - mean_squared_error: 0.6306 - val_loss: 0.6231 - val_mean_squared_error: 0.6231\n",
      "Epoch 213/300\n",
      "322/349 [==========================>...] - ETA: 0s - loss: 0.6355 - mean_squared_error: 0.6355\n",
      "Epoch 213: val_loss did not improve from 0.60984\n",
      "349/349 [==============================] - 1s 2ms/step - loss: 0.6330 - mean_squared_error: 0.6330 - val_loss: 0.6160 - val_mean_squared_error: 0.6160\n",
      "Epoch 214/300\n",
      "343/349 [============================>.] - ETA: 0s - loss: 0.6256 - mean_squared_error: 0.6256\n",
      "Epoch 214: val_loss did not improve from 0.60984\n",
      "349/349 [==============================] - 1s 2ms/step - loss: 0.6251 - mean_squared_error: 0.6251 - val_loss: 0.6145 - val_mean_squared_error: 0.6145\n",
      "Epoch 215/300\n",
      "323/349 [==========================>...] - ETA: 0s - loss: 0.6386 - mean_squared_error: 0.6386\n",
      "Epoch 215: val_loss did not improve from 0.60984\n",
      "349/349 [==============================] - 1s 2ms/step - loss: 0.6346 - mean_squared_error: 0.6346 - val_loss: 0.6248 - val_mean_squared_error: 0.6248\n",
      "Epoch 216/300\n",
      "337/349 [===========================>..] - ETA: 0s - loss: 0.6257 - mean_squared_error: 0.6257\n",
      "Epoch 216: val_loss did not improve from 0.60984\n",
      "349/349 [==============================] - 1s 2ms/step - loss: 0.6296 - mean_squared_error: 0.6296 - val_loss: 0.6174 - val_mean_squared_error: 0.6174\n",
      "Epoch 217/300\n",
      "345/349 [============================>.] - ETA: 0s - loss: 0.6351 - mean_squared_error: 0.6351\n",
      "Epoch 217: val_loss did not improve from 0.60984\n",
      "349/349 [==============================] - 1s 2ms/step - loss: 0.6339 - mean_squared_error: 0.6339 - val_loss: 0.6360 - val_mean_squared_error: 0.6360\n",
      "Epoch 218/300\n",
      "317/349 [==========================>...] - ETA: 0s - loss: 0.6294 - mean_squared_error: 0.6294\n",
      "Epoch 218: val_loss improved from 0.60984 to 0.60513, saving model to ./tmp\\checkpoint\n"
     ]
    },
    {
     "name": "stderr",
     "output_type": "stream",
     "text": [
      "WARNING:absl:Found untraced functions such as _update_step_xla while saving (showing 1 of 1). These functions will not be directly callable after loading.\n"
     ]
    },
    {
     "name": "stdout",
     "output_type": "stream",
     "text": [
      "INFO:tensorflow:Assets written to: ./tmp\\checkpoint\\assets\n"
     ]
    },
    {
     "name": "stderr",
     "output_type": "stream",
     "text": [
      "INFO:tensorflow:Assets written to: ./tmp\\checkpoint\\assets\n"
     ]
    },
    {
     "name": "stdout",
     "output_type": "stream",
     "text": [
      "349/349 [==============================] - 1s 4ms/step - loss: 0.6306 - mean_squared_error: 0.6306 - val_loss: 0.6051 - val_mean_squared_error: 0.6051\n",
      "Epoch 219/300\n",
      "344/349 [============================>.] - ETA: 0s - loss: 0.6311 - mean_squared_error: 0.6311\n",
      "Epoch 219: val_loss did not improve from 0.60513\n",
      "349/349 [==============================] - 0s 1ms/step - loss: 0.6350 - mean_squared_error: 0.6350 - val_loss: 0.6171 - val_mean_squared_error: 0.6171\n",
      "Epoch 220/300\n",
      "323/349 [==========================>...] - ETA: 0s - loss: 0.6245 - mean_squared_error: 0.6245\n",
      "Epoch 220: val_loss did not improve from 0.60513\n",
      "349/349 [==============================] - 1s 2ms/step - loss: 0.6302 - mean_squared_error: 0.6302 - val_loss: 0.6205 - val_mean_squared_error: 0.6205\n",
      "Epoch 221/300\n",
      "336/349 [===========================>..] - ETA: 0s - loss: 0.6266 - mean_squared_error: 0.6266\n",
      "Epoch 221: val_loss did not improve from 0.60513\n",
      "349/349 [==============================] - 1s 2ms/step - loss: 0.6240 - mean_squared_error: 0.6240 - val_loss: 0.6181 - val_mean_squared_error: 0.6181\n",
      "Epoch 222/300\n",
      "343/349 [============================>.] - ETA: 0s - loss: 0.6307 - mean_squared_error: 0.6307\n",
      "Epoch 222: val_loss did not improve from 0.60513\n",
      "349/349 [==============================] - 1s 2ms/step - loss: 0.6297 - mean_squared_error: 0.6297 - val_loss: 0.6200 - val_mean_squared_error: 0.6200\n",
      "Epoch 223/300\n",
      "342/349 [============================>.] - ETA: 0s - loss: 0.6343 - mean_squared_error: 0.6343\n",
      "Epoch 223: val_loss did not improve from 0.60513\n",
      "349/349 [==============================] - 1s 2ms/step - loss: 0.6323 - mean_squared_error: 0.6323 - val_loss: 0.6208 - val_mean_squared_error: 0.6208\n",
      "Epoch 224/300\n",
      "344/349 [============================>.] - ETA: 0s - loss: 0.6316 - mean_squared_error: 0.6316\n",
      "Epoch 224: val_loss did not improve from 0.60513\n",
      "349/349 [==============================] - 1s 2ms/step - loss: 0.6317 - mean_squared_error: 0.6317 - val_loss: 0.6146 - val_mean_squared_error: 0.6146\n",
      "Epoch 225/300\n",
      "342/349 [============================>.] - ETA: 0s - loss: 0.6313 - mean_squared_error: 0.6313\n",
      "Epoch 225: val_loss did not improve from 0.60513\n",
      "349/349 [==============================] - 1s 2ms/step - loss: 0.6319 - mean_squared_error: 0.6319 - val_loss: 0.6237 - val_mean_squared_error: 0.6237\n",
      "Epoch 226/300\n",
      "324/349 [==========================>...] - ETA: 0s - loss: 0.6340 - mean_squared_error: 0.6340\n",
      "Epoch 226: val_loss did not improve from 0.60513\n",
      "349/349 [==============================] - 1s 2ms/step - loss: 0.6330 - mean_squared_error: 0.6330 - val_loss: 0.6277 - val_mean_squared_error: 0.6277\n",
      "Epoch 227/300\n",
      "333/349 [===========================>..] - ETA: 0s - loss: 0.6336 - mean_squared_error: 0.6336\n",
      "Epoch 227: val_loss did not improve from 0.60513\n",
      "349/349 [==============================] - 1s 2ms/step - loss: 0.6313 - mean_squared_error: 0.6313 - val_loss: 0.6199 - val_mean_squared_error: 0.6199\n",
      "Epoch 228/300\n",
      "336/349 [===========================>..] - ETA: 0s - loss: 0.6249 - mean_squared_error: 0.6249\n",
      "Epoch 228: val_loss did not improve from 0.60513\n",
      "349/349 [==============================] - 1s 2ms/step - loss: 0.6278 - mean_squared_error: 0.6278 - val_loss: 0.6238 - val_mean_squared_error: 0.6238\n",
      "Epoch 229/300\n",
      "342/349 [============================>.] - ETA: 0s - loss: 0.6243 - mean_squared_error: 0.6243\n",
      "Epoch 229: val_loss did not improve from 0.60513\n",
      "349/349 [==============================] - 1s 2ms/step - loss: 0.6311 - mean_squared_error: 0.6311 - val_loss: 0.6233 - val_mean_squared_error: 0.6233\n",
      "Epoch 230/300\n",
      "330/349 [===========================>..] - ETA: 0s - loss: 0.6282 - mean_squared_error: 0.6282\n",
      "Epoch 230: val_loss did not improve from 0.60513\n",
      "349/349 [==============================] - 1s 2ms/step - loss: 0.6291 - mean_squared_error: 0.6291 - val_loss: 0.6350 - val_mean_squared_error: 0.6350\n",
      "Epoch 231/300\n",
      "320/349 [==========================>...] - ETA: 0s - loss: 0.6357 - mean_squared_error: 0.6357\n",
      "Epoch 231: val_loss did not improve from 0.60513\n",
      "349/349 [==============================] - 1s 2ms/step - loss: 0.6317 - mean_squared_error: 0.6317 - val_loss: 0.6260 - val_mean_squared_error: 0.6260\n",
      "Epoch 232/300\n",
      "326/349 [===========================>..] - ETA: 0s - loss: 0.6303 - mean_squared_error: 0.6303\n",
      "Epoch 232: val_loss did not improve from 0.60513\n",
      "349/349 [==============================] - 1s 2ms/step - loss: 0.6315 - mean_squared_error: 0.6315 - val_loss: 0.6192 - val_mean_squared_error: 0.6192\n",
      "Epoch 233/300\n",
      "333/349 [===========================>..] - ETA: 0s - loss: 0.6201 - mean_squared_error: 0.6201\n",
      "Epoch 233: val_loss did not improve from 0.60513\n",
      "349/349 [==============================] - 1s 2ms/step - loss: 0.6210 - mean_squared_error: 0.6210 - val_loss: 0.6208 - val_mean_squared_error: 0.6208\n",
      "Epoch 234/300\n",
      "318/349 [==========================>...] - ETA: 0s - loss: 0.6336 - mean_squared_error: 0.6336\n",
      "Epoch 234: val_loss did not improve from 0.60513\n",
      "349/349 [==============================] - 1s 2ms/step - loss: 0.6313 - mean_squared_error: 0.6313 - val_loss: 0.6086 - val_mean_squared_error: 0.6086\n",
      "Epoch 235/300\n",
      "315/349 [==========================>...] - ETA: 0s - loss: 0.6292 - mean_squared_error: 0.6292\n",
      "Epoch 235: val_loss did not improve from 0.60513\n",
      "349/349 [==============================] - 1s 2ms/step - loss: 0.6280 - mean_squared_error: 0.6280 - val_loss: 0.6170 - val_mean_squared_error: 0.6170\n",
      "Epoch 236/300\n",
      "333/349 [===========================>..] - ETA: 0s - loss: 0.6339 - mean_squared_error: 0.6339\n",
      "Epoch 236: val_loss did not improve from 0.60513\n",
      "349/349 [==============================] - 1s 2ms/step - loss: 0.6347 - mean_squared_error: 0.6347 - val_loss: 0.6131 - val_mean_squared_error: 0.6131\n",
      "Epoch 237/300\n",
      "340/349 [============================>.] - ETA: 0s - loss: 0.6261 - mean_squared_error: 0.6261\n",
      "Epoch 237: val_loss did not improve from 0.60513\n",
      "349/349 [==============================] - 1s 2ms/step - loss: 0.6251 - mean_squared_error: 0.6251 - val_loss: 0.6281 - val_mean_squared_error: 0.6281\n",
      "Epoch 238/300\n",
      "336/349 [===========================>..] - ETA: 0s - loss: 0.6327 - mean_squared_error: 0.6327\n",
      "Epoch 238: val_loss did not improve from 0.60513\n",
      "349/349 [==============================] - 1s 2ms/step - loss: 0.6301 - mean_squared_error: 0.6301 - val_loss: 0.6155 - val_mean_squared_error: 0.6155\n",
      "Epoch 239/300\n",
      "331/349 [===========================>..] - ETA: 0s - loss: 0.6322 - mean_squared_error: 0.6322\n",
      "Epoch 239: val_loss did not improve from 0.60513\n",
      "349/349 [==============================] - 1s 2ms/step - loss: 0.6311 - mean_squared_error: 0.6311 - val_loss: 0.6180 - val_mean_squared_error: 0.6180\n",
      "Epoch 240/300\n",
      "343/349 [============================>.] - ETA: 0s - loss: 0.6249 - mean_squared_error: 0.6249\n",
      "Epoch 240: val_loss did not improve from 0.60513\n",
      "349/349 [==============================] - 1s 2ms/step - loss: 0.6252 - mean_squared_error: 0.6252 - val_loss: 0.6224 - val_mean_squared_error: 0.6224\n",
      "Epoch 241/300\n",
      "335/349 [===========================>..] - ETA: 0s - loss: 0.6303 - mean_squared_error: 0.6303\n",
      "Epoch 241: val_loss did not improve from 0.60513\n",
      "349/349 [==============================] - 1s 2ms/step - loss: 0.6266 - mean_squared_error: 0.6266 - val_loss: 0.6257 - val_mean_squared_error: 0.6257\n",
      "Epoch 242/300\n",
      "343/349 [============================>.] - ETA: 0s - loss: 0.6300 - mean_squared_error: 0.6300\n",
      "Epoch 242: val_loss did not improve from 0.60513\n",
      "349/349 [==============================] - 1s 2ms/step - loss: 0.6287 - mean_squared_error: 0.6287 - val_loss: 0.6144 - val_mean_squared_error: 0.6144\n",
      "Epoch 243/300\n",
      "316/349 [==========================>...] - ETA: 0s - loss: 0.6316 - mean_squared_error: 0.6316\n",
      "Epoch 243: val_loss did not improve from 0.60513\n",
      "349/349 [==============================] - 1s 2ms/step - loss: 0.6333 - mean_squared_error: 0.6333 - val_loss: 0.6454 - val_mean_squared_error: 0.6454\n",
      "Epoch 244/300\n",
      "346/349 [============================>.] - ETA: 0s - loss: 0.6340 - mean_squared_error: 0.6340\n",
      "Epoch 244: val_loss did not improve from 0.60513\n",
      "349/349 [==============================] - 1s 2ms/step - loss: 0.6342 - mean_squared_error: 0.6342 - val_loss: 0.6315 - val_mean_squared_error: 0.6315\n",
      "Epoch 245/300\n",
      "348/349 [============================>.] - ETA: 0s - loss: 0.6286 - mean_squared_error: 0.6286\n",
      "Epoch 245: val_loss did not improve from 0.60513\n",
      "349/349 [==============================] - 1s 2ms/step - loss: 0.6286 - mean_squared_error: 0.6286 - val_loss: 0.6262 - val_mean_squared_error: 0.6262\n",
      "Epoch 246/300\n",
      "318/349 [==========================>...] - ETA: 0s - loss: 0.6303 - mean_squared_error: 0.6303\n",
      "Epoch 246: val_loss did not improve from 0.60513\n",
      "349/349 [==============================] - 1s 2ms/step - loss: 0.6300 - mean_squared_error: 0.6300 - val_loss: 0.6112 - val_mean_squared_error: 0.6112\n",
      "Epoch 247/300\n",
      "315/349 [==========================>...] - ETA: 0s - loss: 0.6365 - mean_squared_error: 0.6365\n",
      "Epoch 247: val_loss did not improve from 0.60513\n",
      "349/349 [==============================] - 1s 2ms/step - loss: 0.6325 - mean_squared_error: 0.6325 - val_loss: 0.6277 - val_mean_squared_error: 0.6277\n",
      "Epoch 248/300\n",
      "326/349 [===========================>..] - ETA: 0s - loss: 0.6240 - mean_squared_error: 0.6240\n",
      "Epoch 248: val_loss did not improve from 0.60513\n",
      "349/349 [==============================] - 1s 1ms/step - loss: 0.6275 - mean_squared_error: 0.6275 - val_loss: 0.6147 - val_mean_squared_error: 0.6147\n",
      "Epoch 249/300\n",
      "319/349 [==========================>...] - ETA: 0s - loss: 0.6246 - mean_squared_error: 0.6246\n",
      "Epoch 249: val_loss did not improve from 0.60513\n",
      "349/349 [==============================] - 1s 1ms/step - loss: 0.6286 - mean_squared_error: 0.6286 - val_loss: 0.6247 - val_mean_squared_error: 0.6247\n",
      "Epoch 250/300\n",
      "327/349 [===========================>..] - ETA: 0s - loss: 0.6328 - mean_squared_error: 0.6328\n",
      "Epoch 250: val_loss did not improve from 0.60513\n",
      "349/349 [==============================] - 1s 1ms/step - loss: 0.6272 - mean_squared_error: 0.6272 - val_loss: 0.6121 - val_mean_squared_error: 0.6121\n",
      "Epoch 251/300\n",
      "326/349 [===========================>..] - ETA: 0s - loss: 0.6241 - mean_squared_error: 0.6241\n",
      "Epoch 251: val_loss did not improve from 0.60513\n",
      "349/349 [==============================] - 1s 1ms/step - loss: 0.6235 - mean_squared_error: 0.6235 - val_loss: 0.6157 - val_mean_squared_error: 0.6157\n",
      "Epoch 252/300\n",
      "313/349 [=========================>....] - ETA: 0s - loss: 0.6352 - mean_squared_error: 0.6352\n",
      "Epoch 252: val_loss did not improve from 0.60513\n",
      "349/349 [==============================] - 1s 2ms/step - loss: 0.6272 - mean_squared_error: 0.6272 - val_loss: 0.6341 - val_mean_squared_error: 0.6341\n",
      "Epoch 253/300\n",
      "321/349 [==========================>...] - ETA: 0s - loss: 0.6226 - mean_squared_error: 0.6226\n",
      "Epoch 253: val_loss did not improve from 0.60513\n",
      "349/349 [==============================] - 1s 2ms/step - loss: 0.6251 - mean_squared_error: 0.6251 - val_loss: 0.6106 - val_mean_squared_error: 0.6106\n",
      "Epoch 254/300\n",
      "322/349 [==========================>...] - ETA: 0s - loss: 0.6286 - mean_squared_error: 0.6286\n",
      "Epoch 254: val_loss did not improve from 0.60513\n",
      "349/349 [==============================] - 1s 1ms/step - loss: 0.6260 - mean_squared_error: 0.6260 - val_loss: 0.6227 - val_mean_squared_error: 0.6227\n",
      "Epoch 255/300\n",
      "327/349 [===========================>..] - ETA: 0s - loss: 0.6358 - mean_squared_error: 0.6358\n",
      "Epoch 255: val_loss did not improve from 0.60513\n",
      "349/349 [==============================] - 1s 1ms/step - loss: 0.6342 - mean_squared_error: 0.6342 - val_loss: 0.6132 - val_mean_squared_error: 0.6132\n",
      "Epoch 256/300\n",
      "316/349 [==========================>...] - ETA: 0s - loss: 0.6255 - mean_squared_error: 0.6255\n",
      "Epoch 256: val_loss did not improve from 0.60513\n",
      "349/349 [==============================] - 1s 2ms/step - loss: 0.6257 - mean_squared_error: 0.6257 - val_loss: 0.6153 - val_mean_squared_error: 0.6153\n",
      "Epoch 257/300\n",
      "322/349 [==========================>...] - ETA: 0s - loss: 0.6230 - mean_squared_error: 0.6230\n",
      "Epoch 257: val_loss did not improve from 0.60513\n",
      "349/349 [==============================] - 1s 2ms/step - loss: 0.6253 - mean_squared_error: 0.6253 - val_loss: 0.6118 - val_mean_squared_error: 0.6118\n",
      "Epoch 258/300\n",
      "310/349 [=========================>....] - ETA: 0s - loss: 0.6314 - mean_squared_error: 0.6314\n",
      "Epoch 258: val_loss did not improve from 0.60513\n",
      "349/349 [==============================] - 1s 2ms/step - loss: 0.6265 - mean_squared_error: 0.6265 - val_loss: 0.6191 - val_mean_squared_error: 0.6191\n",
      "Epoch 259/300\n",
      "314/349 [=========================>....] - ETA: 0s - loss: 0.6245 - mean_squared_error: 0.6245\n",
      "Epoch 259: val_loss did not improve from 0.60513\n",
      "349/349 [==============================] - 1s 2ms/step - loss: 0.6298 - mean_squared_error: 0.6298 - val_loss: 0.6208 - val_mean_squared_error: 0.6208\n",
      "Epoch 260/300\n",
      "348/349 [============================>.] - ETA: 0s - loss: 0.6323 - mean_squared_error: 0.6323\n",
      "Epoch 260: val_loss did not improve from 0.60513\n",
      "349/349 [==============================] - 1s 2ms/step - loss: 0.6326 - mean_squared_error: 0.6326 - val_loss: 0.6080 - val_mean_squared_error: 0.6080\n",
      "Epoch 261/300\n",
      "322/349 [==========================>...] - ETA: 0s - loss: 0.6273 - mean_squared_error: 0.6273\n",
      "Epoch 261: val_loss did not improve from 0.60513\n",
      "349/349 [==============================] - 1s 2ms/step - loss: 0.6328 - mean_squared_error: 0.6328 - val_loss: 0.6135 - val_mean_squared_error: 0.6135\n",
      "Epoch 262/300\n",
      "320/349 [==========================>...] - ETA: 0s - loss: 0.6285 - mean_squared_error: 0.6285\n",
      "Epoch 262: val_loss did not improve from 0.60513\n",
      "349/349 [==============================] - 1s 2ms/step - loss: 0.6291 - mean_squared_error: 0.6291 - val_loss: 0.6337 - val_mean_squared_error: 0.6337\n",
      "Epoch 263/300\n",
      "323/349 [==========================>...] - ETA: 0s - loss: 0.6248 - mean_squared_error: 0.6248\n",
      "Epoch 263: val_loss did not improve from 0.60513\n",
      "349/349 [==============================] - 1s 1ms/step - loss: 0.6278 - mean_squared_error: 0.6278 - val_loss: 0.6216 - val_mean_squared_error: 0.6216\n",
      "Epoch 264/300\n",
      "325/349 [==========================>...] - ETA: 0s - loss: 0.6260 - mean_squared_error: 0.6260\n",
      "Epoch 264: val_loss did not improve from 0.60513\n",
      "349/349 [==============================] - 1s 1ms/step - loss: 0.6267 - mean_squared_error: 0.6267 - val_loss: 0.6404 - val_mean_squared_error: 0.6404\n",
      "Epoch 265/300\n",
      "320/349 [==========================>...] - ETA: 0s - loss: 0.6292 - mean_squared_error: 0.6292\n",
      "Epoch 265: val_loss did not improve from 0.60513\n",
      "349/349 [==============================] - 1s 2ms/step - loss: 0.6266 - mean_squared_error: 0.6266 - val_loss: 0.6177 - val_mean_squared_error: 0.6177\n",
      "Epoch 266/300\n",
      "336/349 [===========================>..] - ETA: 0s - loss: 0.6338 - mean_squared_error: 0.6338\n",
      "Epoch 266: val_loss did not improve from 0.60513\n",
      "349/349 [==============================] - 1s 2ms/step - loss: 0.6324 - mean_squared_error: 0.6324 - val_loss: 0.6329 - val_mean_squared_error: 0.6329\n",
      "Epoch 267/300\n",
      "345/349 [============================>.] - ETA: 0s - loss: 0.6281 - mean_squared_error: 0.6281\n",
      "Epoch 267: val_loss did not improve from 0.60513\n",
      "349/349 [==============================] - 1s 2ms/step - loss: 0.6288 - mean_squared_error: 0.6288 - val_loss: 0.6113 - val_mean_squared_error: 0.6113\n",
      "Epoch 268/300\n",
      "314/349 [=========================>....] - ETA: 0s - loss: 0.6206 - mean_squared_error: 0.6206\n",
      "Epoch 268: val_loss did not improve from 0.60513\n",
      "349/349 [==============================] - 1s 2ms/step - loss: 0.6246 - mean_squared_error: 0.6246 - val_loss: 0.6070 - val_mean_squared_error: 0.6070\n",
      "Epoch 269/300\n",
      "320/349 [==========================>...] - ETA: 0s - loss: 0.6151 - mean_squared_error: 0.6151\n",
      "Epoch 269: val_loss did not improve from 0.60513\n",
      "349/349 [==============================] - 1s 2ms/step - loss: 0.6279 - mean_squared_error: 0.6279 - val_loss: 0.6246 - val_mean_squared_error: 0.6246\n",
      "Epoch 270/300\n",
      "320/349 [==========================>...] - ETA: 0s - loss: 0.6170 - mean_squared_error: 0.6170\n",
      "Epoch 270: val_loss did not improve from 0.60513\n",
      "349/349 [==============================] - 1s 2ms/step - loss: 0.6263 - mean_squared_error: 0.6263 - val_loss: 0.6052 - val_mean_squared_error: 0.6052\n",
      "Epoch 271/300\n",
      "325/349 [==========================>...] - ETA: 0s - loss: 0.6301 - mean_squared_error: 0.6301\n",
      "Epoch 271: val_loss improved from 0.60513 to 0.60453, saving model to ./tmp\\checkpoint\n"
     ]
    },
    {
     "name": "stderr",
     "output_type": "stream",
     "text": [
      "WARNING:absl:Found untraced functions such as _update_step_xla while saving (showing 1 of 1). These functions will not be directly callable after loading.\n"
     ]
    },
    {
     "name": "stdout",
     "output_type": "stream",
     "text": [
      "INFO:tensorflow:Assets written to: ./tmp\\checkpoint\\assets\n"
     ]
    },
    {
     "name": "stderr",
     "output_type": "stream",
     "text": [
      "INFO:tensorflow:Assets written to: ./tmp\\checkpoint\\assets\n"
     ]
    },
    {
     "name": "stdout",
     "output_type": "stream",
     "text": [
      "349/349 [==============================] - 1s 3ms/step - loss: 0.6250 - mean_squared_error: 0.6250 - val_loss: 0.6045 - val_mean_squared_error: 0.6045\n",
      "Epoch 272/300\n",
      "339/349 [============================>.] - ETA: 0s - loss: 0.6259 - mean_squared_error: 0.6259\n",
      "Epoch 272: val_loss did not improve from 0.60453\n",
      "349/349 [==============================] - 0s 1ms/step - loss: 0.6267 - mean_squared_error: 0.6267 - val_loss: 0.6101 - val_mean_squared_error: 0.6101\n",
      "Epoch 273/300\n",
      "344/349 [============================>.] - ETA: 0s - loss: 0.6242 - mean_squared_error: 0.6242\n",
      "Epoch 273: val_loss did not improve from 0.60453\n",
      "349/349 [==============================] - 1s 2ms/step - loss: 0.6227 - mean_squared_error: 0.6227 - val_loss: 0.6108 - val_mean_squared_error: 0.6108\n",
      "Epoch 274/300\n",
      "332/349 [===========================>..] - ETA: 0s - loss: 0.6283 - mean_squared_error: 0.6283\n",
      "Epoch 274: val_loss did not improve from 0.60453\n",
      "349/349 [==============================] - 1s 2ms/step - loss: 0.6273 - mean_squared_error: 0.6273 - val_loss: 0.6247 - val_mean_squared_error: 0.6247\n",
      "Epoch 275/300\n",
      "344/349 [============================>.] - ETA: 0s - loss: 0.6257 - mean_squared_error: 0.6257\n",
      "Epoch 275: val_loss did not improve from 0.60453\n",
      "349/349 [==============================] - 1s 2ms/step - loss: 0.6242 - mean_squared_error: 0.6242 - val_loss: 0.6121 - val_mean_squared_error: 0.6121\n",
      "Epoch 276/300\n",
      "331/349 [===========================>..] - ETA: 0s - loss: 0.6308 - mean_squared_error: 0.6308\n",
      "Epoch 276: val_loss did not improve from 0.60453\n",
      "349/349 [==============================] - 1s 2ms/step - loss: 0.6287 - mean_squared_error: 0.6287 - val_loss: 0.6258 - val_mean_squared_error: 0.6258\n",
      "Epoch 277/300\n",
      "327/349 [===========================>..] - ETA: 0s - loss: 0.6194 - mean_squared_error: 0.6194\n",
      "Epoch 277: val_loss did not improve from 0.60453\n",
      "349/349 [==============================] - 1s 2ms/step - loss: 0.6262 - mean_squared_error: 0.6262 - val_loss: 0.6202 - val_mean_squared_error: 0.6202\n",
      "Epoch 278/300\n",
      "329/349 [===========================>..] - ETA: 0s - loss: 0.6247 - mean_squared_error: 0.6247\n",
      "Epoch 278: val_loss did not improve from 0.60453\n",
      "349/349 [==============================] - 1s 2ms/step - loss: 0.6247 - mean_squared_error: 0.6247 - val_loss: 0.6132 - val_mean_squared_error: 0.6132\n",
      "Epoch 279/300\n",
      "324/349 [==========================>...] - ETA: 0s - loss: 0.6318 - mean_squared_error: 0.6318\n",
      "Epoch 279: val_loss did not improve from 0.60453\n",
      "349/349 [==============================] - 1s 2ms/step - loss: 0.6305 - mean_squared_error: 0.6305 - val_loss: 0.6306 - val_mean_squared_error: 0.6306\n",
      "Epoch 280/300\n",
      "316/349 [==========================>...] - ETA: 0s - loss: 0.6244 - mean_squared_error: 0.6244\n",
      "Epoch 280: val_loss did not improve from 0.60453\n",
      "349/349 [==============================] - 1s 2ms/step - loss: 0.6248 - mean_squared_error: 0.6248 - val_loss: 0.6092 - val_mean_squared_error: 0.6092\n",
      "Epoch 281/300\n",
      "332/349 [===========================>..] - ETA: 0s - loss: 0.6225 - mean_squared_error: 0.6225\n",
      "Epoch 281: val_loss did not improve from 0.60453\n",
      "349/349 [==============================] - 1s 2ms/step - loss: 0.6222 - mean_squared_error: 0.6222 - val_loss: 0.6179 - val_mean_squared_error: 0.6179\n",
      "Epoch 282/300\n",
      "349/349 [==============================] - ETA: 0s - loss: 0.6245 - mean_squared_error: 0.6245\n",
      "Epoch 282: val_loss did not improve from 0.60453\n",
      "349/349 [==============================] - 1s 2ms/step - loss: 0.6245 - mean_squared_error: 0.6245 - val_loss: 0.6114 - val_mean_squared_error: 0.6114\n",
      "Epoch 283/300\n",
      "342/349 [============================>.] - ETA: 0s - loss: 0.6306 - mean_squared_error: 0.6306\n",
      "Epoch 283: val_loss did not improve from 0.60453\n",
      "349/349 [==============================] - 1s 2ms/step - loss: 0.6281 - mean_squared_error: 0.6281 - val_loss: 0.6094 - val_mean_squared_error: 0.6094\n",
      "Epoch 284/300\n",
      "334/349 [===========================>..] - ETA: 0s - loss: 0.6300 - mean_squared_error: 0.6300\n",
      "Epoch 284: val_loss did not improve from 0.60453\n",
      "349/349 [==============================] - 1s 2ms/step - loss: 0.6277 - mean_squared_error: 0.6277 - val_loss: 0.6187 - val_mean_squared_error: 0.6187\n",
      "Epoch 285/300\n",
      "337/349 [===========================>..] - ETA: 0s - loss: 0.6304 - mean_squared_error: 0.6304\n",
      "Epoch 285: val_loss did not improve from 0.60453\n",
      "349/349 [==============================] - 1s 2ms/step - loss: 0.6311 - mean_squared_error: 0.6311 - val_loss: 0.6157 - val_mean_squared_error: 0.6157\n",
      "Epoch 286/300\n",
      "342/349 [============================>.] - ETA: 0s - loss: 0.6225 - mean_squared_error: 0.6225\n",
      "Epoch 286: val_loss did not improve from 0.60453\n",
      "349/349 [==============================] - 1s 2ms/step - loss: 0.6207 - mean_squared_error: 0.6207 - val_loss: 0.6242 - val_mean_squared_error: 0.6242\n",
      "Epoch 287/300\n",
      "344/349 [============================>.] - ETA: 0s - loss: 0.6260 - mean_squared_error: 0.6260\n",
      "Epoch 287: val_loss did not improve from 0.60453\n",
      "349/349 [==============================] - 1s 2ms/step - loss: 0.6264 - mean_squared_error: 0.6264 - val_loss: 0.6254 - val_mean_squared_error: 0.6254\n",
      "Epoch 288/300\n",
      "340/349 [============================>.] - ETA: 0s - loss: 0.6242 - mean_squared_error: 0.6242\n",
      "Epoch 288: val_loss did not improve from 0.60453\n",
      "349/349 [==============================] - 1s 2ms/step - loss: 0.6230 - mean_squared_error: 0.6230 - val_loss: 0.6252 - val_mean_squared_error: 0.6252\n",
      "Epoch 289/300\n",
      "349/349 [==============================] - ETA: 0s - loss: 0.6234 - mean_squared_error: 0.6234\n",
      "Epoch 289: val_loss did not improve from 0.60453\n",
      "349/349 [==============================] - 1s 2ms/step - loss: 0.6234 - mean_squared_error: 0.6234 - val_loss: 0.6108 - val_mean_squared_error: 0.6108\n",
      "Epoch 290/300\n",
      "338/349 [============================>.] - ETA: 0s - loss: 0.6215 - mean_squared_error: 0.6215\n",
      "Epoch 290: val_loss did not improve from 0.60453\n",
      "349/349 [==============================] - 1s 2ms/step - loss: 0.6218 - mean_squared_error: 0.6218 - val_loss: 0.6153 - val_mean_squared_error: 0.6153\n",
      "Epoch 291/300\n",
      "345/349 [============================>.] - ETA: 0s - loss: 0.6223 - mean_squared_error: 0.6223\n",
      "Epoch 291: val_loss did not improve from 0.60453\n",
      "349/349 [==============================] - 1s 2ms/step - loss: 0.6227 - mean_squared_error: 0.6227 - val_loss: 0.6140 - val_mean_squared_error: 0.6140\n",
      "Epoch 292/300\n",
      "329/349 [===========================>..] - ETA: 0s - loss: 0.6209 - mean_squared_error: 0.6209\n",
      "Epoch 292: val_loss did not improve from 0.60453\n",
      "349/349 [==============================] - 1s 2ms/step - loss: 0.6191 - mean_squared_error: 0.6191 - val_loss: 0.6172 - val_mean_squared_error: 0.6172\n",
      "Epoch 293/300\n",
      "323/349 [==========================>...] - ETA: 0s - loss: 0.6262 - mean_squared_error: 0.6262\n",
      "Epoch 293: val_loss did not improve from 0.60453\n",
      "349/349 [==============================] - 1s 2ms/step - loss: 0.6251 - mean_squared_error: 0.6251 - val_loss: 0.6058 - val_mean_squared_error: 0.6058\n",
      "Epoch 294/300\n",
      "342/349 [============================>.] - ETA: 0s - loss: 0.6307 - mean_squared_error: 0.6307\n",
      "Epoch 294: val_loss did not improve from 0.60453\n",
      "349/349 [==============================] - 1s 2ms/step - loss: 0.6279 - mean_squared_error: 0.6279 - val_loss: 0.6196 - val_mean_squared_error: 0.6196\n",
      "Epoch 295/300\n",
      "313/349 [=========================>....] - ETA: 0s - loss: 0.6313 - mean_squared_error: 0.6313\n",
      "Epoch 295: val_loss did not improve from 0.60453\n",
      "349/349 [==============================] - 1s 2ms/step - loss: 0.6265 - mean_squared_error: 0.6265 - val_loss: 0.6101 - val_mean_squared_error: 0.6101\n",
      "Epoch 296/300\n",
      "312/349 [=========================>....] - ETA: 0s - loss: 0.6254 - mean_squared_error: 0.6254\n",
      "Epoch 296: val_loss did not improve from 0.60453\n",
      "349/349 [==============================] - 1s 2ms/step - loss: 0.6231 - mean_squared_error: 0.6231 - val_loss: 0.6112 - val_mean_squared_error: 0.6112\n",
      "Epoch 297/300\n",
      "314/349 [=========================>....] - ETA: 0s - loss: 0.6144 - mean_squared_error: 0.6144\n",
      "Epoch 297: val_loss did not improve from 0.60453\n",
      "349/349 [==============================] - 1s 2ms/step - loss: 0.6170 - mean_squared_error: 0.6170 - val_loss: 0.6161 - val_mean_squared_error: 0.6161\n",
      "Epoch 298/300\n",
      "319/349 [==========================>...] - ETA: 0s - loss: 0.6240 - mean_squared_error: 0.6240\n",
      "Epoch 298: val_loss improved from 0.60453 to 0.60425, saving model to ./tmp\\checkpoint\n"
     ]
    },
    {
     "name": "stderr",
     "output_type": "stream",
     "text": [
      "WARNING:absl:Found untraced functions such as _update_step_xla while saving (showing 1 of 1). These functions will not be directly callable after loading.\n"
     ]
    },
    {
     "name": "stdout",
     "output_type": "stream",
     "text": [
      "INFO:tensorflow:Assets written to: ./tmp\\checkpoint\\assets\n"
     ]
    },
    {
     "name": "stderr",
     "output_type": "stream",
     "text": [
      "INFO:tensorflow:Assets written to: ./tmp\\checkpoint\\assets\n"
     ]
    },
    {
     "name": "stdout",
     "output_type": "stream",
     "text": [
      "349/349 [==============================] - 1s 4ms/step - loss: 0.6264 - mean_squared_error: 0.6264 - val_loss: 0.6043 - val_mean_squared_error: 0.6043\n",
      "Epoch 299/300\n",
      "331/349 [===========================>..] - ETA: 0s - loss: 0.6233 - mean_squared_error: 0.6233\n",
      "Epoch 299: val_loss did not improve from 0.60425\n",
      "349/349 [==============================] - 1s 1ms/step - loss: 0.6241 - mean_squared_error: 0.6241 - val_loss: 0.6163 - val_mean_squared_error: 0.6163\n",
      "Epoch 300/300\n",
      "316/349 [==========================>...] - ETA: 0s - loss: 0.6216 - mean_squared_error: 0.6216\n",
      "Epoch 300: val_loss did not improve from 0.60425\n",
      "349/349 [==============================] - 1s 2ms/step - loss: 0.6298 - mean_squared_error: 0.6298 - val_loss: 0.6170 - val_mean_squared_error: 0.6170\n"
     ]
    },
    {
     "data": {
      "text/plain": [
       "<tensorflow.python.checkpoint.checkpoint.CheckpointLoadStatus at 0x27628bfcb90>"
      ]
     },
     "execution_count": 58,
     "metadata": {},
     "output_type": "execute_result"
    }
   ],
   "source": [
    "a2 = \"mean_squared_error\"\n",
    "# define the model\n",
    "# Experiment with deeper and wider networks\n",
    "model = Sequential()\n",
    "# By Sequential it means that the layers are connected one after the one before so that you have\n",
    "# a defined flow of information\n",
    "\n",
    "\n",
    "# Input layer, Dense layer meaning that the layer is connected to all the neurons to the layer before\n",
    "# kernel_initializer is the how the starting values of the parameters of your neural network (NN)\n",
    "# input_dim is the number of features of the dataset that you are feeding to your NN\n",
    "# activation function is how you introduce non linearity in your model.\n",
    "\n",
    "model.add(\n",
    "    Dense(64, kernel_initializer=\"normal\", input_dim=INPUT_DIM, activation=\"selu\")\n",
    ")\n",
    "\n",
    "# Hidden layers:\n",
    "# Dropout layer is just a layer where you drops, for example the 20% of the links between the two layers\n",
    "# that it is placed between\n",
    "model.add(Dropout(0.2))\n",
    "\n",
    "model.add(Dense(128, kernel_initializer=\"normal\", activation=\"selu\"))\n",
    "model.add(Dropout(0.2))\n",
    "model.add(Dense(64, kernel_initializer=\"normal\", activation=\"selu\"))\n",
    "model.add(Dropout(0.2))\n",
    "\n",
    "model.add(Dense(16, kernel_initializer=\"normal\", activation=\"selu\"))\n",
    "model.add(Dropout(0.2))\n",
    "\n",
    "# Output layer\n",
    "model.add(Dense(OUTPUT_DIM, kernel_initializer=\"normal\", activation=\"linear\"))\n",
    "\n",
    "# with add you can add a new layer, with pop you remove the last layer you have placed there\n",
    "\n",
    "\n",
    "# You are compiling your model, so from now on you can't change its structure. Here you specify its loss function,\n",
    "# the function that you want to minimize, the optimizer that is how you want to optimize the parameters,\n",
    "# the metrics that is another value that you can use to measure your model but you won't use it to optimize\n",
    "# the model\n",
    "model.compile(loss=a2, optimizer=\"adam\", metrics=[a2])\n",
    "# You are showing how your NN is formed\n",
    "model.summary()\n",
    "\n",
    "##Here you are defining something that is not necessary. You are defining condition by which you are saving\n",
    "# definite models. For example in that case you are specifing where do you want to place them, you are searching\n",
    "# the model where the value of the loss function over the validation set (data not seen by the model during\n",
    "# the training) is minimum. The weight of the \"best model\" by that value is saved there.\n",
    "checkpoint_name = \"./tmp/checkpoint\"\n",
    "checkpoint = ModelCheckpoint(\n",
    "    checkpoint_name, monitor=\"val_loss\", verbose=1, save_best_only=True, mode=\"min\"\n",
    ")\n",
    "callbacks_list = [checkpoint]\n",
    "# In the history you collect the important information that happens during the fit, value of loss function,\n",
    "# metrics and so on in one variable.\n",
    "# During the fit  the parameters of the NN are updated. You are specifing the training data, X and y, and either\n",
    "# you give the fit function the validation data or you give them a percentage as the validation_split, in this case 20%\n",
    "# after that you are specifing the number of epochs, meaning how many time the model has seen the same data,\n",
    "# and then the callbacks that you want to use. Notice that you can have more than one callback.\n",
    "# There are more parameters that you can implement, so take a look at them\n",
    "history = model.fit(\n",
    "    X_train_scaled, y_train_s, validation_split=0.2, epochs=300, callbacks=[checkpoint]\n",
    ")\n",
    "# After performing the training you are uploading the best model that you have saved in the callback, updating\n",
    "# the value of your parameters\n",
    "model.load_weights(checkpoint_name)"
   ]
  },
  {
   "cell_type": "code",
   "execution_count": 59,
   "id": "82bee7b5",
   "metadata": {},
   "outputs": [
    {
     "data": {
      "image/png": "[encoded data removed]",
      "text/plain": [
       "<Figure size 640x480 with 1 Axes>"
      ]
     },
     "metadata": {},
     "output_type": "display_data"
    },
    {
     "data": {
      "image/png": "[encoded data removed]",
      "text/plain": [
       "<Figure size 640x480 with 1 Axes>"
      ]
     },
     "metadata": {},
     "output_type": "display_data"
    },
    {
     "name": "stdout",
     "output_type": "stream",
     "text": [
      "187/187 [==============================] - 0s 766us/step\n",
      "Predicted values are:  [[28.79714 ]\n",
      " [50.46693 ]\n",
      " [30.204407]\n",
      " ...\n",
      " [29.032244]\n",
      " [57.86788 ]\n",
      " [24.768372]]\n",
      "Real values are:  ts\n",
      "2022-10-11 23:00:00+00:00    32.0\n",
      "2023-02-28 22:00:00+00:00    59.0\n",
      "2022-10-30 07:00:00+00:00    17.0\n",
      "2022-10-01 19:00:00+00:00    34.0\n",
      "2021-06-01 04:00:00+00:00    51.0\n",
      "                             ... \n",
      "2021-04-12 03:00:00+00:00    36.0\n",
      "2021-07-17 12:00:00+00:00    29.0\n",
      "2021-04-15 22:00:00+00:00    28.0\n",
      "2023-01-14 07:00:00+00:00    50.0\n",
      "2021-07-17 02:00:00+00:00    14.0\n",
      "Name: Biossido di Azoto, Length: 5983, dtype: float64\n"
     ]
    },
    {
     "data": {
      "image/png": "[encoded data removed]",
      "text/plain": [
       "<Figure size 640x480 with 1 Axes>"
      ]
     },
     "metadata": {},
     "output_type": "display_data"
    }
   ],
   "source": [
    "# plot the training and validation accuracy and loss at each epoch\n",
    "loss = history.history[\"loss\"]\n",
    "val_loss = history.history[\"val_loss\"]\n",
    "epochs = range(1, len(loss) + 1)\n",
    "plt.plot(epochs, loss, \"y\", label=\"Training loss\")\n",
    "plt.plot(epochs, val_loss, \"r\", label=\"Validation loss\")\n",
    "plt.title(\"Training and validation loss\")\n",
    "plt.xlabel(\"Epochs\")\n",
    "plt.ylabel(\"Loss\")\n",
    "plt.legend()\n",
    "plt.show()\n",
    "\n",
    "\n",
    "acc = history.history[\"mean_squared_error\"]\n",
    "val_acc = history.history[\"val_mean_squared_error\"]\n",
    "plt.plot(epochs, acc, \"y\", label=\"Training MAE\")\n",
    "plt.plot(epochs, val_acc, \"r\", label=\"Validation MAE\")\n",
    "plt.title(\"Training and validation MAE\")\n",
    "plt.xlabel(\"Epochs\")\n",
    "plt.ylabel(\"Accuracy\")\n",
    "plt.legend()\n",
    "plt.show()\n",
    "\n",
    "############################################\n",
    "# Predict on test data\n",
    "predictions = model.predict(X_test_scaled)\n",
    "\n",
    "predictions = scaler.inverse_transform(predictions)\n",
    "\n",
    "y_test_ssaved = y_test_s\n",
    "y_test_s = y_test\n",
    "print(\"Predicted values are: \", predictions)\n",
    "print(\"Real values are: \", y_test_s)\n",
    "\n",
    "##############################################\n",
    "# Plot and compare prediction and real value\n",
    "t = np.arange(0, predictions.size, 1)\n",
    "plt.scatter(predictions, y_test_s, label=\"Prediction\")\n",
    "plt.scatter(y_test_s, y_test_s, label=\"Real Value\")\n",
    "plt.title(\"Prediction\")\n",
    "plt.xlabel(\"Prediction\")\n",
    "plt.ylabel(\"Real Value\")\n",
    "plt.legend()\n",
    "plt.show()"
   ]
  },
  {
   "cell_type": "code",
   "execution_count": 60,
   "id": "1bf906e5",
   "metadata": {},
   "outputs": [],
   "source": [
    "##Example of RandomForestRegressor\n",
    "\n",
    "from sklearn.ensemble import RandomForestRegressor\n",
    "from sklearn.metrics import mean_squared_error\n",
    "from sklearn.metrics import mean_absolute_error\n",
    "from sklearn.metrics import median_absolute_error\n",
    "\n",
    "from sklearn.metrics import r2_score"
   ]
  },
  {
   "cell_type": "code",
   "execution_count": 61,
   "id": "ed9ffc7c",
   "metadata": {},
   "outputs": [],
   "source": [
    "##Same thing you have done before, define an X and y from a dataset if you want to try.\n",
    "\n",
    "xtrain, xtest, ytrain, ytest = train_test_split(X, y, shuffle=True, test_size=0.20)\n",
    "scaler = MinMaxScaler()\n",
    "scaler2 = MinMaxScaler()\n",
    "scaler.fit(xtrain)\n",
    "\n",
    "X_train = scaler.transform(xtrain)\n",
    "X_test = scaler.transform(xtest)\n",
    "scaler2.fit(ytrain.values.reshape(-1, 1))\n",
    "\n",
    "y_train = scaler2.transform(ytrain.values.reshape(-1, 1))\n",
    "y_test = scaler2.transform(ytest.values.reshape(-1, 1))"
   ]
  },
  {
   "cell_type": "code",
   "execution_count": 62,
   "id": "85af19e4",
   "metadata": {},
   "outputs": [
    {
     "data": {
      "text/html": [
       "<style>#sk-container-id-2 {color: black;}#sk-container-id-2 pre{padding: 0;}#sk-container-id-2 div.sk-toggleable {background-color: white;}#sk-container-id-2 label.sk-toggleable__label {cursor: pointer;display: block;width: 100%;margin-bottom: 0;padding: 0.3em;box-sizing: border-box;text-align: center;}#sk-container-id-2 label.sk-toggleable__label-arrow:before {content: \"▸\";float: left;margin-right: 0.25em;color: #696969;}#sk-container-id-2 label.sk-toggleable__label-arrow:hover:before {color: black;}#sk-container-id-2 div.sk-estimator:hover label.sk-toggleable__label-arrow:before {color: black;}#sk-container-id-2 div.sk-toggleable__content {max-height: 0;max-width: 0;overflow: hidden;text-align: left;background-color: #f0f8ff;}#sk-container-id-2 div.sk-toggleable__content pre {margin: 0.2em;color: black;border-radius: 0.25em;background-color: #f0f8ff;}#sk-container-id-2 input.sk-toggleable__control:checked~div.sk-toggleable__content {max-height: 200px;max-width: 100%;overflow: auto;}#sk-container-id-2 input.sk-toggleable__control:checked~label.sk-toggleable__label-arrow:before {content: \"▾\";}#sk-container-id-2 div.sk-estimator input.sk-toggleable__control:checked~label.sk-toggleable__label {background-color: #d4ebff;}#sk-container-id-2 div.sk-label input.sk-toggleable__control:checked~label.sk-toggleable__label {background-color: #d4ebff;}#sk-container-id-2 input.sk-hidden--visually {border: 0;clip: rect(1px 1px 1px 1px);clip: rect(1px, 1px, 1px, 1px);height: 1px;margin: -1px;overflow: hidden;padding: 0;position: absolute;width: 1px;}#sk-container-id-2 div.sk-estimator {font-family: monospace;background-color: #f0f8ff;border: 1px dotted black;border-radius: 0.25em;box-sizing: border-box;margin-bottom: 0.5em;}#sk-container-id-2 div.sk-estimator:hover {background-color: #d4ebff;}#sk-container-id-2 div.sk-parallel-item::after {content: \"\";width: 100%;border-bottom: 1px solid gray;flex-grow: 1;}#sk-container-id-2 div.sk-label:hover label.sk-toggleable__label {background-color: #d4ebff;}#sk-container-id-2 div.sk-serial::before {content: \"\";position: absolute;border-left: 1px solid gray;box-sizing: border-box;top: 0;bottom: 0;left: 50%;z-index: 0;}#sk-container-id-2 div.sk-serial {display: flex;flex-direction: column;align-items: center;background-color: white;padding-right: 0.2em;padding-left: 0.2em;position: relative;}#sk-container-id-2 div.sk-item {position: relative;z-index: 1;}#sk-container-id-2 div.sk-parallel {display: flex;align-items: stretch;justify-content: center;background-color: white;position: relative;}#sk-container-id-2 div.sk-item::before, #sk-container-id-2 div.sk-parallel-item::before {content: \"\";position: absolute;border-left: 1px solid gray;box-sizing: border-box;top: 0;bottom: 0;left: 50%;z-index: -1;}#sk-container-id-2 div.sk-parallel-item {display: flex;flex-direction: column;z-index: 1;position: relative;background-color: white;}#sk-container-id-2 div.sk-parallel-item:first-child::after {align-self: flex-end;width: 50%;}#sk-container-id-2 div.sk-parallel-item:last-child::after {align-self: flex-start;width: 50%;}#sk-container-id-2 div.sk-parallel-item:only-child::after {width: 0;}#sk-container-id-2 div.sk-dashed-wrapped {border: 1px dashed gray;margin: 0 0.4em 0.5em 0.4em;box-sizing: border-box;padding-bottom: 0.4em;background-color: white;}#sk-container-id-2 div.sk-label label {font-family: monospace;font-weight: bold;display: inline-block;line-height: 1.2em;}#sk-container-id-2 div.sk-label-container {text-align: center;}#sk-container-id-2 div.sk-container {/* jupyter's `normalize.less` sets `[hidden] { display: none; }` but bootstrap.min.css set `[hidden] { display: none !important; }` so we also need the `!important` here to be able to override the default hidden behavior on the sphinx rendered scikit-learn.org. See: https://github.com/scikit-learn/scikit-learn/issues/21755 */display: inline-block !important;position: relative;}#sk-container-id-2 div.sk-text-repr-fallback {display: none;}</style><div id=\"sk-container-id-2\" class=\"sk-top-container\"><div class=\"sk-text-repr-fallback\"><pre>RandomForestRegressor(criterion=&#x27;mse&#x27;, max_depth=10, max_features=3,\n",
       "                      max_samples=0.1, min_samples_leaf=0.01)</pre><b>In a Jupyter environment, please rerun this cell to show the HTML representation or trust the notebook. <br />On GitHub, the HTML representation is unable to render, please try loading this page with nbviewer.org.</b></div><div class=\"sk-container\" hidden><div class=\"sk-item\"><div class=\"sk-estimator sk-toggleable\"><input class=\"sk-toggleable__control sk-hidden--visually\" id=\"sk-estimator-id-2\" type=\"checkbox\" checked><label for=\"sk-estimator-id-2\" class=\"sk-toggleable__label sk-toggleable__label-arrow\">RandomForestRegressor</label><div class=\"sk-toggleable__content\"><pre>RandomForestRegressor(criterion=&#x27;mse&#x27;, max_depth=10, max_features=3,\n",
       "                      max_samples=0.1, min_samples_leaf=0.01)</pre></div></div></div></div></div>"
      ],
      "text/plain": [
       "RandomForestRegressor(criterion='mse', max_depth=10, max_features=3,\n",
       "                      max_samples=0.1, min_samples_leaf=0.01)"
      ]
     },
     "execution_count": 62,
     "metadata": {},
     "output_type": "execute_result"
    }
   ],
   "source": [
    "rfr = RandomForestRegressor()\n",
    "\n",
    "\n",
    "# Here are some hyperparameter of your regressor, it's a bit better and easier to look up at what the difference\n",
    "# parameter does. All of this hyperparameter can be optimized using the validation data.\n",
    "RandomForestRegressor(\n",
    "    bootstrap=True,\n",
    "    ccp_alpha=0.0,\n",
    "    criterion=\"mse\",\n",
    "    max_depth=10,\n",
    "    max_features=3,\n",
    "    max_leaf_nodes=None,\n",
    "    max_samples=0.1,\n",
    "    min_impurity_decrease=0.0,\n",
    "    min_samples_leaf=0.01,\n",
    "    min_samples_split=2,\n",
    "    min_weight_fraction_leaf=0.0,\n",
    "    n_estimators=100,\n",
    "    n_jobs=None,\n",
    "    oob_score=False,\n",
    "    random_state=None,\n",
    "    verbose=0,\n",
    "    warm_start=False,\n",
    ")"
   ]
  },
  {
   "cell_type": "code",
   "execution_count": 63,
   "id": "89954853",
   "metadata": {},
   "outputs": [
    {
     "name": "stderr",
     "output_type": "stream",
     "text": [
      "c:\\Users\\lucag\\AppData\\Local\\Programs\\Python\\Python311\\Lib\\site-packages\\sklearn\\base.py:1151: DataConversionWarning: A column-vector y was passed when a 1d array was expected. Please change the shape of y to (n_samples,), for example using ravel().\n",
      "  return fit_method(estimator, *args, **kwargs)\n"
     ]
    },
    {
     "name": "stdout",
     "output_type": "stream",
     "text": [
      "R-squared: 0.9277268879140622\n",
      "MSE:  0.0077020329930657504\n",
      "RMSE:  0.0038510164965328752\n"
     ]
    },
    {
     "data": {
      "text/plain": [
       "<matplotlib.collections.PathCollection at 0x27685d0c1d0>"
      ]
     },
     "execution_count": 63,
     "metadata": {},
     "output_type": "execute_result"
    },
    {
     "data": {
      "image/png": "[encoded data removed]",
      "text/plain": [
       "<Figure size 640x480 with 1 Axes>"
      ]
     },
     "metadata": {},
     "output_type": "display_data"
    }
   ],
   "source": [
    "# fit of the RandomForestRegressor\n",
    "\n",
    "rfr.fit(X_train, y_train.reshape(-1, 1))\n",
    "# evaluation of its performance by the R-squared\n",
    "\n",
    "score = rfr.score(X_train, y_train.reshape(-1, 1))\n",
    "print(\"R-squared:\", score)\n",
    "\n",
    "ypred = rfr.predict(X_test)\n",
    "# evaluation of its performance by the mean_squared_error\n",
    "\n",
    "mse = mean_squared_error(y_test, ypred)\n",
    "print(\"MSE: \", mse)\n",
    "print(\"RMSE: \", mse * (1 / 2.0))\n",
    "\n",
    "plt.scatter(ytest, ypred)\n",
    "plt.scatter(ytest, ytest)"
   ]
  }
 ],
 "metadata": {
  "kernelspec": {
   "display_name": "Python 3 (ipykernel)",
   "language": "python",
   "name": "python3"
  },
  "language_info": {
   "codemirror_mode": {
    "name": "ipython",
    "version": 3
   },
   "file_extension": ".py",
   "mimetype": "text/x-python",
   "name": "python",
   "nbconvert_exporter": "python",
   "pygments_lexer": "ipython3",
   "version": "3.11.4"
  }
 },
 "nbformat": 4,
 "nbformat_minor": 5
}
